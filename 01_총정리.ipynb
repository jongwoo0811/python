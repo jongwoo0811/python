{
 "cells": [
  {
   "cell_type": "code",
   "execution_count": 1,
   "metadata": {},
   "outputs": [],
   "source": [
    "import pandas as pd"
   ]
  },
  {
   "attachments": {},
   "cell_type": "markdown",
   "metadata": {},
   "source": [
    "변수\n",
    "- 데이터를 저장하는 공간의 이름\n",
    "\n",
    "    - 전역변수 -> 어디서든 사용할 수 있는 변수\n",
    "    - 지역변수 -> 특정한 영역에서 사용할 수 있는 변수 / 영역을 벗어나면 사용이 불가능\n",
    "    - 매개변수 -> 함수에서 특정한 인자값을 받아오기 위한 변수\n",
    "    - class변수 ->하나의 class에서 독립적이지 않고 공유하는 변수"
   ]
  },
  {
   "attachments": {},
   "cell_type": "markdown",
   "metadata": {},
   "source": [
    "경로 (절대경로 / 상대경로)\n",
    "- 절대 경로\n",
    "    - 절대적인 주소\n",
    "    - 환경에 상관없이 고정된 위치를 표현\n",
    "    - ex) pd.read_csv(\"C:\\\\users\\\\dpocumnetn\"), \"http://www,gogowogdf.com\"\n",
    "- 상대 경로  \n",
    "    - 상대적인 경로 \n",
    "    - 환경에 따라서 주소가 변화\n",
    "    - 현재 직업인 디렉토리에서 이동\n",
    "    - ex) pd.read_csv(\"../csv/Sales Records.csv\")\n",
    "        - 현재 디렉토리 : ./\n",
    "        - 상위 디렉토리 : ../\n",
    "        - 하위 디렉토리 : ./폴더명/\n",
    "        - 상위에서 상위로 한번도 이동 : ../../ "
   ]
  },
  {
   "cell_type": "code",
   "execution_count": null,
   "metadata": {},
   "outputs": [],
   "source": [
    "df= pd.read_csv(\"../csv/Sales Records.csv\")"
   ]
  },
  {
   "cell_type": "code",
   "execution_count": null,
   "metadata": {},
   "outputs": [],
   "source": [
    "# 결측치를 확인하는 방법\n",
    "# - isna().sum() -> 결측치의 개수를 확인(결측치인 경우에는 True, 아닌경우에는 False).sum으로 합을 계산\n",
    "df.isna().sum()\n",
    "# - info()를 통해서  데이터의 개수를 확인 \n",
    "df.info()"
   ]
  },
  {
   "cell_type": "code",
   "execution_count": null,
   "metadata": {},
   "outputs": [],
   "source": [
    "# 데이터프레임에서 통계 요약정보를 확인하는 함수\n",
    "df.describe()\n",
    "# 데이터의 개수 ,평균 값, 표준편차, 최소값, 최대값, 1사분위, 중앙값, 3사분위, 값을 확인가능\n",
    "# 데이터의 형태가 숫자의 형태여야 출력"
   ]
  },
  {
   "attachments": {},
   "cell_type": "markdown",
   "metadata": {},
   "source": [
    " 특정 컬럼이나 인덱스 삭제\n",
    "df.drop()\n",
    " drop(조건, axis= 0/1, inplace = bool) bool은 T/F 형태\n",
    " inplace 속성은 True : 기준이 되는 데이터프레임 변경 (변경값으로 저장 o)\n",
    "                False: 기준이 되는 데이터프레임으로 변경하지 않는다(저장 x)"
   ]
  },
  {
   "cell_type": "code",
   "execution_count": null,
   "metadata": {},
   "outputs": [],
   "source": [
    "# 특정한 컬럼만 출력\n",
    "df = df[['a','b','c','d'...etc]]\n",
    "# 컬럼 이름 변경\n",
    "df.columns=['x','x','x','x...'etc]\n",
    "# 특정한 컬럼만 이름을 변경\n",
    "df = df.rename(columns={'a':'b'})"
   ]
  },
  {
   "attachments": {},
   "cell_type": "markdown",
   "metadata": {},
   "source": [
    "그룹화\n",
    "- groupby()\n",
    "    use_weekday.groupby('customer_id').max()[['weekday','count']]\n",
    "    -> 커스터머 아이디를 기준으로 weekday와 count들의 max값을 모아 그룹화한다\n",
    " - pivot_table()"
   ]
  },
  {
   "attachments": {},
   "cell_type": "markdown",
   "metadata": {},
   "source": [
    "인덱스를 이동하는 함수\n",
    "    shift(n)\n",
    "    -   인덱스를 n만큼 이동\n",
    "    -   기본 값은 1\n",
    "\n",
    "값의 차이를 출력하는 함수\n",
    "    diff()\n",
    "ex) df['총원가'].diff = 전 값과의 차이를 출력\n",
    "\n",
    "결측치를 다른 값으로 대체하는 함수\n",
    "    fillna(n, method =?)\n",
    "        -n을 지정하면 해당하는 값으로 결측치가 대체\n",
    "        -method 속성 : ffill, bfill\n",
    "            ffill: 전의 행의 값이 존재하면 그 값으로 대체\n",
    "            bfill: 후의 해의 값이 존재하면 그 값으로 대체"
   ]
  },
  {
   "attachments": {},
   "cell_type": "markdown",
   "metadata": {},
   "source": [
    "데이터프레임에서 각 항목들의 데이터를 변환 시켜주는 함수\n",
    "    apply()\n",
    "    - 표의 형태의 각 셀의 값 -> apply(연산) -> 연산 안에 각 셀의 값을 넣어서 변환\n",
    "    \n",
    "    apply()와 자주 쓰는 함수\n",
    "    lambda() = 함수를 선언과 동시에 호출하는 함수\n",
    "\n",
    "리스트, 튜플의 형태의 데이터를 각 항목들을 변환 시켜주는 함수\n",
    "    map()"
   ]
  },
  {
   "attachments": {},
   "cell_type": "markdown",
   "metadata": {},
   "source": [
    "데이터프레임의 결합\n",
    "    concat()\n",
    "    - axis 속성 0,1 행을 결합을 할지, 열을 결합을 할지 지정\n",
    "    단순하게 데이터프레임을 결합\n",
    "\n",
    "    merge()\n",
    "    - 특정한 조건을 기준으로 하여 데이터프레임을 결합\n",
    "    - on 속성에서 합쳐질 데이터프레임의 조건을 넣어주는 부분(컬럼의 이름)\n",
    "    조건에 맞는 컬럼의 값을 넣어준다\n",
    "    how 속성\n",
    "        - left : 왼쪽을 기준으로 결합\n",
    "        - right : 오른쪽을 기준으로 결합\n",
    "        - inner : 교집합\n",
    "        - outer : 합집합"
   ]
  },
  {
   "attachments": {},
   "cell_type": "markdown",
   "metadata": {},
   "source": [
    "시계열 데이터로 변경\n",
    "    to_datetime(데이터, format= \"%%%\")\n",
    "    - 해당하는 데이터를 시계열 데이터로 변환\n",
    "    - format의 속성은 변경 시키려는 데이터의 구성을 대입"
   ]
  },
  {
   "attachments": {},
   "cell_type": "markdown",
   "metadata": {},
   "source": [
    "함수(행동)\n",
    "- 반복적인 코드가 실행이 되야되는 경우 코드를 반복해서사용하면 코드 라인이 증가하고 가독성이 하락\n",
    "- 코드가 길어짐으로써 에러가 발생할 확률이 증가\n",
    "- def 키워드를 이용하여 함수를 선언"
   ]
  }
 ],
 "metadata": {
  "kernelspec": {
   "display_name": "Python 3",
   "language": "python",
   "name": "python3"
  },
  "language_info": {
   "codemirror_mode": {
    "name": "ipython",
    "version": 3
   },
   "file_extension": ".py",
   "mimetype": "text/x-python",
   "name": "python",
   "nbconvert_exporter": "python",
   "pygments_lexer": "ipython3",
   "version": "3.11.2"
  },
  "orig_nbformat": 4
 },
 "nbformat": 4,
 "nbformat_minor": 2
}
