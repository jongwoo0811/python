{
 "cells": [
  {
   "cell_type": "code",
   "execution_count": 22,
   "metadata": {},
   "outputs": [],
   "source": [
    "#라이브러리 로드\n",
    "import pandas as pd"
   ]
  },
  {
   "cell_type": "code",
   "execution_count": 23,
   "metadata": {},
   "outputs": [],
   "source": [
    "# 스리즈 형태 데이터를 생성\n",
    "pd_list = pd.Series([5000,6000,65000,65000],\n",
    "                    index=['아메리카노','카페라떼','카페모카','카푸치노'])"
   ]
  },
  {
   "cell_type": "code",
   "execution_count": 24,
   "metadata": {},
   "outputs": [
    {
     "name": "stdout",
     "output_type": "stream",
     "text": [
      "아메리카노     5000\n",
      "카페라떼      6000\n",
      "카페모카     65000\n",
      "카푸치노     65000\n",
      "dtype: int64\n"
     ]
    }
   ],
   "source": [
    "print(pd_list)"
   ]
  },
  {
   "cell_type": "code",
   "execution_count": 25,
   "metadata": {},
   "outputs": [
    {
     "name": "stdout",
     "output_type": "stream",
     "text": [
      "스리즈 형태의 데이터에서 index의 값은 : Index(['아메리카노', '카페라떼', '카페모카', '카푸치노'], dtype='object')\n",
      "스리즈 형태의 데이터에서 value의 값은 : [ 5000  6000 65000 65000]\n"
     ]
    }
   ],
   "source": [
    "print('스리즈 형태의 데이터에서 index의 값은 :', pd_list.index)\n",
    "print('스리즈 형태의 데이터에서 value의 값은 :', pd_list.values)"
   ]
  },
  {
   "cell_type": "code",
   "execution_count": 26,
   "metadata": {},
   "outputs": [
    {
     "data": {
      "text/html": [
       "<div>\n",
       "<style scoped>\n",
       "    .dataframe tbody tr th:only-of-type {\n",
       "        vertical-align: middle;\n",
       "    }\n",
       "\n",
       "    .dataframe tbody tr th {\n",
       "        vertical-align: top;\n",
       "    }\n",
       "\n",
       "    .dataframe thead th {\n",
       "        text-align: right;\n",
       "    }\n",
       "</style>\n",
       "<table border=\"1\" class=\"dataframe\">\n",
       "  <thead>\n",
       "    <tr style=\"text-align: right;\">\n",
       "      <th></th>\n",
       "      <th>A</th>\n",
       "      <th>B</th>\n",
       "      <th>C</th>\n",
       "    </tr>\n",
       "  </thead>\n",
       "  <tbody>\n",
       "    <tr>\n",
       "      <th>a</th>\n",
       "      <td>1</td>\n",
       "      <td>2</td>\n",
       "      <td>3</td>\n",
       "    </tr>\n",
       "    <tr>\n",
       "      <th>b</th>\n",
       "      <td>4</td>\n",
       "      <td>5</td>\n",
       "      <td>6</td>\n",
       "    </tr>\n",
       "    <tr>\n",
       "      <th>c</th>\n",
       "      <td>7</td>\n",
       "      <td>8</td>\n",
       "      <td>9</td>\n",
       "    </tr>\n",
       "  </tbody>\n",
       "</table>\n",
       "</div>"
      ],
      "text/plain": [
       "   A  B  C\n",
       "a  1  2  3\n",
       "b  4  5  6\n",
       "c  7  8  9"
      ]
     },
     "execution_count": 26,
     "metadata": {},
     "output_type": "execute_result"
    }
   ],
   "source": [
    "#2차원 데이터셋\n",
    "#데이터 프레임 생성\n",
    "_value = [[1,2,3],[4,5,6],[7,8,9]]\n",
    "_index = ['a','b','c']\n",
    "_column = ['A','B','C']\n",
    "\n",
    "df= pd.DataFrame(_value,index = _index, columns = _column)\n",
    "df"
   ]
  },
  {
   "cell_type": "code",
   "execution_count": 27,
   "metadata": {},
   "outputs": [
    {
     "name": "stdout",
     "output_type": "stream",
     "text": [
      "데이터프레임의 인덱스의 값 Index(['a', 'b', 'c'], dtype='object')\n",
      "데이터프레임의 컬럼의 값 Index(['A', 'B', 'C'], dtype='object')\n",
      "데이터프레임의 벨류의 값 [[1 2 3]\n",
      " [4 5 6]\n",
      " [7 8 9]]\n"
     ]
    }
   ],
   "source": [
    "print(\"데이터프레임의 인덱스의 값\",df.index)\n",
    "print(\"데이터프레임의 컬럼의 값\", df.columns)\n",
    "print(\"데이터프레임의 벨류의 값\", df.values)\n"
   ]
  },
  {
   "cell_type": "code",
   "execution_count": 28,
   "metadata": {},
   "outputs": [
    {
     "name": "stdout",
     "output_type": "stream",
     "text": [
      "{'name': ['test1', 'test2', 'test3'], 'age': [20, 30, 25], 'phone': ['010123456789', '01078945613', '010879546213']}\n"
     ]
    }
   ],
   "source": [
    "# 딕셔너리 형태의 데이터를 가지고 dataframe 생성\n",
    "_value ={\n",
    "    \"name\" : [\"test1\",\"test2\",'test3'],\n",
    "    \"age\" : [20,30,25],\n",
    "    \"phone\" : [\"010123456789\",\"01078945613\",\"010879546213\"]\n",
    "}\n",
    "print(_value)"
   ]
  },
  {
   "cell_type": "code",
   "execution_count": 29,
   "metadata": {},
   "outputs": [
    {
     "data": {
      "text/html": [
       "<div>\n",
       "<style scoped>\n",
       "    .dataframe tbody tr th:only-of-type {\n",
       "        vertical-align: middle;\n",
       "    }\n",
       "\n",
       "    .dataframe tbody tr th {\n",
       "        vertical-align: top;\n",
       "    }\n",
       "\n",
       "    .dataframe thead th {\n",
       "        text-align: right;\n",
       "    }\n",
       "</style>\n",
       "<table border=\"1\" class=\"dataframe\">\n",
       "  <thead>\n",
       "    <tr style=\"text-align: right;\">\n",
       "      <th></th>\n",
       "      <th>name</th>\n",
       "      <th>age</th>\n",
       "      <th>phone</th>\n",
       "    </tr>\n",
       "  </thead>\n",
       "  <tbody>\n",
       "    <tr>\n",
       "      <th>0</th>\n",
       "      <td>test1</td>\n",
       "      <td>20</td>\n",
       "      <td>010123456789</td>\n",
       "    </tr>\n",
       "    <tr>\n",
       "      <th>1</th>\n",
       "      <td>test2</td>\n",
       "      <td>30</td>\n",
       "      <td>01078945613</td>\n",
       "    </tr>\n",
       "    <tr>\n",
       "      <th>2</th>\n",
       "      <td>test3</td>\n",
       "      <td>25</td>\n",
       "      <td>010879546213</td>\n",
       "    </tr>\n",
       "  </tbody>\n",
       "</table>\n",
       "</div>"
      ],
      "text/plain": [
       "    name  age         phone\n",
       "0  test1   20  010123456789\n",
       "1  test2   30   01078945613\n",
       "2  test3   25  010879546213"
      ]
     },
     "execution_count": 29,
     "metadata": {},
     "output_type": "execute_result"
    }
   ],
   "source": [
    "df2=pd.DataFrame(_value)\n",
    "df2"
   ]
  },
  {
   "cell_type": "code",
   "execution_count": 21,
   "metadata": {},
   "outputs": [
    {
     "data": {
      "text/plain": [
       "0    test1\n",
       "1    test2\n",
       "2    test3\n",
       "Name: name, dtype: object"
      ]
     },
     "execution_count": 21,
     "metadata": {},
     "output_type": "execute_result"
    }
   ],
   "source": [
    "df2['name']"
   ]
  },
  {
   "attachments": {},
   "cell_type": "markdown",
   "metadata": {},
   "source": [
    "### 경로\n",
    "1. 절대 경로\n",
    "    - 절대적인 주소? -> 환경이 바뀌더라도 다 같은 위치를 지정하는 절대적인 경로\n",
    "    - ex) c:/users/user/document/a.txt, 인터넷 url\n",
    "2. 상대 경로\n",
    "    - 상대적인 경로\n",
    "    - 환경에 따라 위치가 달라진다.\n",
    "    - ./ : 현재 파일의 경로\n",
    "    - ../ : 현재 경로에서 상위 폴더로 이동\n",
    "    - 폴더명/ : 해당하는 하위 폴더로 이동"
   ]
  },
  {
   "cell_type": "code",
   "execution_count": null,
   "metadata": {},
   "outputs": [],
   "source": []
  }
 ],
 "metadata": {
  "kernelspec": {
   "display_name": "Python 3",
   "language": "python",
   "name": "python3"
  },
  "language_info": {
   "codemirror_mode": {
    "name": "ipython",
    "version": 3
   },
   "file_extension": ".py",
   "mimetype": "text/x-python",
   "name": "python",
   "nbconvert_exporter": "python",
   "pygments_lexer": "ipython3",
   "version": "3.11.2"
  },
  "orig_nbformat": 4
 },
 "nbformat": 4,
 "nbformat_minor": 2
}
