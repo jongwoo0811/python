{
 "cells": [
  {
   "cell_type": "code",
   "execution_count": null,
   "metadata": {},
   "outputs": [],
   "source": [
    "import pandas as pd"
   ]
  },
  {
   "cell_type": "code",
   "execution_count": null,
   "metadata": {},
   "outputs": [],
   "source": [
    "uriage = pd.read_csv(\"../csv/uriage.csv\")\n",
    "uriage.head()"
   ]
  },
  {
   "cell_type": "code",
   "execution_count": null,
   "metadata": {},
   "outputs": [],
   "source": [
    "uriage.isna().sum()"
   ]
  },
  {
   "cell_type": "code",
   "execution_count": null,
   "metadata": {},
   "outputs": [],
   "source": [
    "# 시계열 데이터로 데이터의 형태를 변경\n",
    "# pd.to_datetime(변경할 데이터, format = \"\")\n",
    "t = '04/05/05'\n",
    "pd.to_datetime(t, format=\"%y/%m/%d\")"
   ]
  },
  {
   "cell_type": "code",
   "execution_count": null,
   "metadata": {},
   "outputs": [],
   "source": [
    "# purchase_date 컬럼을 시계열로 변경\n",
    "uriage['purchase_date']\n",
    "uriage['purchase_date'] = pd.to_datetime(uriage['purchase_date'], \n",
    "                format = '%Y-%m-%d %H:%M')"
   ]
  },
  {
   "cell_type": "code",
   "execution_count": null,
   "metadata": {},
   "outputs": [],
   "source": [
    "# 원본데이터를 생성\n",
    "origin_data = uriage.copy()"
   ]
  },
  {
   "cell_type": "code",
   "execution_count": null,
   "metadata": {},
   "outputs": [],
   "source": [
    "origin_data"
   ]
  },
  {
   "cell_type": "code",
   "execution_count": null,
   "metadata": {},
   "outputs": [],
   "source": [
    "uriage.drop(\"item_name\", axis=1, inplace=True)\n",
    "uriage.head(1)"
   ]
  },
  {
   "cell_type": "code",
   "execution_count": null,
   "metadata": {},
   "outputs": [],
   "source": [
    "\n",
    "uriage = origin_data.copy()"
   ]
  },
  {
   "cell_type": "code",
   "execution_count": null,
   "metadata": {},
   "outputs": [],
   "source": [
    "uriage.info()"
   ]
  },
  {
   "cell_type": "code",
   "execution_count": null,
   "metadata": {},
   "outputs": [],
   "source": [
    "#item_name 컬럼의 데이터를 모두 대문자로 변경\n",
    "# upper(): 문자열을 모두 대문자로 변환\n",
    "# str.upper() 사용하여 문자열을 대문자로 변경하는 방식  \n",
    "uriage['item_name'] = uriage['item_name'].str.upper()"
   ]
  },
  {
   "cell_type": "code",
   "execution_count": null,
   "metadata": {},
   "outputs": [],
   "source": [
    "# apply()함수를 이용하여 글자를 모두 소문자로 변경\n",
    "# apply()는 스리즈 형태 데이타.apply(함수) ---> 스리즈의 데이터들을 하나씩 함수안에 넣어서 결과값으로 새로운 스리즈형태의 데이터를 생성\n",
    "\n",
    "def change(x):\n",
    "    result = x.lower()\n",
    "    return result\n",
    "\n",
    "uriage['item_name'] = uriage['item_name'].apply(change)"
   ]
  },
  {
   "cell_type": "code",
   "execution_count": null,
   "metadata": {},
   "outputs": [],
   "source": [
    "# apply(lambda함수)\n",
    "\n",
    "uriage['item_name'] = uriage['item_name'].apply(lambda x : x.upper())"
   ]
  },
  {
   "cell_type": "code",
   "execution_count": null,
   "metadata": {},
   "outputs": [],
   "source": [
    "def change(x):\n",
    "    print(x)\n",
    "    return x\n",
    "\n",
    "uriage.apply(change)"
   ]
  },
  {
   "cell_type": "code",
   "execution_count": null,
   "metadata": {},
   "outputs": [],
   "source": [
    "# item_name에 있는 공백을 제거 한다.\n",
    "# 공백을 제거하는 함수는 strip() -> 문자열의 좌우 공백을 제거 -> 현재 데이터에서는 strip()은 사용불가 ex상 품 s이 있기 때문\n",
    "# 문자열 사이의 공백까지 제거하려면 사용할 함수의 이름은? \n",
    "# replace(기준문자열, 대체할 문자열)\n",
    "# replace(\" \", \"\")\n",
    "\n",
    "uriage['item_name'] =  uriage[\"item_name\"].str.replace(\" \",\"\")\n",
    "\n",
    "#def change(x):\n",
    "#    result = x.replace(\" \",\"\")\n",
    "#    return result\n",
    "#uriage['item_name'].apply(change)\n",
    "\n",
    "\n",
    "#uriage['item_name'].apply(lambda x : x.replace(\" \",\"\").lower())\n",
    "\n",
    "# 3개다 같은 결과값을 주는 코드\n"
   ]
  },
  {
   "cell_type": "code",
   "execution_count": null,
   "metadata": {},
   "outputs": [],
   "source": [
    "# item_name을 기준으로 오름차순 정렬\n",
    "uriage.sort_values(\"item_name\")"
   ]
  },
  {
   "cell_type": "code",
   "execution_count": null,
   "metadata": {},
   "outputs": [],
   "source": [
    "# 인덱스를 초기화 -> 기존의 인덱스는 삭제\n",
    "uriage.reset_index(drop=True, inplace= True)\n"
   ]
  },
  {
   "cell_type": "code",
   "execution_count": null,
   "metadata": {},
   "outputs": [],
   "source": [
    "uriage['item_price'].isna().value_counts()"
   ]
  },
  {
   "attachments": {},
   "cell_type": "markdown",
   "metadata": {},
   "source": [
    "1. 상품A의 item_price의 값은 결측치 중 상품이 A이면 이 값을 치환\n",
    "2. 나머지 상품들도 같은 작업을 반복"
   ]
  },
  {
   "cell_type": "code",
   "execution_count": null,
   "metadata": {},
   "outputs": [],
   "source": [
    "# 상품A의 item_price를 출력\n",
    "# 행의 조건? 결측치가 아니다, item_name이 상품A이다, \n",
    "# 열의 조건? item_price\n",
    "\n",
    "# 결측치가 아닌 조건 1\n",
    "flg_null = uriage['item_price'].isna()\n",
    "    # or\n",
    "#uriage.isna().any(1) item_price에만 결측치만 있는걸 알고 있이 때문에 할 수 있음"
   ]
  },
  {
   "cell_type": "code",
   "execution_count": null,
   "metadata": {},
   "outputs": [],
   "source": [
    "# 결측치인 값들을 출력\n",
    "uriage.loc[flg_null]"
   ]
  },
  {
   "cell_type": "code",
   "execution_count": null,
   "metadata": {},
   "outputs": [],
   "source": [
    "# item_name이 상품A인 경우만 출력하려면 \n",
    "uriage.loc[uriage['item_name'] =='상품A']"
   ]
  },
  {
   "cell_type": "code",
   "execution_count": null,
   "metadata": {},
   "outputs": [],
   "source": [
    "# 상품이A이고 item_price가 결측치인 경우\n",
    "uriage.loc[(flg_null) & (uriage['item_name'] == '상품A')]"
   ]
  },
  {
   "cell_type": "code",
   "execution_count": null,
   "metadata": {},
   "outputs": [],
   "source": [
    "# 상품A이고 item_price가 결측치가 아닌경우\n",
    "price = uriage.loc[(uriage['item_name'] == '상품A') & ~(flg_null), 'item_price'].value_counts().index[0]"
   ]
  },
  {
   "cell_type": "code",
   "execution_count": null,
   "metadata": {},
   "outputs": [],
   "source": [
    "# 결측치에 값을 치환하는 함수 \n",
    "# fillna(n) : n의 값으로 결측치를 채운다\n",
    "\n",
    "# uriage.loc[(flg_null) & (uriage['item_name'] == '상품A')].fillna(price) 결측치를 채우고자 할때\n",
    "    # or\n",
    "uriage.loc[(flg_null) & (uriage['item_name'] == '상품A'), 'item_price']= price \n",
    "# 위의 식을 price 값으로 채우겠다\n",
    " "
   ]
  },
  {
   "cell_type": "code",
   "execution_count": null,
   "metadata": {},
   "outputs": [],
   "source": [
    "# item_name의 리스트를 출력하려면 \n",
    "name_list = uriage['item_name'].unique()"
   ]
  },
  {
   "cell_type": "code",
   "execution_count": null,
   "metadata": {},
   "outputs": [],
   "source": [
    "for i in name_list:\n",
    "    # item_price의 값을 구한다.\n",
    "    # item_name이 i 와 같고 결측치가 아닌 데이터에서 price를 출력\n",
    "    price = uriage.loc[~(flg_null) & (uriage['item_name'] == i), 'item_price'].value_counts().index[0]\n",
    "    # item_name이 i와 같고 결측치인 데이터에서 item_price에 price라는 변수를 삽입\n",
    "    uriage.loc[(flg_null) & (uriage['item_name'] == i), 'item_price']= price"
   ]
  },
  {
   "cell_type": "code",
   "execution_count": null,
   "metadata": {},
   "outputs": [],
   "source": []
  }
 ],
 "metadata": {
  "kernelspec": {
   "display_name": "Python 3",
   "language": "python",
   "name": "python3"
  },
  "language_info": {
   "codemirror_mode": {
    "name": "ipython",
    "version": 3
   },
   "file_extension": ".py",
   "mimetype": "text/x-python",
   "name": "python",
   "nbconvert_exporter": "python",
   "pygments_lexer": "ipython3",
   "version": "3.11.2"
  },
  "orig_nbformat": 4
 },
 "nbformat": 4,
 "nbformat_minor": 2
}
