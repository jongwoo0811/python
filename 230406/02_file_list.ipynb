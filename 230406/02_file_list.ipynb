{
 "cells": [
  {
   "attachments": {},
   "cell_type": "markdown",
   "metadata": {},
   "source": [
    "### 특정한 경로에 있는 파일의 목록을 출력"
   ]
  },
  {
   "cell_type": "code",
   "execution_count": 152,
   "metadata": {},
   "outputs": [],
   "source": [
    "import os"
   ]
  },
  {
   "cell_type": "code",
   "execution_count": 153,
   "metadata": {},
   "outputs": [],
   "source": [
    "file_list = os.listdir(\"../csv/2017/\")"
   ]
  },
  {
   "cell_type": "code",
   "execution_count": 154,
   "metadata": {},
   "outputs": [],
   "source": [
    "import pandas as pd"
   ]
  },
  {
   "cell_type": "code",
   "execution_count": 155,
   "metadata": {},
   "outputs": [
    {
     "name": "stdout",
     "output_type": "stream",
     "text": [
      "201701_expense_list.csv\n",
      "201702_expense_list.csv\n",
      "201703_expense_list.csv\n",
      "201704_expense_list.csv\n",
      "201705_expense_list.csv\n",
      "201706_expense_list.csv\n",
      "201707_expense_list.csv\n",
      "201708_expense_list.csv\n",
      "201709_expense_list.csv\n",
      "201710_expense_list.csv\n",
      "201711_expense_list.csv\n",
      "201712_expense_list.csv\n"
     ]
    }
   ],
   "source": [
    "for i in range(1,13,1):\n",
    "    a= \"%02d\"%i\n",
    "    file = '2017'+a+'_expense_list.csv'\n",
    "    print(file)"
   ]
  },
  {
   "cell_type": "code",
   "execution_count": 156,
   "metadata": {},
   "outputs": [
    {
     "name": "stdout",
     "output_type": "stream",
     "text": [
      "<class 'pandas.core.frame.DataFrame'>\n",
      "RangeIndex: 70132 entries, 0 to 70131\n",
      "Data columns (total 20 columns):\n",
      " #   Column             Non-Null Count  Dtype  \n",
      "---  ------             --------------  -----  \n",
      " 0   nid                70132 non-null  int64  \n",
      " 1   title              70132 non-null  object \n",
      " 2   url                70132 non-null  object \n",
      " 3   dept_nm_lvl_1      70132 non-null  object \n",
      " 4   dept_nm_lvl_2      70074 non-null  object \n",
      " 5   dept_nm_lvl_3      61262 non-null  object \n",
      " 6   dept_nm_lvl_4      17939 non-null  object \n",
      " 7   dept_nm_lvl_5      3474 non-null   object \n",
      " 8   exec_yr            70132 non-null  int64  \n",
      " 9   exec_month         70132 non-null  int64  \n",
      " 10  expense_budget     3108 non-null   float64\n",
      " 11  expense_execution  2805 non-null   float64\n",
      " 12  category           1259 non-null   object \n",
      " 13  dept_nm_full       70053 non-null  object \n",
      " 14  exec_dt            70132 non-null  object \n",
      " 15  exec_loc           69360 non-null  object \n",
      " 16  exec_purpose       70110 non-null  object \n",
      " 17  target_nm          69597 non-null  object \n",
      " 18  payment_method     69929 non-null  object \n",
      " 19  exec_amount        70132 non-null  int64  \n",
      "dtypes: float64(2), int64(4), object(14)\n",
      "memory usage: 10.7+ MB\n"
     ]
    }
   ],
   "source": [
    "# read_csv()안에 들어가는 인자값을 생성\n",
    "# 상대경로 : ../csv/2017/파일명 -> 12개 출력\n",
    "# 경로에 있는 파일들을 판다스를 이용하여 데이터프레임으로 불러온다\n",
    "# concat()을 이용하여 단순하게 행을 추가하는 결합\n",
    "# 결합을 하려면 기준이 되는 데이터프레임이 존재하여야 한다.\n",
    "# 기준이 되는 데이터를 위해 비어있는 데이터를 하나 생성\n",
    "\n",
    "path = '../csv/2017/'\n",
    "file_list = os.listdir(path)\n",
    "result =pd.DataFrame()\n",
    "for i in file_list:\n",
    "    #print(path+i)\n",
    "    df = pd.read_csv(path+i)\n",
    "    result = pd.concat([result, df], axis =0, ignore_index= True)\n",
    "\n",
    "result.info()"
   ]
  },
  {
   "cell_type": "code",
   "execution_count": 157,
   "metadata": {},
   "outputs": [],
   "source": [
    "file_list = os.listdir(\"../csv/2019/\")"
   ]
  },
  {
   "cell_type": "code",
   "execution_count": 158,
   "metadata": {},
   "outputs": [
    {
     "name": "stdout",
     "output_type": "stream",
     "text": [
      "201901_expense_list.json\n",
      "201902_expense_list.json\n",
      "201903_expense_list.json\n",
      "201904_expense_list.json\n",
      "201905_expense_list.json\n",
      "201906_expense_list.json\n",
      "201907_expense_list.json\n",
      "201908_expense_list.json\n",
      "201909_expense_list.json\n",
      "201910_expense_list.json\n",
      "201911_expense_list.json\n",
      "201912_expense_list.json\n"
     ]
    }
   ],
   "source": [
    "for i in range(1,13,1):\n",
    "    a= \"%02d\"%i\n",
    "    file = '2019'+a+'_expense_list.json'\n",
    "    print(file)"
   ]
  },
  {
   "cell_type": "code",
   "execution_count": 159,
   "metadata": {},
   "outputs": [
    {
     "name": "stdout",
     "output_type": "stream",
     "text": [
      "<class 'pandas.core.frame.DataFrame'>\n",
      "RangeIndex: 74207 entries, 0 to 74206\n",
      "Data columns (total 20 columns):\n",
      " #   Column             Non-Null Count  Dtype  \n",
      "---  ------             --------------  -----  \n",
      " 0   nid                74207 non-null  int64  \n",
      " 1   title              74207 non-null  object \n",
      " 2   url                74207 non-null  object \n",
      " 3   dept_nm_lvl_1      74207 non-null  object \n",
      " 4   dept_nm_lvl_2      74207 non-null  object \n",
      " 5   dept_nm_lvl_3      74207 non-null  object \n",
      " 6   dept_nm_lvl_4      74207 non-null  object \n",
      " 7   dept_nm_lvl_5      74207 non-null  object \n",
      " 8   exec_yr            74207 non-null  int64  \n",
      " 9   exec_month         74207 non-null  int64  \n",
      " 10  expense_budget     2075 non-null   float64\n",
      " 11  expense_execution  1598 non-null   float64\n",
      " 12  category           74028 non-null  object \n",
      " 13  dept_nm_full       74207 non-null  object \n",
      " 14  exec_dt            74207 non-null  object \n",
      " 15  exec_loc           74207 non-null  object \n",
      " 16  exec_purpose       74207 non-null  object \n",
      " 17  target_nm          74207 non-null  object \n",
      " 18  payment_method     74207 non-null  object \n",
      " 19  exec_amount        74207 non-null  int64  \n",
      "dtypes: float64(2), int64(4), object(14)\n",
      "memory usage: 11.3+ MB\n"
     ]
    }
   ],
   "source": [
    "path = '../csv/2019/'\n",
    "file_list = os.listdir(path)\n",
    "result = pd.DataFrame()\n",
    "for i in file_list:\n",
    "    df = pd.read_json(path+i)\n",
    "    result = pd.concat([result, df], axis =0, ignore_index= True)\n",
    "\n",
    "result.info()"
   ]
  },
  {
   "cell_type": "code",
   "execution_count": 160,
   "metadata": {},
   "outputs": [],
   "source": [
    "file_list2 = os.listdir(\"../csv/2020/\")"
   ]
  },
  {
   "cell_type": "code",
   "execution_count": 161,
   "metadata": {},
   "outputs": [
    {
     "name": "stdout",
     "output_type": "stream",
     "text": [
      "202001_expense_list.xlsx\n",
      "202002_expense_list.xlsx\n",
      "202003_expense_list.xlsx\n",
      "202004_expense_list.xlsx\n",
      "202005_expense_list.xlsx\n",
      "202006_expense_list.xlsx\n",
      "202007_expense_list.xlsx\n",
      "202008_expense_list.xlsx\n",
      "202009_expense_list.xlsx\n",
      "202010_expense_list.xlsx\n",
      "202011_expense_list.xlsx\n",
      "202012_expense_list.xlsx\n"
     ]
    }
   ],
   "source": [
    "for i in range(1,13,1):\n",
    "    a= \"%02d\"%i\n",
    "    file = '2020'+a+'_expense_list.xlsx'\n",
    "    print(file)"
   ]
  },
  {
   "cell_type": "code",
   "execution_count": 162,
   "metadata": {},
   "outputs": [
    {
     "name": "stdout",
     "output_type": "stream",
     "text": [
      "['202001_expense_list.xlsx', '202002_expense_list.xlsx', '202003_expense_list.xlsx', '202004_expense_list.xlsx', '202005_expense_list.xlsx', '202006_expense_list.xlsx', '202007_expense_list.xlsx', '202008_expense_list.xlsx', '202009_expense_list.xlsx', '202010_expense_list.xlsx', '202011_expense_list.xlsx', '202012_expense_list.xlsx']\n",
      "202001_expense_list.xlsx\n",
      "202002_expense_list.xlsx\n",
      "202003_expense_list.xlsx\n",
      "202004_expense_list.xlsx\n",
      "202005_expense_list.xlsx\n",
      "202006_expense_list.xlsx\n",
      "202007_expense_list.xlsx\n",
      "202008_expense_list.xlsx\n",
      "202009_expense_list.xlsx\n",
      "202010_expense_list.xlsx\n",
      "202011_expense_list.xlsx\n",
      "202012_expense_list.xlsx\n",
      "<class 'pandas.core.frame.DataFrame'>\n",
      "RangeIndex: 70862 entries, 0 to 70861\n",
      "Data columns (total 21 columns):\n",
      " #   Column             Non-Null Count  Dtype  \n",
      "---  ------             --------------  -----  \n",
      " 0   nid                70862 non-null  int64  \n",
      " 1   title              70862 non-null  object \n",
      " 2   url                70862 non-null  object \n",
      " 3   dept_nm_lvl_1      70862 non-null  object \n",
      " 4   dept_nm_lvl_2      70862 non-null  object \n",
      " 5   dept_nm_lvl_3      55593 non-null  object \n",
      " 6   dept_nm_lvl_4      18992 non-null  object \n",
      " 7   dept_nm_lvl_5      1601 non-null   object \n",
      " 8   exec_yr            70862 non-null  int64  \n",
      " 9   exec_month         70862 non-null  int64  \n",
      " 10  expense_budget     1823 non-null   float64\n",
      " 11  expense_execution  1338 non-null   float64\n",
      " 12  category           2123 non-null   object \n",
      " 13  dept_nm_full       70862 non-null  object \n",
      " 14  exec_dt            70862 non-null  object \n",
      " 15  exec_loc           70278 non-null  object \n",
      " 16  exec_purpose       70862 non-null  object \n",
      " 17  target_nm          70488 non-null  object \n",
      " 18  payment_method     70862 non-null  object \n",
      " 19  exec_amount        70862 non-null  int64  \n",
      " 20  bimok              283 non-null    object \n",
      "dtypes: float64(2), int64(4), object(15)\n",
      "memory usage: 11.4+ MB\n"
     ]
    }
   ],
   "source": [
    "path = '../csv/2020/'\n",
    "file_list = os.listdir(path)\n",
    "print(file_list)\n",
    "result = pd.DataFrame()\n",
    "\n",
    "for i in file_list:\n",
    "    print(i)\n",
    "    df = pd.read_excel(path+i)\n",
    "    result = pd.concat([result, df], axis =0, ignore_index= True)\n",
    "\n",
    "result.info()"
   ]
  },
  {
   "cell_type": "code",
   "execution_count": 163,
   "metadata": {},
   "outputs": [
    {
     "name": "stdout",
     "output_type": "stream",
     "text": [
      "202202_expense_list.json\n",
      "202203_expense_list.json\n",
      "202204_expense_list.json\n",
      "202205_expense_list.json\n"
     ]
    }
   ],
   "source": [
    "file_list = os.listdir(\"../csv/2022/\")\n",
    "a= '.json'\n",
    "for i in file_list :\n",
    "   if i.endswith(a): # 끝단어가 a면 true 아니면 False 출력\n",
    "      print(i)"
   ]
  },
  {
   "cell_type": "code",
   "execution_count": 164,
   "metadata": {},
   "outputs": [],
   "source": [
    "# 함수의 형태로 폴다에 있는 파일들을 결합하는 함수 생성\n",
    "def list_load(_dir, _end):\n",
    "    # 매개변수 2개 생성 : _dir -> 파일의 경로\n",
    "    #                    _end -> 파일의 확장자\n",
    "    if ~(_dir.endswith(\"/\")):\n",
    "        _dir = _dir+\"/\"\n",
    "    \n",
    "    if _end[0] != \".\":\n",
    "        _end =\".\" +_end\n",
    "    #print(_dir, _end)\n",
    "    # 파일의 리스트를 호출하는 것이 우선\n",
    "    file_list = os.listdir(_dir)\n",
    "\n",
    "    # 비어있는 데이터프레임을 생성\n",
    "    result = pd.DataFrame()\n",
    "    # 파일 리스트에서 확장자가 같은 값  파일들만 결합\n",
    "    for i in file_list:\n",
    "        # 파일명의 확장자라는 인자값과 같은 경우\n",
    "        if i.endswith(_end):\n",
    "            print(i)\n",
    "            # 확장자에 따른 read 함수 설정\n",
    "            if _end == '.csv':\n",
    "                df = pd.read_csv(_dir+i)\n",
    "                result = pd.concat([result, df], axis= 0, ignore_index=True)\n",
    "            elif _end == '.json':\n",
    "                df = pd.read_json(_dir+i)\n",
    "                result =pd.concat([result, df], axis= 0, ignore_index=True)\n",
    "            elif _end in [\".xlsx\", \".xls\"]:\n",
    "                df = pd.read_excel(_dir+i)\n",
    "                result = pd.concat([result, df], axis=0, ignore_index=True)\n",
    "            else:\n",
    "                return \"지원하지 않는 확장자입니다.\"\n",
    "    return result\n",
    "            \n",
    "\n"
   ]
  },
  {
   "cell_type": "code",
   "execution_count": null,
   "metadata": {},
   "outputs": [],
   "source": [
    "list_load(\"../csv/2022/\",\".xlsx\")"
   ]
  },
  {
   "cell_type": "code",
   "execution_count": null,
   "metadata": {},
   "outputs": [],
   "source": [
    "import list_load as ll\n",
    "import imp\n",
    "imp.reload(ll)"
   ]
  },
  {
   "cell_type": "code",
   "execution_count": null,
   "metadata": {},
   "outputs": [],
   "source": [
    "ll.load(\"../csv/2017/\")"
   ]
  },
  {
   "cell_type": "code",
   "execution_count": null,
   "metadata": {},
   "outputs": [],
   "source": []
  }
 ],
 "metadata": {
  "kernelspec": {
   "display_name": "Python 3",
   "language": "python",
   "name": "python3"
  },
  "language_info": {
   "codemirror_mode": {
    "name": "ipython",
    "version": 3
   },
   "file_extension": ".py",
   "mimetype": "text/x-python",
   "name": "python",
   "nbconvert_exporter": "python",
   "pygments_lexer": "ipython3",
   "version": "3.11.2"
  },
  "orig_nbformat": 4
 },
 "nbformat": 4,
 "nbformat_minor": 2
}
