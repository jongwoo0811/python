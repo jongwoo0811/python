{
 "cells": [
  {
   "attachments": {},
   "cell_type": "markdown",
   "metadata": {},
   "source": [
    "### 예제\n",
    "1. csv폴더에서 4개의 파일을 로드 (tran1, tran2, tran_d_1, trand_2)\n",
    "2. tran_1과 tran_2는 단순한 행 추가 결합(유니언 결합)\n",
    "3. tran_d_1과 trand_d_2도 유니언 결합\n",
    "4. 2번,3번 과정에서 나온 데이터프레임을 특정 조건에 맞춰서 2번 데이터프레임 기준으로 열 추가 결합 (조인 결합)\n",
    "5. csv 폴더에 있는 2개의 파일 로드(custom_master, item_master)\n",
    "6. 4번 과정에서 나온 데이터프레임과 custom_master 조인 결합\n",
    "7. 6번 과정에서 나온 데이터프레임과 item_master 조인결합\n",
    "8. 결합이된 데이터프레임에서 quantity 컬럼과 item_price 컬럼의 데이터를 가지고 total_price라는 파생 변수를 생성 (total_price = item_price*quantitiy)"
   ]
  },
  {
   "cell_type": "code",
   "execution_count": 312,
   "metadata": {},
   "outputs": [],
   "source": [
    "import os"
   ]
  },
  {
   "cell_type": "code",
   "execution_count": 313,
   "metadata": {},
   "outputs": [],
   "source": [
    "import pandas as pd"
   ]
  },
  {
   "cell_type": "code",
   "execution_count": 314,
   "metadata": {},
   "outputs": [],
   "source": [
    "tran_1 = pd.read_csv(\"../csv/tran_1.csv\")\n",
    "tran_2 = pd.read_csv(\"../csv/tran_2.csv\")\n",
    "tran_d_1 = pd.read_csv(\"../csv/tran_d_1.csv\")\n",
    "tran_d_2 = pd.read_csv(\"../csv/tran_d_2.csv\")"
   ]
  },
  {
   "cell_type": "code",
   "execution_count": 315,
   "metadata": {},
   "outputs": [
    {
     "name": "stdout",
     "output_type": "stream",
     "text": [
      "     transaction_id   price         payment_date customer_id\n",
      "0       T0000000113  210000  2019-02-01 01:36:57    PL563502\n",
      "1       T0000000114   50000  2019-02-01 01:37:23    HD678019\n",
      "2       T0000000115  120000  2019-02-01 02:34:19    HD298120\n",
      "3       T0000000116  210000  2019-02-01 02:47:23    IK452215\n",
      "4       T0000000117  170000  2019-02-01 04:33:46    PL542865\n",
      "...             ...     ...                  ...         ...\n",
      "6781    T0000006894  180000  2019-07-31 21:20:44    HI400734\n",
      "6782    T0000006895   85000  2019-07-31 21:52:48    AS339451\n",
      "6783    T0000006896  100000  2019-07-31 23:35:25    OA027325\n",
      "6784    T0000006897   85000  2019-07-31 23:39:35    TS624738\n",
      "6785    T0000006898   85000  2019-07-31 23:41:38    AS834214\n",
      "\n",
      "[6786 rows x 4 columns]\n"
     ]
    }
   ],
   "source": [
    "result = pd.concat([tran_1, tran_2], axis = 0, ignore_index= True)\n",
    "print(result)\n"
   ]
  },
  {
   "cell_type": "code",
   "execution_count": 316,
   "metadata": {},
   "outputs": [
    {
     "name": "stdout",
     "output_type": "stream",
     "text": [
      "      detail_id transaction_id item_id  quantity\n",
      "0             0    T0000000113    S005         1\n",
      "1             1    T0000000114    S001         1\n",
      "2             2    T0000000115    S003         1\n",
      "3             3    T0000000116    S005         1\n",
      "4             4    T0000000117    S002         2\n",
      "...         ...            ...     ...       ...\n",
      "7139       7139    T0000006894    S004         1\n",
      "7140       7140    T0000006895    S002         1\n",
      "7141       7141    T0000006896    S001         2\n",
      "7142       7142    T0000006897    S002         1\n",
      "7143       7143    T0000006898    S002         1\n",
      "\n",
      "[7144 rows x 4 columns]\n"
     ]
    }
   ],
   "source": [
    "result1 = pd.concat([tran_d_1, tran_d_2], axis = 0, ignore_index= True)\n",
    "print(result1)\n"
   ]
  },
  {
   "cell_type": "code",
   "execution_count": 317,
   "metadata": {},
   "outputs": [],
   "source": [
    "transcation_id = pd.merge(result, result1, on = 'transaction_id', how = \"left\")"
   ]
  },
  {
   "cell_type": "code",
   "execution_count": 318,
   "metadata": {},
   "outputs": [],
   "source": [
    "customer = pd.read_csv(\"../csv/customer_master.csv\")\n",
    "item = pd.read_csv(\"../csv/item_master.csv\")"
   ]
  },
  {
   "cell_type": "code",
   "execution_count": 319,
   "metadata": {},
   "outputs": [
    {
     "data": {
      "text/html": [
       "<div>\n",
       "<style scoped>\n",
       "    .dataframe tbody tr th:only-of-type {\n",
       "        vertical-align: middle;\n",
       "    }\n",
       "\n",
       "    .dataframe tbody tr th {\n",
       "        vertical-align: top;\n",
       "    }\n",
       "\n",
       "    .dataframe thead th {\n",
       "        text-align: right;\n",
       "    }\n",
       "</style>\n",
       "<table border=\"1\" class=\"dataframe\">\n",
       "  <thead>\n",
       "    <tr style=\"text-align: right;\">\n",
       "      <th></th>\n",
       "      <th>customer_id</th>\n",
       "      <th>name</th>\n",
       "      <th>class</th>\n",
       "      <th>gender</th>\n",
       "      <th>start_date</th>\n",
       "      <th>end_date</th>\n",
       "      <th>campaign_id</th>\n",
       "      <th>is_deleted</th>\n",
       "    </tr>\n",
       "  </thead>\n",
       "  <tbody>\n",
       "    <tr>\n",
       "      <th>0</th>\n",
       "      <td>OA832399</td>\n",
       "      <td>XXXX</td>\n",
       "      <td>C01</td>\n",
       "      <td>F</td>\n",
       "      <td>2015-05-01 00:00:00</td>\n",
       "      <td>NaN</td>\n",
       "      <td>CA1</td>\n",
       "      <td>0</td>\n",
       "    </tr>\n",
       "  </tbody>\n",
       "</table>\n",
       "</div>"
      ],
      "text/plain": [
       "  customer_id  name class gender           start_date end_date campaign_id  \\\n",
       "0    OA832399  XXXX   C01      F  2015-05-01 00:00:00      NaN         CA1   \n",
       "\n",
       "   is_deleted  \n",
       "0           0  "
      ]
     },
     "execution_count": 319,
     "metadata": {},
     "output_type": "execute_result"
    }
   ],
   "source": [
    "customer.head(1)"
   ]
  },
  {
   "cell_type": "code",
   "execution_count": 320,
   "metadata": {},
   "outputs": [],
   "source": [
    "result2 =pd.merge(transcation_id, customer, on = 'customer_id', how = \"left\")"
   ]
  },
  {
   "cell_type": "code",
   "execution_count": 321,
   "metadata": {},
   "outputs": [],
   "source": [
    "final_r = pd.merge(result2, item, on = 'item_id', how = \"inner\")"
   ]
  },
  {
   "cell_type": "code",
   "execution_count": 322,
   "metadata": {},
   "outputs": [
    {
     "data": {
      "text/html": [
       "<div>\n",
       "<style scoped>\n",
       "    .dataframe tbody tr th:only-of-type {\n",
       "        vertical-align: middle;\n",
       "    }\n",
       "\n",
       "    .dataframe tbody tr th {\n",
       "        vertical-align: top;\n",
       "    }\n",
       "\n",
       "    .dataframe thead th {\n",
       "        text-align: right;\n",
       "    }\n",
       "</style>\n",
       "<table border=\"1\" class=\"dataframe\">\n",
       "  <thead>\n",
       "    <tr style=\"text-align: right;\">\n",
       "      <th></th>\n",
       "      <th>transaction_id</th>\n",
       "      <th>price</th>\n",
       "      <th>payment_date</th>\n",
       "      <th>customer_id</th>\n",
       "      <th>detail_id</th>\n",
       "      <th>item_id</th>\n",
       "      <th>quantity</th>\n",
       "      <th>name</th>\n",
       "      <th>class</th>\n",
       "      <th>gender</th>\n",
       "      <th>start_date</th>\n",
       "      <th>end_date</th>\n",
       "      <th>campaign_id</th>\n",
       "      <th>is_deleted</th>\n",
       "      <th>item_name_x</th>\n",
       "      <th>item_price_x</th>\n",
       "      <th>item_name_y</th>\n",
       "      <th>item_price_y</th>\n",
       "    </tr>\n",
       "  </thead>\n",
       "  <tbody>\n",
       "    <tr>\n",
       "      <th>0</th>\n",
       "      <td>T0000000113</td>\n",
       "      <td>210000</td>\n",
       "      <td>2019-02-01 01:36:57</td>\n",
       "      <td>PL563502</td>\n",
       "      <td>0</td>\n",
       "      <td>S005</td>\n",
       "      <td>1</td>\n",
       "      <td>XX</td>\n",
       "      <td>C01</td>\n",
       "      <td>M</td>\n",
       "      <td>2018-07-01 00:00:00</td>\n",
       "      <td>NaN</td>\n",
       "      <td>CA1</td>\n",
       "      <td>0.0</td>\n",
       "      <td>PC-E</td>\n",
       "      <td>210000</td>\n",
       "      <td>PC-E</td>\n",
       "      <td>210000</td>\n",
       "    </tr>\n",
       "    <tr>\n",
       "      <th>1</th>\n",
       "      <td>T0000000116</td>\n",
       "      <td>210000</td>\n",
       "      <td>2019-02-01 02:47:23</td>\n",
       "      <td>IK452215</td>\n",
       "      <td>3</td>\n",
       "      <td>S005</td>\n",
       "      <td>1</td>\n",
       "      <td>XXXX</td>\n",
       "      <td>C03</td>\n",
       "      <td>M</td>\n",
       "      <td>2018-01-01 00:00:00</td>\n",
       "      <td>NaN</td>\n",
       "      <td>CA1</td>\n",
       "      <td>0.0</td>\n",
       "      <td>PC-E</td>\n",
       "      <td>210000</td>\n",
       "      <td>PC-E</td>\n",
       "      <td>210000</td>\n",
       "    </tr>\n",
       "    <tr>\n",
       "      <th>2</th>\n",
       "      <td>T0000000121</td>\n",
       "      <td>210000</td>\n",
       "      <td>2019-02-01 06:40:14</td>\n",
       "      <td>HD218970</td>\n",
       "      <td>8</td>\n",
       "      <td>S005</td>\n",
       "      <td>1</td>\n",
       "      <td>XXXXX</td>\n",
       "      <td>C01</td>\n",
       "      <td>F</td>\n",
       "      <td>2018-04-02 00:00:00</td>\n",
       "      <td>2018-11-30 00:00:00</td>\n",
       "      <td>CA3</td>\n",
       "      <td>1.0</td>\n",
       "      <td>PC-E</td>\n",
       "      <td>210000</td>\n",
       "      <td>PC-E</td>\n",
       "      <td>210000</td>\n",
       "    </tr>\n",
       "    <tr>\n",
       "      <th>3</th>\n",
       "      <td>T0000000128</td>\n",
       "      <td>210000</td>\n",
       "      <td>2019-02-01 17:20:02</td>\n",
       "      <td>IK234815</td>\n",
       "      <td>15</td>\n",
       "      <td>S005</td>\n",
       "      <td>1</td>\n",
       "      <td>XXX</td>\n",
       "      <td>C02</td>\n",
       "      <td>F</td>\n",
       "      <td>2018-05-12 00:00:00</td>\n",
       "      <td>NaN</td>\n",
       "      <td>CA2</td>\n",
       "      <td>0.0</td>\n",
       "      <td>PC-E</td>\n",
       "      <td>210000</td>\n",
       "      <td>PC-E</td>\n",
       "      <td>210000</td>\n",
       "    </tr>\n",
       "    <tr>\n",
       "      <th>4</th>\n",
       "      <td>T0000000130</td>\n",
       "      <td>210000</td>\n",
       "      <td>2019-02-01 19:44:40</td>\n",
       "      <td>AS614406</td>\n",
       "      <td>17</td>\n",
       "      <td>S005</td>\n",
       "      <td>1</td>\n",
       "      <td>XXXXX</td>\n",
       "      <td>C03</td>\n",
       "      <td>F</td>\n",
       "      <td>2015-10-01 00:00:00</td>\n",
       "      <td>NaN</td>\n",
       "      <td>CA1</td>\n",
       "      <td>0.0</td>\n",
       "      <td>PC-E</td>\n",
       "      <td>210000</td>\n",
       "      <td>PC-E</td>\n",
       "      <td>210000</td>\n",
       "    </tr>\n",
       "    <tr>\n",
       "      <th>...</th>\n",
       "      <td>...</td>\n",
       "      <td>...</td>\n",
       "      <td>...</td>\n",
       "      <td>...</td>\n",
       "      <td>...</td>\n",
       "      <td>...</td>\n",
       "      <td>...</td>\n",
       "      <td>...</td>\n",
       "      <td>...</td>\n",
       "      <td>...</td>\n",
       "      <td>...</td>\n",
       "      <td>...</td>\n",
       "      <td>...</td>\n",
       "      <td>...</td>\n",
       "      <td>...</td>\n",
       "      <td>...</td>\n",
       "      <td>...</td>\n",
       "      <td>...</td>\n",
       "    </tr>\n",
       "    <tr>\n",
       "      <th>7139</th>\n",
       "      <td>T0000006857</td>\n",
       "      <td>180000</td>\n",
       "      <td>2019-07-30 22:45:06</td>\n",
       "      <td>IK081842</td>\n",
       "      <td>7100</td>\n",
       "      <td>S004</td>\n",
       "      <td>1</td>\n",
       "      <td>XXXXX</td>\n",
       "      <td>C03</td>\n",
       "      <td>M</td>\n",
       "      <td>2019-01-08 00:00:00</td>\n",
       "      <td>NaN</td>\n",
       "      <td>CA1</td>\n",
       "      <td>0.0</td>\n",
       "      <td>PC-D</td>\n",
       "      <td>180000</td>\n",
       "      <td>PC-D</td>\n",
       "      <td>180000</td>\n",
       "    </tr>\n",
       "    <tr>\n",
       "      <th>7140</th>\n",
       "      <td>T0000006871</td>\n",
       "      <td>180000</td>\n",
       "      <td>2019-07-31 05:56:08</td>\n",
       "      <td>HD753835</td>\n",
       "      <td>7115</td>\n",
       "      <td>S004</td>\n",
       "      <td>1</td>\n",
       "      <td>XXXXXX</td>\n",
       "      <td>C01</td>\n",
       "      <td>F</td>\n",
       "      <td>2017-04-01 00:00:00</td>\n",
       "      <td>NaN</td>\n",
       "      <td>CA1</td>\n",
       "      <td>0.0</td>\n",
       "      <td>PC-D</td>\n",
       "      <td>180000</td>\n",
       "      <td>PC-D</td>\n",
       "      <td>180000</td>\n",
       "    </tr>\n",
       "    <tr>\n",
       "      <th>7141</th>\n",
       "      <td>T0000006872</td>\n",
       "      <td>180000</td>\n",
       "      <td>2019-07-31 05:58:51</td>\n",
       "      <td>OA781562</td>\n",
       "      <td>7116</td>\n",
       "      <td>S004</td>\n",
       "      <td>1</td>\n",
       "      <td>XXX</td>\n",
       "      <td>C03</td>\n",
       "      <td>M</td>\n",
       "      <td>2018-02-01 00:00:00</td>\n",
       "      <td>NaN</td>\n",
       "      <td>CA1</td>\n",
       "      <td>0.0</td>\n",
       "      <td>PC-D</td>\n",
       "      <td>180000</td>\n",
       "      <td>PC-D</td>\n",
       "      <td>180000</td>\n",
       "    </tr>\n",
       "    <tr>\n",
       "      <th>7142</th>\n",
       "      <td>T0000006893</td>\n",
       "      <td>180000</td>\n",
       "      <td>2019-07-31 21:17:39</td>\n",
       "      <td>PL057547</td>\n",
       "      <td>7138</td>\n",
       "      <td>S004</td>\n",
       "      <td>1</td>\n",
       "      <td>XXXX</td>\n",
       "      <td>C03</td>\n",
       "      <td>M</td>\n",
       "      <td>2017-06-01 00:00:00</td>\n",
       "      <td>NaN</td>\n",
       "      <td>CA1</td>\n",
       "      <td>0.0</td>\n",
       "      <td>PC-D</td>\n",
       "      <td>180000</td>\n",
       "      <td>PC-D</td>\n",
       "      <td>180000</td>\n",
       "    </tr>\n",
       "    <tr>\n",
       "      <th>7143</th>\n",
       "      <td>T0000006894</td>\n",
       "      <td>180000</td>\n",
       "      <td>2019-07-31 21:20:44</td>\n",
       "      <td>HI400734</td>\n",
       "      <td>7139</td>\n",
       "      <td>S004</td>\n",
       "      <td>1</td>\n",
       "      <td>NaN</td>\n",
       "      <td>NaN</td>\n",
       "      <td>NaN</td>\n",
       "      <td>NaN</td>\n",
       "      <td>NaN</td>\n",
       "      <td>NaN</td>\n",
       "      <td>NaN</td>\n",
       "      <td>PC-D</td>\n",
       "      <td>180000</td>\n",
       "      <td>PC-D</td>\n",
       "      <td>180000</td>\n",
       "    </tr>\n",
       "  </tbody>\n",
       "</table>\n",
       "<p>7144 rows × 18 columns</p>\n",
       "</div>"
      ],
      "text/plain": [
       "     transaction_id   price         payment_date customer_id  detail_id  \\\n",
       "0       T0000000113  210000  2019-02-01 01:36:57    PL563502          0   \n",
       "1       T0000000116  210000  2019-02-01 02:47:23    IK452215          3   \n",
       "2       T0000000121  210000  2019-02-01 06:40:14    HD218970          8   \n",
       "3       T0000000128  210000  2019-02-01 17:20:02    IK234815         15   \n",
       "4       T0000000130  210000  2019-02-01 19:44:40    AS614406         17   \n",
       "...             ...     ...                  ...         ...        ...   \n",
       "7139    T0000006857  180000  2019-07-30 22:45:06    IK081842       7100   \n",
       "7140    T0000006871  180000  2019-07-31 05:56:08    HD753835       7115   \n",
       "7141    T0000006872  180000  2019-07-31 05:58:51    OA781562       7116   \n",
       "7142    T0000006893  180000  2019-07-31 21:17:39    PL057547       7138   \n",
       "7143    T0000006894  180000  2019-07-31 21:20:44    HI400734       7139   \n",
       "\n",
       "     item_id  quantity    name class gender           start_date  \\\n",
       "0       S005         1      XX   C01      M  2018-07-01 00:00:00   \n",
       "1       S005         1    XXXX   C03      M  2018-01-01 00:00:00   \n",
       "2       S005         1   XXXXX   C01      F  2018-04-02 00:00:00   \n",
       "3       S005         1     XXX   C02      F  2018-05-12 00:00:00   \n",
       "4       S005         1   XXXXX   C03      F  2015-10-01 00:00:00   \n",
       "...      ...       ...     ...   ...    ...                  ...   \n",
       "7139    S004         1   XXXXX   C03      M  2019-01-08 00:00:00   \n",
       "7140    S004         1  XXXXXX   C01      F  2017-04-01 00:00:00   \n",
       "7141    S004         1     XXX   C03      M  2018-02-01 00:00:00   \n",
       "7142    S004         1    XXXX   C03      M  2017-06-01 00:00:00   \n",
       "7143    S004         1     NaN   NaN    NaN                  NaN   \n",
       "\n",
       "                 end_date campaign_id  is_deleted item_name_x  item_price_x  \\\n",
       "0                     NaN         CA1         0.0        PC-E        210000   \n",
       "1                     NaN         CA1         0.0        PC-E        210000   \n",
       "2     2018-11-30 00:00:00         CA3         1.0        PC-E        210000   \n",
       "3                     NaN         CA2         0.0        PC-E        210000   \n",
       "4                     NaN         CA1         0.0        PC-E        210000   \n",
       "...                   ...         ...         ...         ...           ...   \n",
       "7139                  NaN         CA1         0.0        PC-D        180000   \n",
       "7140                  NaN         CA1         0.0        PC-D        180000   \n",
       "7141                  NaN         CA1         0.0        PC-D        180000   \n",
       "7142                  NaN         CA1         0.0        PC-D        180000   \n",
       "7143                  NaN         NaN         NaN        PC-D        180000   \n",
       "\n",
       "     item_name_y  item_price_y  \n",
       "0           PC-E        210000  \n",
       "1           PC-E        210000  \n",
       "2           PC-E        210000  \n",
       "3           PC-E        210000  \n",
       "4           PC-E        210000  \n",
       "...          ...           ...  \n",
       "7139        PC-D        180000  \n",
       "7140        PC-D        180000  \n",
       "7141        PC-D        180000  \n",
       "7142        PC-D        180000  \n",
       "7143        PC-D        180000  \n",
       "\n",
       "[7144 rows x 18 columns]"
      ]
     },
     "execution_count": 322,
     "metadata": {},
     "output_type": "execute_result"
    }
   ],
   "source": [
    "pd.merge(final_r, item, on = 'item_id', how = \"inner\")"
   ]
  },
  {
   "cell_type": "code",
   "execution_count": 323,
   "metadata": {},
   "outputs": [
    {
     "data": {
      "text/html": [
       "<div>\n",
       "<style scoped>\n",
       "    .dataframe tbody tr th:only-of-type {\n",
       "        vertical-align: middle;\n",
       "    }\n",
       "\n",
       "    .dataframe tbody tr th {\n",
       "        vertical-align: top;\n",
       "    }\n",
       "\n",
       "    .dataframe thead th {\n",
       "        text-align: right;\n",
       "    }\n",
       "</style>\n",
       "<table border=\"1\" class=\"dataframe\">\n",
       "  <thead>\n",
       "    <tr style=\"text-align: right;\">\n",
       "      <th></th>\n",
       "      <th>transaction_id</th>\n",
       "      <th>price</th>\n",
       "      <th>payment_date</th>\n",
       "      <th>customer_id</th>\n",
       "      <th>detail_id</th>\n",
       "      <th>item_id</th>\n",
       "      <th>quantity</th>\n",
       "      <th>name</th>\n",
       "      <th>class</th>\n",
       "      <th>gender</th>\n",
       "      <th>start_date</th>\n",
       "      <th>end_date</th>\n",
       "      <th>campaign_id</th>\n",
       "      <th>is_deleted</th>\n",
       "      <th>item_name</th>\n",
       "      <th>item_price</th>\n",
       "      <th>total_price</th>\n",
       "    </tr>\n",
       "  </thead>\n",
       "  <tbody>\n",
       "    <tr>\n",
       "      <th>0</th>\n",
       "      <td>T0000000113</td>\n",
       "      <td>210000</td>\n",
       "      <td>2019-02-01 01:36:57</td>\n",
       "      <td>PL563502</td>\n",
       "      <td>0</td>\n",
       "      <td>S005</td>\n",
       "      <td>1</td>\n",
       "      <td>XX</td>\n",
       "      <td>C01</td>\n",
       "      <td>M</td>\n",
       "      <td>2018-07-01 00:00:00</td>\n",
       "      <td>NaN</td>\n",
       "      <td>CA1</td>\n",
       "      <td>0.0</td>\n",
       "      <td>PC-E</td>\n",
       "      <td>210000</td>\n",
       "      <td>210000</td>\n",
       "    </tr>\n",
       "  </tbody>\n",
       "</table>\n",
       "</div>"
      ],
      "text/plain": [
       "  transaction_id   price         payment_date customer_id  detail_id item_id  \\\n",
       "0    T0000000113  210000  2019-02-01 01:36:57    PL563502          0    S005   \n",
       "\n",
       "   quantity name class gender           start_date end_date campaign_id  \\\n",
       "0         1   XX   C01      M  2018-07-01 00:00:00      NaN         CA1   \n",
       "\n",
       "   is_deleted item_name  item_price  total_price  \n",
       "0         0.0      PC-E      210000       210000  "
      ]
     },
     "execution_count": 323,
     "metadata": {},
     "output_type": "execute_result"
    }
   ],
   "source": [
    "final_r['total_price'] = final_r['item_price'] * final_r['quantity']\n",
    "\n",
    "final_r.head(1)"
   ]
  },
  {
   "cell_type": "code",
   "execution_count": 324,
   "metadata": {},
   "outputs": [],
   "source": [
    "group_data = final_r[['item_name','total_price']].groupby('item_name').sum()"
   ]
  },
  {
   "cell_type": "code",
   "execution_count": 325,
   "metadata": {},
   "outputs": [],
   "source": [
    "# group_data.sort_values('total_price', ascending=False).index=[0] 에러남;"
   ]
  },
  {
   "cell_type": "code",
   "execution_count": 326,
   "metadata": {},
   "outputs": [
    {
     "name": "stdout",
     "output_type": "stream",
     "text": [
      "<class 'pandas.core.frame.DataFrame'>\n",
      "Int64Index: 7144 entries, 0 to 7143\n",
      "Data columns (total 17 columns):\n",
      " #   Column          Non-Null Count  Dtype  \n",
      "---  ------          --------------  -----  \n",
      " 0   transaction_id  7144 non-null   object \n",
      " 1   price           7144 non-null   int64  \n",
      " 2   payment_date    7144 non-null   object \n",
      " 3   customer_id     7144 non-null   object \n",
      " 4   detail_id       7144 non-null   int64  \n",
      " 5   item_id         7144 non-null   object \n",
      " 6   quantity        7144 non-null   int64  \n",
      " 7   name            6069 non-null   object \n",
      " 8   class           6069 non-null   object \n",
      " 9   gender          6069 non-null   object \n",
      " 10  start_date      6069 non-null   object \n",
      " 11  end_date        1978 non-null   object \n",
      " 12  campaign_id     6069 non-null   object \n",
      " 13  is_deleted      6069 non-null   float64\n",
      " 14  item_name       7144 non-null   object \n",
      " 15  item_price      7144 non-null   int64  \n",
      " 16  total_price     7144 non-null   int64  \n",
      "dtypes: float64(1), int64(5), object(11)\n",
      "memory usage: 1004.6+ KB\n"
     ]
    }
   ],
   "source": [
    "final_r.info()"
   ]
  },
  {
   "cell_type": "code",
   "execution_count": 344,
   "metadata": {},
   "outputs": [
    {
     "data": {
      "text/plain": [
       "0         M\n",
       "1         M\n",
       "2         F\n",
       "3         F\n",
       "4         F\n",
       "       ... \n",
       "7139      M\n",
       "7140      F\n",
       "7141      M\n",
       "7142      M\n",
       "7143    NaN\n",
       "Name: gender, Length: 7144, dtype: object"
      ]
     },
     "execution_count": 344,
     "metadata": {},
     "output_type": "execute_result"
    }
   ],
   "source": [
    "final_r['gender']"
   ]
  },
  {
   "cell_type": "code",
   "execution_count": 328,
   "metadata": {},
   "outputs": [],
   "source": [
    "origin_data = final_r.copy()"
   ]
  },
  {
   "cell_type": "code",
   "execution_count": 329,
   "metadata": {},
   "outputs": [],
   "source": [
    "# loc를 이용하여 m,f를 변경\n",
    "# m -> 남자, f -> 여자\n",
    "final_r.loc[final_r['gender'] ==\"M\", 'gender'] ='남자'\n",
    "final_r.loc[final_r['gender'] ==\"F\", 'gender'] ='여자'"
   ]
  },
  {
   "cell_type": "code",
   "execution_count": 330,
   "metadata": {},
   "outputs": [
    {
     "data": {
      "text/plain": [
       "남자    3268\n",
       "여자    2801\n",
       "Name: gender, dtype: int64"
      ]
     },
     "execution_count": 330,
     "metadata": {},
     "output_type": "execute_result"
    }
   ],
   "source": [
    "final_r['gender'].value_counts()"
   ]
  },
  {
   "cell_type": "code",
   "execution_count": 331,
   "metadata": {},
   "outputs": [],
   "source": [
    "final_r = origin_data.copy()"
   ]
  },
  {
   "cell_type": "code",
   "execution_count": 332,
   "metadata": {},
   "outputs": [],
   "source": [
    "# apply() 사용하여 남자, 여자를 변경\n",
    "#def change(x):    에러남;\n",
    "    # x에는 M아니면 F\n",
    "    #if x == 'F':\n",
    "        #result = \"여자\"\n",
    "    #else:\n",
    "        #result : \"남자\"\n",
    "    #return result\n",
    "\n",
    "#final_r['gender'].apply(change)"
   ]
  },
  {
   "cell_type": "code",
   "execution_count": 333,
   "metadata": {},
   "outputs": [],
   "source": [
    "#final_r['gender'].apply(lambda x: \"남자\" if(x=='M') else (\"여자\" if (x==\"f\")else \"무응답\"))"
   ]
  },
  {
   "cell_type": "code",
   "execution_count": 357,
   "metadata": {},
   "outputs": [],
   "source": [
    "final_r['payment_date'] = pd.to_datetime(final_r['payment_date'], \n",
    "                format = '%Y-%m-%d %H:%M')"
   ]
  },
  {
   "cell_type": "code",
   "execution_count": 358,
   "metadata": {},
   "outputs": [
    {
     "name": "stdout",
     "output_type": "stream",
     "text": [
      "<class 'pandas.core.frame.DataFrame'>\n",
      "Int64Index: 7144 entries, 0 to 7143\n",
      "Data columns (total 18 columns):\n",
      " #   Column          Non-Null Count  Dtype         \n",
      "---  ------          --------------  -----         \n",
      " 0   transaction_id  7144 non-null   object        \n",
      " 1   price           7144 non-null   int64         \n",
      " 2   payment_date    7144 non-null   datetime64[ns]\n",
      " 3   customer_id     7144 non-null   object        \n",
      " 4   detail_id       7144 non-null   int64         \n",
      " 5   item_id         7144 non-null   object        \n",
      " 6   quantity        7144 non-null   int64         \n",
      " 7   name            6069 non-null   object        \n",
      " 8   class           6069 non-null   object        \n",
      " 9   gender          6069 non-null   object        \n",
      " 10  start_date      6069 non-null   object        \n",
      " 11  end_date        1978 non-null   object        \n",
      " 12  campaign_id     6069 non-null   object        \n",
      " 13  is_deleted      6069 non-null   float64       \n",
      " 14  item_name       7144 non-null   object        \n",
      " 15  item_price      7144 non-null   int64         \n",
      " 16  total_price     7144 non-null   int64         \n",
      " 17  payment_month   7144 non-null   object        \n",
      "dtypes: datetime64[ns](1), float64(1), int64(5), object(11)\n",
      "memory usage: 1.0+ MB\n"
     ]
    }
   ],
   "source": [
    "final_r.info()"
   ]
  },
  {
   "cell_type": "code",
   "execution_count": 359,
   "metadata": {},
   "outputs": [],
   "source": [
    "# 시계열 데이터에서 년-월 추출해서 새로운 파생변수 payment_month 생성\n",
    "final_r['payment_month'] = final_r['payment_date'].dt.strftime('%m-%Y')"
   ]
  },
  {
   "cell_type": "code",
   "execution_count": 360,
   "metadata": {},
   "outputs": [
    {
     "data": {
      "text/html": [
       "<div>\n",
       "<style scoped>\n",
       "    .dataframe tbody tr th:only-of-type {\n",
       "        vertical-align: middle;\n",
       "    }\n",
       "\n",
       "    .dataframe tbody tr th {\n",
       "        vertical-align: top;\n",
       "    }\n",
       "\n",
       "    .dataframe thead th {\n",
       "        text-align: right;\n",
       "    }\n",
       "</style>\n",
       "<table border=\"1\" class=\"dataframe\">\n",
       "  <thead>\n",
       "    <tr style=\"text-align: right;\">\n",
       "      <th></th>\n",
       "      <th>transaction_id</th>\n",
       "      <th>price</th>\n",
       "      <th>payment_date</th>\n",
       "      <th>customer_id</th>\n",
       "      <th>detail_id</th>\n",
       "      <th>item_id</th>\n",
       "      <th>quantity</th>\n",
       "      <th>name</th>\n",
       "      <th>class</th>\n",
       "      <th>gender</th>\n",
       "      <th>start_date</th>\n",
       "      <th>end_date</th>\n",
       "      <th>campaign_id</th>\n",
       "      <th>is_deleted</th>\n",
       "      <th>item_name</th>\n",
       "      <th>item_price</th>\n",
       "      <th>total_price</th>\n",
       "      <th>payment_month</th>\n",
       "    </tr>\n",
       "  </thead>\n",
       "  <tbody>\n",
       "    <tr>\n",
       "      <th>0</th>\n",
       "      <td>T0000000113</td>\n",
       "      <td>210000</td>\n",
       "      <td>2019-02-01 01:36:57</td>\n",
       "      <td>PL563502</td>\n",
       "      <td>0</td>\n",
       "      <td>S005</td>\n",
       "      <td>1</td>\n",
       "      <td>XX</td>\n",
       "      <td>C01</td>\n",
       "      <td>M</td>\n",
       "      <td>2018-07-01 00:00:00</td>\n",
       "      <td>NaN</td>\n",
       "      <td>CA1</td>\n",
       "      <td>0.0</td>\n",
       "      <td>PC-E</td>\n",
       "      <td>210000</td>\n",
       "      <td>210000</td>\n",
       "      <td>02-2019</td>\n",
       "    </tr>\n",
       "  </tbody>\n",
       "</table>\n",
       "</div>"
      ],
      "text/plain": [
       "  transaction_id   price        payment_date customer_id  detail_id item_id  \\\n",
       "0    T0000000113  210000 2019-02-01 01:36:57    PL563502          0    S005   \n",
       "\n",
       "   quantity name class gender           start_date end_date campaign_id  \\\n",
       "0         1   XX   C01      M  2018-07-01 00:00:00      NaN         CA1   \n",
       "\n",
       "   is_deleted item_name  item_price  total_price payment_month  \n",
       "0         0.0      PC-E      210000       210000       02-2019  "
      ]
     },
     "execution_count": 360,
     "metadata": {},
     "output_type": "execute_result"
    }
   ],
   "source": [
    "final_r.head(1)"
   ]
  },
  {
   "cell_type": "code",
   "execution_count": 365,
   "metadata": {},
   "outputs": [
    {
     "ename": "AttributeError",
     "evalue": "'DataFrame' object has no attribute 'groupyby'",
     "output_type": "error",
     "traceback": [
      "\u001b[1;31m---------------------------------------------------------------------------\u001b[0m",
      "\u001b[1;31mAttributeError\u001b[0m                            Traceback (most recent call last)",
      "Cell \u001b[1;32mIn[365], line 2\u001b[0m\n\u001b[0;32m      1\u001b[0m \u001b[39m# 월별 거래량을 확인\u001b[39;00m\n\u001b[1;32m----> 2\u001b[0m final_r[[\u001b[39m'\u001b[39;49m\u001b[39mpayment_month\u001b[39;49m\u001b[39m'\u001b[39;49m,\u001b[39m'\u001b[39;49m\u001b[39mtotal_price\u001b[39;49m\u001b[39m'\u001b[39;49m]]\u001b[39m.\u001b[39;49mgroupyby(\u001b[39m'\u001b[39m\u001b[39mpayment_month\u001b[39m\u001b[39m'\u001b[39m)\u001b[39m.\u001b[39magg([\u001b[39m'\u001b[39m\u001b[39mmean\u001b[39m\u001b[39m'\u001b[39m,\u001b[39m'\u001b[39m\u001b[39msum\u001b[39m\u001b[39m'\u001b[39m])\u001b[39m.\u001b[39msum()\n",
      "File \u001b[1;32mc:\\Users\\bjw\\AppData\\Local\\Programs\\Python\\Python311\\Lib\\site-packages\\pandas\\core\\generic.py:5902\u001b[0m, in \u001b[0;36mNDFrame.__getattr__\u001b[1;34m(self, name)\u001b[0m\n\u001b[0;32m   5895\u001b[0m \u001b[39mif\u001b[39;00m (\n\u001b[0;32m   5896\u001b[0m     name \u001b[39mnot\u001b[39;00m \u001b[39min\u001b[39;00m \u001b[39mself\u001b[39m\u001b[39m.\u001b[39m_internal_names_set\n\u001b[0;32m   5897\u001b[0m     \u001b[39mand\u001b[39;00m name \u001b[39mnot\u001b[39;00m \u001b[39min\u001b[39;00m \u001b[39mself\u001b[39m\u001b[39m.\u001b[39m_metadata\n\u001b[0;32m   5898\u001b[0m     \u001b[39mand\u001b[39;00m name \u001b[39mnot\u001b[39;00m \u001b[39min\u001b[39;00m \u001b[39mself\u001b[39m\u001b[39m.\u001b[39m_accessors\n\u001b[0;32m   5899\u001b[0m     \u001b[39mand\u001b[39;00m \u001b[39mself\u001b[39m\u001b[39m.\u001b[39m_info_axis\u001b[39m.\u001b[39m_can_hold_identifiers_and_holds_name(name)\n\u001b[0;32m   5900\u001b[0m ):\n\u001b[0;32m   5901\u001b[0m     \u001b[39mreturn\u001b[39;00m \u001b[39mself\u001b[39m[name]\n\u001b[1;32m-> 5902\u001b[0m \u001b[39mreturn\u001b[39;00m \u001b[39mobject\u001b[39;49m\u001b[39m.\u001b[39;49m\u001b[39m__getattribute__\u001b[39;49m(\u001b[39mself\u001b[39;49m, name)\n",
      "\u001b[1;31mAttributeError\u001b[0m: 'DataFrame' object has no attribute 'groupyby'"
     ]
    }
   ],
   "source": [
    "# 월별 거래량을 확인\n",
    "final_r[['payment_month','total_price']].groupyby('payment_month').agg(['mean','sum']).sum()"
   ]
  },
  {
   "cell_type": "code",
   "execution_count": 345,
   "metadata": {},
   "outputs": [
    {
     "data": {
      "text/plain": [
       "<Axes: xlabel='item_name'>"
      ]
     },
     "execution_count": 345,
     "metadata": {},
     "output_type": "execute_result"
    },
    {
     "data": {
      "image/png": "[encoded data removed]",
      "text/plain": [
       "<Figure size 640x480 with 1 Axes>"
      ]
     },
     "metadata": {},
     "output_type": "display_data"
    }
   ],
   "source": [
    "# 바 차트 적용\n",
    "group_data.plot.bar()\n"
   ]
  },
  {
   "cell_type": "code",
   "execution_count": null,
   "metadata": {},
   "outputs": [
    {
     "name": "stdout",
     "output_type": "stream",
     "text": [
      "Collecting matplotlib\n",
      "  Using cached matplotlib-3.7.1-cp311-cp311-win_amd64.whl (7.6 MB)\n",
      "Collecting contourpy>=1.0.1\n",
      "  Using cached contourpy-1.0.7-cp311-cp311-win_amd64.whl (162 kB)\n",
      "Collecting cycler>=0.10\n",
      "  Using cached cycler-0.11.0-py3-none-any.whl (6.4 kB)\n",
      "Requirement already satisfied: fonttools>=4.22.0 in c:\\users\\bjw\\appdata\\local\\programs\\python\\python311\\lib\\site-packages (from matplotlib) (4.39.3)\n",
      "Requirement already satisfied: kiwisolver>=1.0.1 in c:\\users\\bjw\\appdata\\local\\programs\\python\\python311\\lib\\site-packages (from matplotlib) (1.4.4)\n",
      "Requirement already satisfied: numpy>=1.20 in c:\\users\\bjw\\appdata\\local\\programs\\python\\python311\\lib\\site-packages (from matplotlib) (1.24.2)\n",
      "Requirement already satisfied: packaging>=20.0 in c:\\users\\bjw\\appdata\\roaming\\python\\python311\\site-packages (from matplotlib) (23.0)\n",
      "Requirement already satisfied: pillow>=6.2.0 in c:\\users\\bjw\\appdata\\local\\programs\\python\\python311\\lib\\site-packages (from matplotlib) (9.5.0)\n",
      "Requirement already satisfied: pyparsing>=2.3.1 in c:\\users\\bjw\\appdata\\local\\programs\\python\\python311\\lib\\site-packages (from matplotlib) (3.0.9)\n",
      "Requirement already satisfied: python-dateutil>=2.7 in c:\\users\\bjw\\appdata\\roaming\\python\\python311\\site-packages (from matplotlib) (2.8.2)\n",
      "Requirement already satisfied: six>=1.5 in c:\\users\\bjw\\appdata\\local\\programs\\python\\python311\\lib\\site-packages (from python-dateutil>=2.7->matplotlib) (1.16.0)\n",
      "Installing collected packages: cycler, contourpy, matplotlib\n",
      "Successfully installed contourpy-1.0.7 cycler-0.11.0 matplotlib-3.7.1\n"
     ]
    },
    {
     "name": "stderr",
     "output_type": "stream",
     "text": [
      "\n",
      "[notice] A new release of pip available: 22.3.1 -> 23.0.1\n",
      "[notice] To update, run: python.exe -m pip install --upgrade pip\n"
     ]
    }
   ],
   "source": [
    "!pip install matplotlib"
   ]
  },
  {
   "cell_type": "code",
   "execution_count": 352,
   "metadata": {},
   "outputs": [],
   "source": [
    "pivot_data = pd.pivot_table(\n",
    "    final_r,\n",
    "    index='payment_month',\n",
    "    aggfunc=['sum','mean','min','max','std'],\n",
    "    values='total_price'\n",
    ")"
   ]
  },
  {
   "cell_type": "code",
   "execution_count": null,
   "metadata": {},
   "outputs": [],
   "source": []
  }
 ],
 "metadata": {
  "kernelspec": {
   "display_name": "Python 3",
   "language": "python",
   "name": "python3"
  },
  "language_info": {
   "codemirror_mode": {
    "name": "ipython",
    "version": 3
   },
   "file_extension": ".py",
   "mimetype": "text/x-python",
   "name": "python",
   "nbconvert_exporter": "python",
   "pygments_lexer": "ipython3",
   "version": "3.11.2"
  },
  "orig_nbformat": 4
 },
 "nbformat": 4,
 "nbformat_minor": 2
}
