{
 "cells": [
  {
   "attachments": {},
   "cell_type": "markdown",
   "metadata": {},
   "source": [
    "## selenium 라이브러리\n",
    "1. 웹 어플리케이션 테스트를 위한 라이브러리\n",
    "2. python에서 웹브라우져를 제어하는 기능\n",
    "3. 웹 드라이버를 별도 설치"
   ]
  },
  {
   "cell_type": "code",
   "execution_count": 47,
   "metadata": {},
   "outputs": [
    {
     "name": "stdout",
     "output_type": "stream",
     "text": [
      "Requirement already satisfied: selenium in c:\\users\\bjw\\appdata\\local\\programs\\python\\python311\\lib\\site-packages (4.8.3)\n",
      "Requirement already satisfied: urllib3[socks]~=1.26 in c:\\users\\bjw\\appdata\\local\\programs\\python\\python311\\lib\\site-packages (from selenium) (1.26.15)\n",
      "Requirement already satisfied: trio~=0.17 in c:\\users\\bjw\\appdata\\local\\programs\\python\\python311\\lib\\site-packages (from selenium) (0.22.0)\n",
      "Requirement already satisfied: trio-websocket~=0.9 in c:\\users\\bjw\\appdata\\local\\programs\\python\\python311\\lib\\site-packages (from selenium) (0.10.2)\n",
      "Requirement already satisfied: certifi>=2021.10.8 in c:\\users\\bjw\\appdata\\local\\programs\\python\\python311\\lib\\site-packages (from selenium) (2022.12.7)\n",
      "Requirement already satisfied: attrs>=19.2.0 in c:\\users\\bjw\\appdata\\local\\programs\\python\\python311\\lib\\site-packages (from trio~=0.17->selenium) (22.2.0)\n",
      "Requirement already satisfied: sortedcontainers in c:\\users\\bjw\\appdata\\local\\programs\\python\\python311\\lib\\site-packages (from trio~=0.17->selenium) (2.4.0)\n",
      "Requirement already satisfied: async-generator>=1.9 in c:\\users\\bjw\\appdata\\local\\programs\\python\\python311\\lib\\site-packages (from trio~=0.17->selenium) (1.10)\n",
      "Requirement already satisfied: idna in c:\\users\\bjw\\appdata\\local\\programs\\python\\python311\\lib\\site-packages (from trio~=0.17->selenium) (3.4)\n",
      "Requirement already satisfied: outcome in c:\\users\\bjw\\appdata\\local\\programs\\python\\python311\\lib\\site-packages (from trio~=0.17->selenium) (1.2.0)\n",
      "Requirement already satisfied: sniffio in c:\\users\\bjw\\appdata\\local\\programs\\python\\python311\\lib\\site-packages (from trio~=0.17->selenium) (1.3.0)\n",
      "Requirement already satisfied: cffi>=1.14 in c:\\users\\bjw\\appdata\\local\\programs\\python\\python311\\lib\\site-packages (from trio~=0.17->selenium) (1.15.1)\n",
      "Requirement already satisfied: exceptiongroup in c:\\users\\bjw\\appdata\\local\\programs\\python\\python311\\lib\\site-packages (from trio-websocket~=0.9->selenium) (1.1.1)\n",
      "Requirement already satisfied: wsproto>=0.14 in c:\\users\\bjw\\appdata\\local\\programs\\python\\python311\\lib\\site-packages (from trio-websocket~=0.9->selenium) (1.2.0)\n",
      "Requirement already satisfied: PySocks!=1.5.7,<2.0,>=1.5.6 in c:\\users\\bjw\\appdata\\local\\programs\\python\\python311\\lib\\site-packages (from urllib3[socks]~=1.26->selenium) (1.7.1)\n",
      "Requirement already satisfied: pycparser in c:\\users\\bjw\\appdata\\local\\programs\\python\\python311\\lib\\site-packages (from cffi>=1.14->trio~=0.17->selenium) (2.21)\n",
      "Requirement already satisfied: h11<1,>=0.9.0 in c:\\users\\bjw\\appdata\\local\\programs\\python\\python311\\lib\\site-packages (from wsproto>=0.14->trio-websocket~=0.9->selenium) (0.14.0)\n"
     ]
    },
    {
     "name": "stderr",
     "output_type": "stream",
     "text": [
      "\n",
      "[notice] A new release of pip available: 22.3.1 -> 23.0.1\n",
      "[notice] To update, run: python.exe -m pip install --upgrade pip\n"
     ]
    }
   ],
   "source": [
    "# 라이브러리 설치\n",
    "!pip install selenium"
   ]
  },
  {
   "cell_type": "code",
   "execution_count": 48,
   "metadata": {},
   "outputs": [],
   "source": [
    "# 라이브러리 로드\n",
    "from selenium import webdriver"
   ]
  },
  {
   "cell_type": "code",
   "execution_count": 49,
   "metadata": {},
   "outputs": [],
   "source": [
    "# 웹드라이버 파일의 위치 지정\n",
    "path= \"../chromedriver.exe\""
   ]
  },
  {
   "cell_type": "code",
   "execution_count": 50,
   "metadata": {},
   "outputs": [
    {
     "name": "stderr",
     "output_type": "stream",
     "text": [
      "C:\\Users\\bjw\\AppData\\Local\\Temp\\ipykernel_15352\\1474807558.py:2: DeprecationWarning: executable_path has been deprecated, please pass in a Service object\n",
      "  driver = webdriver.Chrome(path)\n"
     ]
    }
   ],
   "source": [
    "# 웹드라이버 실행\n",
    "driver = webdriver.Chrome(path)"
   ]
  },
  {
   "cell_type": "code",
   "execution_count": 51,
   "metadata": {},
   "outputs": [],
   "source": [
    "# 웹 주소창에 값을 입력\n",
    "driver.get('https://www.naver.com')"
   ]
  },
  {
   "cell_type": "code",
   "execution_count": 52,
   "metadata": {},
   "outputs": [],
   "source": [
    "from selenium.webdriver.common.by import By\n",
    "from selenium.webdriver.common.keys import Keys"
   ]
  },
  {
   "cell_type": "code",
   "execution_count": 53,
   "metadata": {},
   "outputs": [],
   "source": [
    "# 검색어 창을 지정\n",
    "element = driver.find_element(By.ID,'query')"
   ]
  },
  {
   "cell_type": "code",
   "execution_count": 54,
   "metadata": {},
   "outputs": [],
   "source": [
    "# element에 입력할 값을 지정\n",
    "element.send_keys(\"날씨\")"
   ]
  },
  {
   "cell_type": "code",
   "execution_count": 55,
   "metadata": {},
   "outputs": [],
   "source": [
    "element.send_keys(Keys.ENTER)"
   ]
  },
  {
   "cell_type": "code",
   "execution_count": 56,
   "metadata": {},
   "outputs": [],
   "source": [
    "from bs4 import BeautifulSoup as bs"
   ]
  },
  {
   "cell_type": "code",
   "execution_count": 57,
   "metadata": {},
   "outputs": [],
   "source": [
    "soup = bs(driver.page_source, 'html.parser')"
   ]
  },
  {
   "cell_type": "code",
   "execution_count": 58,
   "metadata": {},
   "outputs": [
    {
     "data": {
      "text/plain": [
       "<ul class=\"list_news\"> <li class=\"bx\" id=\"sp_nws_all1\"> <div class=\"news_wrap api_ani_send\"> <div class=\"news_area\"> <div class=\"news_info\"> <div class=\"api_save_group _keep_wrap\"> <a aria-pressed=\"false\" class=\"btn_save _keep_trigger\" data-url=\"https://www.yna.co.kr/view/AKR20230410129351081?input=1195m\" href=\"#\" onclick=\"tCR('a=nws_all*h.kep&amp;r=1&amp;i=880000D8_000000000000000013871551&amp;u=javascript'); return false;\" role=\"button\"><i class=\"spnew ico_save\">문서 저장하기</i></a> <div class=\"api_ly_save _keep_save_layer\"> <a class=\"spnew_af item item_save _keep_save\" data-cr-off=\"a=nws_all*h.kepoff&amp;r=1&amp;i=880000D8_000000000000000013871551&amp;u=javascript\" data-cr-on=\"a=nws_all*h.kepon&amp;r=1&amp;i=880000D8_000000000000000013871551&amp;u=javascript\" href=\"#\" role=\"button\">Keep에 저장</a> <a class=\"spnew_af item item_quick\" href=\"https://keep.naver.com/\" onclick=\"return goOtherCR(this,'a=nws_all*h.kephome&amp;r=1&amp;i=880000D8_000000000000000013871551&amp;u='+urlencode(this.href));\" target=\"_blank\">Keep 바로가기</a> </div></div><div class=\"info_group\"> <a class=\"info press\" href=\"https://www.yna.co.kr/\" onclick=\"return goOtherCR(this, 'a=nws_all*h.prof&amp;r=1&amp;i=880000D8_000000000000000013871551&amp;g=001.0013871551&amp;u='+urlencode(this.href));\" target=\"_blank\"><span class=\"thumb_box\"><img alt=\"\" class=\"thumb\" data-lazysrc=\"https://search.pstatic.net/common/?src=https%3A%2F%2Fmimgnews.pstatic.net%2Fimage%2Fupload%2Foffice_logo%2F001%2F2017%2F06%2F29%2Flogo_001_18_20170629160329.png&amp;type=f54_54&amp;expire=24&amp;refresh=true\" data-obstatus=\"ob-once\" height=\"20\" onerror=\"this.src='data:image/gif;base64,R0lGODlhAQABAIAAAAAAAP///yH5BAEAAAAALAAAAAABAAEAAAIBRAA7';this.className='thumb bg_default_press'\" src=\"data:image/gif;base64,R0lGODlhAQABAIAAAAAAAP///yH5BAEAAAAALAAAAAABAAEAAAIBRAA7\" width=\"20\"/></span>연합뉴스<i class=\"spnew ico_pick\">언론사 선정</i></a><span class=\"info\">9시간 전</span><a class=\"info\" href=\"https://n.news.naver.com/mnews/article/001/0013871551?sid=104\" onclick=\"return goOtherCR(this, 'a=nws_all*h.nav&amp;r=1&amp;i=880000D8_000000000000000013871551&amp;u='+urlencode(this.href));\" target=\"_blank\">네이버뉴스</a> </div></div><a class=\"news_tit\" href=\"https://www.yna.co.kr/view/AKR20230410129351081?input=1195m\" onclick=\"return goOtherCR(this, 'a=nws_all*h.tit&amp;r=1&amp;i=880000D8_000000000000000013871551&amp;g=001.0013871551&amp;u='+urlencode(this.href));\" target=\"_blank\" title='프랑스 몽블랑 눈사태로 6명 사망…\"따뜻해진 날씨 영향일 수도\"(종합)'>프랑스 몽블랑 눈사태로 6명 사망…\"따뜻해진 <mark>날씨</mark> 영향일 수도\"(종합)</a> <div class=\"news_dsc\"> <div class=\"dsc_wrap\"> <a class=\"api_txt_lines dsc_txt_wrap\" href=\"https://www.yna.co.kr/view/AKR20230410129351081?input=1195m\" onclick=\"return goOtherCR(this, 'a=nws_all*h.body&amp;r=1&amp;i=880000D8_000000000000000013871551&amp;g=001.0013871551&amp;u='+urlencode(this.href));\" target=\"_blank\">기상청은 당일 눈사태 경보를 발령하지 않았지만 오트사부아 당국은 따뜻한 <mark>날씨</mark>와 바람이 복합적으로 눈사태를 일으켰을 수 있다고 추정했다. 이 지역에서는 지난 2014년 12월 25일 눈사태가 발생해 산악 경험이 많은...</a> </div></div></div><a class=\"dsc_thumb\" href=\"https://www.yna.co.kr/view/AKR20230410129351081?input=1195m\" onclick=\"return goOtherCR(this, 'a=nws_all*h.img&amp;r=1&amp;i=880000D8_000000000000000013871551&amp;g=001.0013871551&amp;u='+urlencode(this.href));\" target=\"_blank\"><img alt=\"프랑스 몽블랑 눈사태\" class=\"thumb api_get\" data-lazysrc=\"https://search.pstatic.net/common/?src=https%3A%2F%2Fimgnews.pstatic.net%2Fimage%2Forigin%2F001%2F2023%2F04%2F11%2F13871551.jpg&amp;type=ff264_180&amp;expire=2&amp;refresh=true\" data-obstatus=\"ob-once\" height=\"90\" onerror=\"this.parentNode.style.display='none';\" src=\"data:image/gif;base64,R0lGODlhAQABAIAAAAAAAP///yH5BAEAAAAALAAAAAABAAEAAAIBRAA7\" width=\"132\"/></a> </div><div class=\"news_cluster\"> <ul class=\"list_cluster\"> <li class=\"sub_bx\"> <span class=\"sub_wrap\"> <span class=\"sub_area\"> <cite class=\"sub_txt press\" title=\"한국경제TV\">한국경제TV</cite><span class=\"sub_txt\">4시간 전</span><a class=\"sub_txt\" href=\"https://n.news.naver.com/mnews/article/215/0001094516?sid=104\" onclick=\"return goOtherCR(this, 'a=nws_all*c.nav&amp;r=2&amp;i=88000149_000000000000000001094516&amp;u='+urlencode(this.href));\" target=\"_blank\">네이버뉴스</a> </span><a class=\"elss sub_tit\" href=\"http://www.wowtv.co.kr/NewsCenter/News/Read?articleId=A202304110014&amp;t=NN\" onclick=\"return goOtherCR(this, 'a=nws_all*c.tit&amp;r=2&amp;i=88000149_000000000000000001094516&amp;g=215.0001094516&amp;u='+urlencode(this.href));\" target=\"_blank\" title=\"프랑스 몽블랑 눈사태로 6명 사망…따뜻해진 날씨 탓?\">프랑스 몽블랑 눈사태로 6명 사망…따뜻해진 <mark>날씨</mark> 탓?</a> </span></li> </ul></div></li> <li class=\"bx\" id=\"sp_nws_all3\"> <div class=\"news_wrap api_ani_send\"> <div class=\"news_area\"> <div class=\"news_info\"> <div class=\"api_save_group _keep_wrap\"> <a aria-pressed=\"false\" class=\"btn_save _keep_trigger\" data-url=\"http://mbn.mk.co.kr/pages/news/newsView.php?category=mbn00013&amp;news_seq_no=4919384\" href=\"#\" onclick=\"tCR('a=nws_all*h.kep&amp;r=3&amp;i=880000BF_000000000000000001734800&amp;u=javascript'); return false;\" role=\"button\"><i class=\"spnew ico_save\">문서 저장하기</i></a> <div class=\"api_ly_save _keep_save_layer\"> <a class=\"spnew_af item item_save _keep_save\" data-cr-off=\"a=nws_all*h.kepoff&amp;r=3&amp;i=880000BF_000000000000000001734800&amp;u=javascript\" data-cr-on=\"a=nws_all*h.kepon&amp;r=3&amp;i=880000BF_000000000000000001734800&amp;u=javascript\" href=\"#\" role=\"button\">Keep에 저장</a> <a class=\"spnew_af item item_quick\" href=\"https://keep.naver.com/\" onclick=\"return goOtherCR(this,'a=nws_all*h.kephome&amp;r=3&amp;i=880000BF_000000000000000001734800&amp;u='+urlencode(this.href));\" target=\"_blank\">Keep 바로가기</a> </div></div><div class=\"info_group\"> <a class=\"info press\" href=\"http://www.mbn.co.kr\" onclick=\"return goOtherCR(this, 'a=nws_all*h.prof&amp;r=3&amp;i=880000BF_000000000000000001734800&amp;g=057.0001734800&amp;u='+urlencode(this.href));\" target=\"_blank\"><span class=\"thumb_box\"><img alt=\"\" class=\"thumb\" data-lazysrc=\"https://search.pstatic.net/common/?src=https%3A%2F%2Fmimgnews.pstatic.net%2Fimage%2Fupload%2Foffice_logo%2F057%2F2019%2F11%2F25%2Flogo_057_18_20191125103625.png&amp;type=f54_54&amp;expire=24&amp;refresh=true\" data-obstatus=\"ob-once\" height=\"20\" onerror=\"this.src='data:image/gif;base64,R0lGODlhAQABAIAAAAAAAP///yH5BAEAAAAALAAAAAABAAEAAAIBRAA7';this.className='thumb bg_default_press'\" src=\"data:image/gif;base64,R0lGODlhAQABAIAAAAAAAP///yH5BAEAAAAALAAAAAABAAEAAAIBRAA7\" width=\"20\"/></span>MBN<i class=\"spnew ico_pick\">언론사 선정</i></a><span class=\"info\">3시간 전</span><a class=\"info\" href=\"https://n.news.naver.com/mnews/article/057/0001734800?sid=103\" onclick=\"return goOtherCR(this, 'a=nws_all*h.nav&amp;r=3&amp;i=880000BF_000000000000000001734800&amp;u='+urlencode(this.href));\" target=\"_blank\">네이버뉴스</a> </div></div><a class=\"news_tit\" href=\"http://mbn.mk.co.kr/pages/news/newsView.php?category=mbn00013&amp;news_seq_no=4919384\" onclick=\"return goOtherCR(this, 'a=nws_all*h.tit&amp;r=3&amp;i=880000BF_000000000000000001734800&amp;g=057.0001734800&amp;u='+urlencode(this.href));\" target=\"_blank\" title=\"오늘의 날씨, 비온 뒤 기온 뚝…미세먼지 '나쁨'\">오늘의 <mark>날씨</mark>, 비온 뒤 기온 뚝…미세먼지 '나쁨'</a> <div class=\"news_dsc\"> <div class=\"dsc_wrap\"> <a class=\"api_txt_lines dsc_txt_wrap\" href=\"http://mbn.mk.co.kr/pages/news/newsView.php?category=mbn00013&amp;news_seq_no=4919384\" onclick=\"return goOtherCR(this, 'a=nws_all*h.body&amp;r=3&amp;i=880000BF_000000000000000001734800&amp;g=057.0001734800&amp;u='+urlencode(this.href));\" target=\"_blank\">오늘은(11일) 전국이 대체로 흐리고 비가 내린 뒤 밤부터 기온이 크게 떨어질 전망입니다. 예상 강수량은 수도권·강원 내륙 산지·충청권 5~20mm, 강원 동해안·남부지방·제주도·서해5도·울릉도·독도도 5mm 내외입니다....</a> </div></div></div><a class=\"dsc_thumb\" href=\"http://mbn.mk.co.kr/pages/news/newsView.php?category=mbn00013&amp;news_seq_no=4919384\" onclick=\"return goOtherCR(this, 'a=nws_all*h.img&amp;r=3&amp;i=880000BF_000000000000000001734800&amp;g=057.0001734800&amp;u='+urlencode(this.href));\" target=\"_blank\"><img alt=\"오늘의 날씨, 비온 뒤\" class=\"thumb api_get\" data-lazysrc=\"https://search.pstatic.net/common/?src=https%3A%2F%2Fimgnews.pstatic.net%2Fimage%2Forigin%2F057%2F2023%2F04%2F11%2F1734800.jpg&amp;type=ff264_180&amp;expire=2&amp;refresh=true\" data-obstatus=\"ob-once\" height=\"90\" onerror=\"this.parentNode.style.display='none';\" src=\"data:image/gif;base64,R0lGODlhAQABAIAAAAAAAP///yH5BAEAAAAALAAAAAABAAEAAAIBRAA7\" width=\"132\"/></a> </div><div class=\"news_cluster\"> <ul class=\"list_cluster\"> <li class=\"sub_bx\"> <span class=\"sub_wrap\"> <span class=\"sub_area\"> <cite class=\"sub_txt press\" title=\"조세일보\">조세일보<i class=\"spnew ico_pick\">언론사 선정</i></cite><span class=\"sub_txt\">5시간 전</span><a class=\"sub_txt\" href=\"https://n.news.naver.com/mnews/article/123/0002302138?sid=102\" onclick=\"return goOtherCR(this, 'a=nws_all*i.nav&amp;r=4&amp;i=880000F1_000000000000000002302138&amp;u='+urlencode(this.href));\" target=\"_blank\">네이버뉴스</a> </span><a class=\"elss sub_tit\" href=\"http://www.joseilbo.com/news/news_read.php?uid=483380&amp;class=33&amp;grp=\" onclick=\"return goOtherCR(this, 'a=nws_all*i.tit&amp;r=4&amp;i=880000F1_000000000000000002302138&amp;g=123.0002302138&amp;u='+urlencode(this.href));\" target=\"_blank\" title=\"[날씨] 전국 흐리고 한때 비…강한 바람 주의\">[<mark>날씨</mark>] 전국 흐리고 한때 비…강한 바람 주의</a> </span></li> <li class=\"sub_bx\"> <span class=\"sub_wrap\"> <span class=\"sub_area\"> <cite class=\"sub_txt press\" title=\"스포츠경향\">스포츠경향</cite><span class=\"sub_txt\">10시간 전</span><a class=\"sub_txt\" href=\"https://n.news.naver.com/mnews/article/144/0000879346?sid=103\" onclick=\"return goOtherCR(this, 'a=nws_all*c.nav&amp;r=5&amp;i=8800006D_000000000000000000879346&amp;u='+urlencode(this.href));\" target=\"_blank\">네이버뉴스</a> </span><a class=\"elss sub_tit\" href=\"http://sports.khan.co.kr/news/sk_index.html?art_id=202304110001003&amp;sec_id=560101&amp;pt=nv\" onclick=\"return goOtherCR(this, 'a=nws_all*c.tit&amp;r=5&amp;i=8800006D_000000000000000000879346&amp;g=144.0000879346&amp;u='+urlencode(this.href));\" target=\"_blank\" title=\"비 내리고 기온 크게 떨어져[오늘 날씨]\">비 내리고 기온 크게 떨어져[오늘 <mark>날씨</mark>]</a> </span></li> </ul></div><a class=\"news_more\" href=\"?where=news&amp;sm=tab_tnw&amp;query=%EB%82%A0%EC%94%A8&amp;nso=so:r,p:all,a:all&amp;related=1&amp;docid=0570001734800\" onclick=\"return goOtherCR(this, 'a=nws_all*r.more&amp;u='+urlencode(urlexpand(this.href)));\">관련뉴스 전체보기<i class=\"spnew ico_arrow\"></i></a> </li> <li class=\"bx\" id=\"sp_nws_all6\"> <div class=\"news_wrap api_ani_send\"> <div class=\"news_area\"> <div class=\"news_info\"> <div class=\"api_save_group _keep_wrap\"> <a aria-pressed=\"false\" class=\"btn_save _keep_trigger\" data-url=\"http://news.tf.co.kr/read/livingculture/2010813.htm\" href=\"#\" onclick=\"tCR('a=nws_all*h.kep&amp;r=6&amp;i=881999s8_000000000000000000210902&amp;u=javascript'); return false;\" role=\"button\"><i class=\"spnew ico_save\">문서 저장하기</i></a> <div class=\"api_ly_save _keep_save_layer\"> <a class=\"spnew_af item item_save _keep_save\" data-cr-off=\"a=nws_all*h.kepoff&amp;r=6&amp;i=881999s8_000000000000000000210902&amp;u=javascript\" data-cr-on=\"a=nws_all*h.kepon&amp;r=6&amp;i=881999s8_000000000000000000210902&amp;u=javascript\" href=\"#\" role=\"button\">Keep에 저장</a> <a class=\"spnew_af item item_quick\" href=\"https://keep.naver.com/\" onclick=\"return goOtherCR(this,'a=nws_all*h.kephome&amp;r=6&amp;i=881999s8_000000000000000000210902&amp;u='+urlencode(this.href));\" target=\"_blank\">Keep 바로가기</a> </div></div><div class=\"info_group\"> <a class=\"info press\" href=\"http://www.tf.co.kr/\" onclick=\"return goOtherCR(this, 'a=nws_all*h.prof&amp;r=6&amp;i=881999s8_000000000000000000210902&amp;g=629.0000210902&amp;u='+urlencode(this.href));\" target=\"_blank\"><span class=\"thumb_box\"><img alt=\"\" class=\"thumb\" data-lazysrc=\"https://search.pstatic.net/common/?src=https%3A%2F%2Fmimgnews.pstatic.net%2Fimage%2Fupload%2Foffice_logo%2F629%2F2019%2F09%2F26%2Flogo_629_18_20190926182626.png&amp;type=f54_54&amp;expire=24&amp;refresh=true\" data-obstatus=\"ob-once\" height=\"20\" onerror=\"this.src='data:image/gif;base64,R0lGODlhAQABAIAAAAAAAP///yH5BAEAAAAALAAAAAABAAEAAAIBRAA7';this.className='thumb bg_default_press'\" src=\"data:image/gif;base64,R0lGODlhAQABAIAAAAAAAP///yH5BAEAAAAALAAAAAABAAEAAAIBRAA7\" width=\"20\"/></span>더팩트<i class=\"spnew ico_pick\">언론사 선정</i></a><span class=\"info\">10시간 전</span><a class=\"info\" href=\"https://n.news.naver.com/mnews/article/629/0000210902?sid=103\" onclick=\"return goOtherCR(this, 'a=nws_all*h.nav&amp;r=6&amp;i=881999s8_000000000000000000210902&amp;u='+urlencode(this.href));\" target=\"_blank\">네이버뉴스</a> </div></div><a class=\"news_tit\" href=\"http://news.tf.co.kr/read/livingculture/2010813.htm\" onclick=\"return goOtherCR(this, 'a=nws_all*h.tit&amp;r=6&amp;i=881999s8_000000000000000000210902&amp;g=629.0000210902&amp;u='+urlencode(this.href));\" target=\"_blank\" title=\"[오늘의 날씨] 황사 덮쳐 미세먼지 '나쁨'…전국 잠시 '흙비'\">[오늘의 <mark>날씨</mark>] 황사 덮쳐 미세먼지 '나쁨'…전국 잠시 '흙비'</a> <div class=\"news_dsc\"> <div class=\"dsc_wrap\"> <a class=\"api_txt_lines dsc_txt_wrap\" href=\"http://news.tf.co.kr/read/livingculture/2010813.htm\" onclick=\"return goOtherCR(this, 'a=nws_all*h.body&amp;r=6&amp;i=881999s8_000000000000000000210902&amp;g=629.0000210902&amp;u='+urlencode(this.href));\" target=\"_blank\">화요일인 11일 황사의 영향으로 전국 대부분 지역의 미세먼지 농도가 '나쁨'까지 치솟겠다. 수도권 중심으로 잠시 황사비도 내린다. 기상청에 따르면 이날 고비사막과 내몽골고원에서 발생한 황사가 북서풍을 타고...</a> </div></div></div><a class=\"dsc_thumb\" href=\"http://news.tf.co.kr/read/livingculture/2010813.htm\" onclick=\"return goOtherCR(this, 'a=nws_all*h.img&amp;r=6&amp;i=881999s8_000000000000000000210902&amp;g=629.0000210902&amp;u='+urlencode(this.href));\" target=\"_blank\"><img alt=\"[오늘의 날씨] 황사 덮\" class=\"thumb api_get\" data-lazysrc=\"https://search.pstatic.net/common/?src=https%3A%2F%2Fimgnews.pstatic.net%2Fimage%2Forigin%2F629%2F2023%2F04%2F11%2F210902.jpg&amp;type=ff264_180&amp;expire=2&amp;refresh=true\" data-obstatus=\"ob-once\" height=\"90\" onerror=\"this.parentNode.style.display='none';\" src=\"data:image/gif;base64,R0lGODlhAQABAIAAAAAAAP///yH5BAEAAAAALAAAAAABAAEAAAIBRAA7\" width=\"132\"/></a> </div><div class=\"news_cluster\"> <ul class=\"list_cluster\"> <li class=\"sub_bx\"> <span class=\"sub_wrap\"> <span class=\"sub_area\"> <cite class=\"sub_txt press\" title=\"머니S\">머니S<i class=\"spnew ico_pick\">언론사 선정</i></cite><span class=\"sub_txt\">5시간 전</span><a class=\"sub_txt\" href=\"https://n.news.naver.com/mnews/article/417/0000911576?sid=103\" onclick=\"return goOtherCR(this, 'a=nws_all*i.nav&amp;r=7&amp;i=8812805E_000000000000000000911576&amp;u='+urlencode(this.href));\" target=\"_blank\">네이버뉴스</a> </span><a class=\"elss sub_tit\" href=\"http://moneys.mt.co.kr/news/mwView.php?no=2023041013582934909\" onclick=\"return goOtherCR(this, 'a=nws_all*i.tit&amp;r=7&amp;i=8812805E_000000000000000000911576&amp;g=417.0000911576&amp;u='+urlencode(this.href));\" target=\"_blank\" title=\"[오늘 날씨] &quot;우산 챙기세요&quot;… 전국 비소식, 미세먼지 '보통'\">[오늘 <mark>날씨</mark>] \"우산 챙기세요\"… 전국 비소식, 미세먼지 '보통'</a> </span></li> <li class=\"sub_bx\"> <span class=\"sub_wrap\"> <span class=\"sub_area\"> <cite class=\"sub_txt press\" title=\"뉴스1\">뉴스1</cite><span class=\"sub_txt\">4시간 전</span><a class=\"sub_txt\" href=\"https://n.news.naver.com/mnews/article/421/0006738778?sid=103\" onclick=\"return goOtherCR(this, 'a=nws_all*c.nav&amp;r=8&amp;i=08138263_000000000000000006738778&amp;u='+urlencode(this.href));\" target=\"_blank\">네이버뉴스</a> </span><a class=\"elss sub_tit\" href=\"https://www.news1.kr/articles/5010676\" onclick=\"return goOtherCR(this, 'a=nws_all*c.tit&amp;r=8&amp;i=08138263_000000000000000006738778&amp;g=421.0006738778&amp;u='+urlencode(this.href));\" target=\"_blank\" title=\"[오늘날씨] 전국 강한 바람과 한때 비…황사·미세먼지 '나쁨'\">[오늘<mark>날씨</mark>] 전국 강한 바람과 한때 비…황사·미세먼지 '나쁨'</a> </span></li> </ul></div><a class=\"news_more\" href=\"?where=news&amp;sm=tab_tnw&amp;query=%EB%82%A0%EC%94%A8&amp;nso=so:r,p:all,a:all&amp;related=1&amp;docid=6290000210902\" onclick=\"return goOtherCR(this, 'a=nws_all*r.more&amp;u='+urlencode(urlexpand(this.href)));\">관련뉴스 전체보기<i class=\"spnew ico_arrow\"></i></a> </li> <li class=\"bx\" id=\"sp_nws_all9\"> <div class=\"news_wrap api_ani_send\"> <div class=\"news_area\"> <div class=\"news_info\"> <div class=\"api_save_group _keep_wrap\"> <a aria-pressed=\"false\" class=\"btn_save _keep_trigger\" data-url=\"http://www.newsis.com/view/?id=NISX20230410_0002260980&amp;cID=10201&amp;pID=10200\" href=\"#\" onclick=\"tCR('a=nws_all*h.kep&amp;r=9&amp;i=88000127_000000000000000011794692&amp;u=javascript'); return false;\" role=\"button\"><i class=\"spnew ico_save\">문서 저장하기</i></a> <div class=\"api_ly_save _keep_save_layer\"> <a class=\"spnew_af item item_save _keep_save\" data-cr-off=\"a=nws_all*h.kepoff&amp;r=9&amp;i=88000127_000000000000000011794692&amp;u=javascript\" data-cr-on=\"a=nws_all*h.kepon&amp;r=9&amp;i=88000127_000000000000000011794692&amp;u=javascript\" href=\"#\" role=\"button\">Keep에 저장</a> <a class=\"spnew_af item item_quick\" href=\"https://keep.naver.com/\" onclick=\"return goOtherCR(this,'a=nws_all*h.kephome&amp;r=9&amp;i=88000127_000000000000000011794692&amp;u='+urlencode(this.href));\" target=\"_blank\">Keep 바로가기</a> </div></div><div class=\"info_group\"> <a class=\"info press\" href=\"http://www.newsis.com\" onclick=\"return goOtherCR(this, 'a=nws_all*h.prof&amp;r=9&amp;i=88000127_000000000000000011794692&amp;g=003.0011794692&amp;u='+urlencode(this.href));\" target=\"_blank\"><span class=\"thumb_box\"><img alt=\"\" class=\"thumb\" data-lazysrc=\"https://search.pstatic.net/common/?src=https%3A%2F%2Fmimgnews.pstatic.net%2Fimage%2Fupload%2Foffice_logo%2F003%2F2019%2F02%2F19%2Flogo_003_18_20190219111719.jpg&amp;type=f54_54&amp;expire=24&amp;refresh=true\" data-obstatus=\"ob-once\" height=\"20\" onerror=\"this.src='data:image/gif;base64,R0lGODlhAQABAIAAAAAAAP///yH5BAEAAAAALAAAAAABAAEAAAIBRAA7';this.className='thumb bg_default_press'\" src=\"data:image/gif;base64,R0lGODlhAQABAIAAAAAAAP///yH5BAEAAAAALAAAAAABAAEAAAIBRAA7\" width=\"20\"/></span>뉴시스<i class=\"spnew ico_pick\">언론사 선정</i></a><span class=\"info\">17시간 전</span><a class=\"info\" href=\"https://n.news.naver.com/mnews/article/003/0011794692?sid=102\" onclick=\"return goOtherCR(this, 'a=nws_all*h.nav&amp;r=9&amp;i=88000127_000000000000000011794692&amp;u='+urlencode(this.href));\" target=\"_blank\">네이버뉴스</a> </div></div><a class=\"news_tit\" href=\"http://www.newsis.com/view/?id=NISX20230410_0002260980&amp;cID=10201&amp;pID=10200\" onclick=\"return goOtherCR(this, 'a=nws_all*h.tit&amp;r=9&amp;i=88000127_000000000000000011794692&amp;g=003.0011794692&amp;u='+urlencode(this.href));\" target=\"_blank\" title=\"아침부터 '황사비'에 돌풍…수도권 미세먼지 '매우나쁨'[내일날씨]\">아침부터 '황사비'에 돌풍…수도권 미세먼지 '매우나쁨'[내일<mark>날씨</mark>]</a> <div class=\"news_dsc\"> <div class=\"dsc_wrap\"> <a class=\"api_txt_lines dsc_txt_wrap\" href=\"http://www.newsis.com/view/?id=NISX20230410_0002260980&amp;cID=10201&amp;pID=10200\" onclick=\"return goOtherCR(this, 'a=nws_all*h.body&amp;r=9&amp;i=88000127_000000000000000011794692&amp;g=003.0011794692&amp;u='+urlencode(this.href));\" target=\"_blank\">기사내용 요약 중부지방 5~20㎜ 비…오후부터 황사 영향 아침 최저기온 4~17도, 낮 최고 15~26도 강원서 중·서부로 강풍특보 확대될 가능성 [서울=뉴시스]정진형 기자 = 화요일인 오는 11일은 중국에서 유입된 황사가...</a> </div></div></div><a class=\"dsc_thumb\" href=\"http://www.newsis.com/view/?id=NISX20230410_0002260980&amp;cID=10201&amp;pID=10200\" onclick=\"return goOtherCR(this, 'a=nws_all*h.img&amp;r=9&amp;i=88000127_000000000000000011794692&amp;g=003.0011794692&amp;u='+urlencode(this.href));\" target=\"_blank\"><img alt=\"아침부터 ‘황사비‘에 \" class=\"thumb api_get\" data-lazysrc=\"https://search.pstatic.net/common/?src=https%3A%2F%2Fimgnews.pstatic.net%2Fimage%2Forigin%2F003%2F2023%2F04%2F10%2F11794692.jpg&amp;type=ff264_180&amp;expire=2&amp;refresh=true\" data-obstatus=\"ob-once\" height=\"90\" onerror=\"this.parentNode.style.display='none';\" src=\"data:image/gif;base64,R0lGODlhAQABAIAAAAAAAP///yH5BAEAAAAALAAAAAABAAEAAAIBRAA7\" width=\"132\"/></a> </div><div class=\"news_cluster\"> <ul class=\"list_cluster\"> <li class=\"sub_bx\"> <span class=\"sub_wrap\"> <span class=\"sub_area\"> <cite class=\"sub_txt press\" title=\"머니투데이\">머니투데이</cite><span class=\"sub_txt\">16시간 전</span><a class=\"sub_txt\" href=\"https://n.news.naver.com/mnews/article/008/0004873192?sid=102\" onclick=\"return goOtherCR(this, 'a=nws_all*c.nav&amp;r=10&amp;i=880000C2_000000000000000004873192&amp;u='+urlencode(this.href));\" target=\"_blank\">네이버뉴스</a> </span><a class=\"elss sub_tit\" href=\"http://news.mt.co.kr/mtview.php?no=2023041017164741399\" onclick=\"return goOtherCR(this, 'a=nws_all*c.tit&amp;r=10&amp;i=880000C2_000000000000000004873192&amp;g=008.0004873192&amp;u='+urlencode(this.href));\" target=\"_blank\" title=\"[내일 날씨] 전국 요란한 황사비…그친 뒤 미세먼지 '나쁨'\">[내일 <mark>날씨</mark>] 전국 요란한 황사비…그친 뒤 미세먼지 '나쁨'</a> </span></li> </ul></div></li> </ul>"
      ]
     },
     "execution_count": 58,
     "metadata": {},
     "output_type": "execute_result"
    }
   ],
   "source": [
    "data= soup.find('ul',attrs ={\n",
    "    'class' : 'list_news'\n",
    "})\n",
    "\n",
    "data"
   ]
  },
  {
   "cell_type": "code",
   "execution_count": 59,
   "metadata": {},
   "outputs": [],
   "source": [
    "_list = data.find_all('a', attrs={\n",
    "    'class' : 'news_tit'\n",
    "})"
   ]
  },
  {
   "cell_type": "code",
   "execution_count": 60,
   "metadata": {},
   "outputs": [
    {
     "data": {
      "text/plain": [
       "['프랑스 몽블랑 눈사태로 6명 사망…\"따뜻해진 날씨 영향일 수도\"(종합)',\n",
       " \"오늘의 날씨, 비온 뒤 기온 뚝…미세먼지 '나쁨'\",\n",
       " \"[오늘의 날씨] 황사 덮쳐 미세먼지 '나쁨'…전국 잠시 '흙비'\",\n",
       " \"아침부터 '황사비'에 돌풍…수도권 미세먼지 '매우나쁨'[내일날씨]\"]"
      ]
     },
     "execution_count": 60,
     "metadata": {},
     "output_type": "execute_result"
    }
   ],
   "source": [
    "result = []\n",
    "for i in _list:\n",
    "    result.append(i.get_text())\n",
    "result"
   ]
  },
  {
   "cell_type": "code",
   "execution_count": 99,
   "metadata": {},
   "outputs": [
    {
     "name": "stderr",
     "output_type": "stream",
     "text": [
      "C:\\Users\\bjw\\AppData\\Local\\Temp\\ipykernel_15352\\3832672987.py:2: DeprecationWarning: executable_path has been deprecated, please pass in a Service object\n",
      "  driver = webdriver.Chrome(path)\n"
     ]
    }
   ],
   "source": [
    "# 네이버 증권 현대차 투자본석 성장성 부분 \n",
    "driver = webdriver.Chrome(path)\n",
    "code = '005380'\n",
    "driver.get('https://navercomp.wisereport.co.kr/v2/company/c1010001.aspx?cmp_cd='+code)"
   ]
  },
  {
   "cell_type": "code",
   "execution_count": 100,
   "metadata": {},
   "outputs": [
    {
     "name": "stdout",
     "output_type": "stream",
     "text": [
      "<selenium.webdriver.remote.webelement.WebElement (session=\"c1b6085f766ca7c77af3db45258fca77\", element=\"a9d8b4d0-dc0b-4f67-aa26-539fe3b3d16a\")>\n"
     ]
    }
   ],
   "source": [
    "element = driver.find_element(By.CLASS_NAME, 'menu')\n",
    "print(element)"
   ]
  },
  {
   "cell_type": "code",
   "execution_count": 101,
   "metadata": {},
   "outputs": [],
   "source": [
    "element2= element.find_elements(By.TAG_NAME, 'a')[3]\n",
    "element2.click()"
   ]
  },
  {
   "cell_type": "code",
   "execution_count": 102,
   "metadata": {},
   "outputs": [],
   "source": [
    "soup = bs(driver.page_source, 'html.parser')"
   ]
  },
  {
   "cell_type": "code",
   "execution_count": 107,
   "metadata": {},
   "outputs": [],
   "source": [
    "data =soup.find_all('table', attrs={\n",
    "    'class': 'gHead01 all-width data-list'\n",
    "})[1]"
   ]
  },
  {
   "cell_type": "code",
   "execution_count": 109,
   "metadata": {},
   "outputs": [],
   "source": [
    "# 컬럼부분에 들어갈 값을 추출\n",
    "_list = data.find_all('th')"
   ]
  },
  {
   "cell_type": "code",
   "execution_count": 113,
   "metadata": {},
   "outputs": [
    {
     "data": {
      "text/plain": [
       "['항목',\n",
       " '\\n2018/12(IFRS연결)\\n',\n",
       " '\\n2019/12(IFRS연결)\\n',\n",
       " '\\n2020/12(IFRS연결)\\n',\n",
       " '\\n2021/12(IFRS연결)\\n',\n",
       " '\\n2022/12(IFRS연결)\\n\\t\\t\\t\\t\\t\\t\\t\\t\\t\\t\\t\\t\\t\\n\\t\\t\\t\\t\\t\\t\\t\\t\\t\\t\\t\\t\\t연간컨센서스보기\\n\\n',\n",
       " '\\n2023/12(E)(IFRS연결)\\n\\t\\t\\t\\t\\t\\t\\t\\t\\t\\t\\t\\t\\t\\n\\t\\t\\t\\t\\t\\t\\t\\t\\t\\t\\t\\t\\t연간컨센서스닫기\\n\\n',\n",
       " '\\n전년대비(YoY)\\n',\n",
       " '\\n전년대비(YoY)\\n']"
      ]
     },
     "execution_count": 113,
     "metadata": {},
     "output_type": "execute_result"
    }
   ],
   "source": [
    "col_list = []\n",
    "for i in _list :\n",
    "    col_list.append(i.get_text())\n",
    "\n",
    "col_list"
   ]
  },
  {
   "cell_type": "code",
   "execution_count": 115,
   "metadata": {},
   "outputs": [],
   "source": [
    "# value 값을 추출\n",
    "data2 = data.find('tbody')"
   ]
  },
  {
   "cell_type": "code",
   "execution_count": 117,
   "metadata": {},
   "outputs": [],
   "source": [
    "data3 = data2.find_all('tr')"
   ]
  },
  {
   "cell_type": "code",
   "execution_count": 119,
   "metadata": {},
   "outputs": [
    {
     "data": {
      "text/plain": [
       "[['\\n\\n펼치기\\n\\t\\t\\t\\t\\t\\t\\t\\t\\t\\t\\t\\t\\t\\t\\n\\t\\t\\t\\t\\t\\t\\t\\t\\t\\t\\t\\tEPS\\n\\t\\t\\t\\t\\t\\t\\t\\t\\t\\t\\t\\t\\t\\n',\n",
       "  '5,352',\n",
       "  '10,761',\n",
       "  '5,143',\n",
       "  '17,846',\n",
       "  '26,592',\n",
       "  '31,707',\n",
       "  '49',\n",
       "  '19'],\n",
       " ['\\n\\n\\xa0\\n\\t\\t\\t\\t\\t\\t\\t\\t\\t\\t\\t\\t\\t\\t\\n\\t\\t\\t\\t\\t\\t\\t\\t\\t\\t\\t\\t당기순이익(지배)＜당기＞\\n\\t\\t\\t\\t\\t\\t\\t\\t\\t\\t\\t\\t\\t\\n',\n",
       "  '15,080.8',\n",
       "  '29,800.5',\n",
       "  '14,244.4',\n",
       "  '49,423.6',\n",
       "  '73,643.6',\n",
       "  '87,009.1',\n",
       "  '\\xa0',\n",
       "  '\\xa0'],\n",
       " ['\\n\\n\\xa0\\n\\t\\t\\t\\t\\t\\t\\t\\t\\t\\t\\t\\t\\t\\t\\n\\t\\t\\t\\t\\t\\t\\t\\t\\t\\t\\t\\t보통주수정평균발행주식수＜당기＞\\n\\t\\t\\t\\t\\t\\t\\t\\t\\t\\t\\t\\t\\t\\n',\n",
       "  '217,415,903',\n",
       "  '213,668,187',\n",
       "  '213,668,187',\n",
       "  '213,668,187',\n",
       "  '213,668,187',\n",
       "  '211,724,685',\n",
       "  '\\xa0',\n",
       "  '\\xa0'],\n",
       " ['\\n\\n\\xa0\\n\\t\\t\\t\\t\\t\\t\\t\\t\\t\\t\\t\\t\\t\\t\\n\\t\\t\\t\\t\\t\\t\\t\\t\\t\\t\\t\\t우선주수정평균발행주식수＜당기＞\\n\\t\\t\\t\\t\\t\\t\\t\\t\\t\\t\\t\\t\\t\\n',\n",
       "  '64,366,142',\n",
       "  '63,270,871',\n",
       "  '63,270,871',\n",
       "  '63,270,871',\n",
       "  '63,270,871',\n",
       "  '62,695,368',\n",
       "  '\\xa0',\n",
       "  '\\xa0'],\n",
       " ['\\n\\n펼치기\\n\\t\\t\\t\\t\\t\\t\\t\\t\\t\\t\\t\\t\\t\\t\\n\\t\\t\\t\\t\\t\\t\\t\\t\\t\\t\\t\\tBPS\\n\\t\\t\\t\\t\\t\\t\\t\\t\\t\\t\\t\\t\\t\\n',\n",
       "  '256,422',\n",
       "  '267,549',\n",
       "  '266,968',\n",
       "  '289,609',\n",
       "  '315,142',\n",
       "  '347,220',\n",
       "  '9',\n",
       "  '10'],\n",
       " ['\\n\\n\\xa0\\n\\t\\t\\t\\t\\t\\t\\t\\t\\t\\t\\t\\t\\t\\t\\n\\t\\t\\t\\t\\t\\t\\t\\t\\t\\t\\t\\t자본총계(지배)＜당기＞\\n\\t\\t\\t\\t\\t\\t\\t\\t\\t\\t\\t\\t\\t\\n',\n",
       "  '679,739.7',\n",
       "  '700,658.0',\n",
       "  '694,806.3',\n",
       "  '749,861.2',\n",
       "  '823,492.9',\n",
       "  '909,438.6',\n",
       "  '\\xa0',\n",
       "  '\\xa0'],\n",
       " ['\\n\\n\\xa0\\n\\t\\t\\t\\t\\t\\t\\t\\t\\t\\t\\t\\t\\t\\t\\n\\t\\t\\t\\t\\t\\t\\t\\t\\t\\t\\t\\t보통주수정기말발행주식수(자사주차감)＜당기＞\\n\\t\\t\\t\\t\\t\\t\\t\\t\\t\\t\\t\\t\\t\\n',\n",
       "  '204,280,606',\n",
       "  '201,833,036',\n",
       "  '200,576,769',\n",
       "  '199,619,945',\n",
       "  '202,259,476',\n",
       "  '202,870,846',\n",
       "  '\\xa0',\n",
       "  '\\xa0'],\n",
       " ['\\n\\n\\xa0\\n\\t\\t\\t\\t\\t\\t\\t\\t\\t\\t\\t\\t\\t\\t\\n\\t\\t\\t\\t\\t\\t\\t\\t\\t\\t\\t\\t우선주수정기말발행주식수(자사주차감)＜당기＞\\n\\t\\t\\t\\t\\t\\t\\t\\t\\t\\t\\t\\t\\t\\n',\n",
       "  '60,805,434',\n",
       "  '60,047,227',\n",
       "  '59,681,734',\n",
       "  '59,302,110',\n",
       "  '59,049,027',\n",
       "  '59,049,027',\n",
       "  '\\xa0',\n",
       "  '\\xa0'],\n",
       " ['\\n\\n펼치기\\n\\t\\t\\t\\t\\t\\t\\t\\t\\t\\t\\t\\t\\t\\t\\n\\t\\t\\t\\t\\t\\t\\t\\t\\t\\t\\t\\tCPS\\n\\t\\t\\t\\t\\t\\t\\t\\t\\t\\t\\t\\t\\t\\n',\n",
       "  '13,359',\n",
       "  '1,516',\n",
       "  '-1,480',\n",
       "  '-4,248',\n",
       "  '38,374',\n",
       "  '52,979',\n",
       "  '1,003',\n",
       "  '38'],\n",
       " ['\\n\\n\\xa0\\n\\t\\t\\t\\t\\t\\t\\t\\t\\t\\t\\t\\t\\t\\t\\n\\t\\t\\t\\t\\t\\t\\t\\t\\t\\t\\t\\t영업활동현금흐름＜당기＞\\n\\t\\t\\t\\t\\t\\t\\t\\t\\t\\t\\t\\t\\t\\n',\n",
       "  '37,642.7',\n",
       "  '4,197.8',\n",
       "  '-4,098.1',\n",
       "  '-11,764.2',\n",
       "  '106,273.1',\n",
       "  '136,265.8',\n",
       "  '\\xa0',\n",
       "  '\\xa0'],\n",
       " ['\\n\\n\\xa0\\n\\t\\t\\t\\t\\t\\t\\t\\t\\t\\t\\t\\t\\t\\t\\n\\t\\t\\t\\t\\t\\t\\t\\t\\t\\t\\t\\t보통주수정평균발행주식수＜당기＞\\n\\t\\t\\t\\t\\t\\t\\t\\t\\t\\t\\t\\t\\t\\n',\n",
       "  '217,415,903',\n",
       "  '213,668,187',\n",
       "  '213,668,187',\n",
       "  '213,668,187',\n",
       "  '213,668,187',\n",
       "  '211,724,685',\n",
       "  '\\xa0',\n",
       "  '\\xa0'],\n",
       " ['\\n\\n\\xa0\\n\\t\\t\\t\\t\\t\\t\\t\\t\\t\\t\\t\\t\\t\\t\\n\\t\\t\\t\\t\\t\\t\\t\\t\\t\\t\\t\\t우선주수정평균발행주식수＜당기＞\\n\\t\\t\\t\\t\\t\\t\\t\\t\\t\\t\\t\\t\\t\\n',\n",
       "  '64,366,142',\n",
       "  '63,270,871',\n",
       "  '63,270,871',\n",
       "  '63,270,871',\n",
       "  '63,270,871',\n",
       "  '62,695,368',\n",
       "  '\\xa0',\n",
       "  '\\xa0'],\n",
       " ['\\n\\n펼치기\\n\\t\\t\\t\\t\\t\\t\\t\\t\\t\\t\\t\\t\\t\\t\\n\\t\\t\\t\\t\\t\\t\\t\\t\\t\\t\\t\\tSPS\\n\\t\\t\\t\\t\\t\\t\\t\\t\\t\\t\\t\\t\\t\\n',\n",
       "  '343,573',\n",
       "  '381,840',\n",
       "  '375,525',\n",
       "  '424,681',\n",
       "  '514,653',\n",
       "  '547,878',\n",
       "  '21',\n",
       "  '6'],\n",
       " ['\\n\\n\\xa0\\n\\t\\t\\t\\t\\t\\t\\t\\t\\t\\t\\t\\t\\t\\t\\n\\t\\t\\t\\t\\t\\t\\t\\t\\t\\t\\t\\t매출액＜당기＞\\n\\t\\t\\t\\t\\t\\t\\t\\t\\t\\t\\t\\t\\t\\n',\n",
       "  '968,126.1',\n",
       "  '1,057,464.2',\n",
       "  '1,039,976.0',\n",
       "  '1,176,106.3',\n",
       "  '1,425,275.4',\n",
       "  '1,503,487.4',\n",
       "  '\\xa0',\n",
       "  '\\xa0'],\n",
       " ['\\n\\n\\xa0\\n\\t\\t\\t\\t\\t\\t\\t\\t\\t\\t\\t\\t\\t\\t\\n\\t\\t\\t\\t\\t\\t\\t\\t\\t\\t\\t\\t보통주수정평균발행주식수＜당기＞\\n\\t\\t\\t\\t\\t\\t\\t\\t\\t\\t\\t\\t\\t\\n',\n",
       "  '217,415,903',\n",
       "  '213,668,187',\n",
       "  '213,668,187',\n",
       "  '213,668,187',\n",
       "  '213,668,187',\n",
       "  '211,724,685',\n",
       "  '\\xa0',\n",
       "  '\\xa0'],\n",
       " ['\\n\\n\\xa0\\n\\t\\t\\t\\t\\t\\t\\t\\t\\t\\t\\t\\t\\t\\t\\n\\t\\t\\t\\t\\t\\t\\t\\t\\t\\t\\t\\t우선주수정평균발행주식수＜당기＞\\n\\t\\t\\t\\t\\t\\t\\t\\t\\t\\t\\t\\t\\t\\n',\n",
       "  '64,366,142',\n",
       "  '63,270,871',\n",
       "  '63,270,871',\n",
       "  '63,270,871',\n",
       "  '63,270,871',\n",
       "  '62,695,368',\n",
       "  '\\xa0',\n",
       "  '\\xa0'],\n",
       " ['\\n\\n펼치기\\n\\t\\t\\t\\t\\t\\t\\t\\t\\t\\t\\t\\t\\t\\t\\n\\t\\t\\t\\t\\t\\t\\t\\t\\t\\t\\t\\tPER\\n\\t\\t\\t\\t\\t\\t\\t\\t\\t\\t\\t\\t\\t\\n',\n",
       "  '22.14',\n",
       "  '11.20',\n",
       "  '37.33',\n",
       "  '11.71',\n",
       "  '5.68',\n",
       "  '5.86',\n",
       "  '-51.51',\n",
       "  '3.25'],\n",
       " ['\\n\\n\\xa0\\n\\t\\t\\t\\t\\t\\t\\t\\t\\t\\t\\t\\t\\t\\t\\n\\t\\t\\t\\t\\t\\t\\t\\t\\t\\t\\t\\t보통주수정주가(기말)＜당기＞\\n\\t\\t\\t\\t\\t\\t\\t\\t\\t\\t\\t\\t\\t\\n',\n",
       "  '118,500',\n",
       "  '120,500',\n",
       "  '192,000',\n",
       "  '209,000',\n",
       "  '151,000',\n",
       "  '185,900',\n",
       "  '\\xa0',\n",
       "  '\\xa0'],\n",
       " ['\\n\\n\\xa0\\n\\t\\t\\t\\t\\t\\t\\t\\t\\t\\t\\t\\t\\t\\t\\n\\t\\t\\t\\t\\t\\t\\t\\t\\t\\t\\t\\tEPS＜당기＞\\n\\t\\t\\t\\t\\t\\t\\t\\t\\t\\t\\t\\t\\t\\n',\n",
       "  '5,352',\n",
       "  '10,761',\n",
       "  '5,143',\n",
       "  '17,846',\n",
       "  '26,592',\n",
       "  '31,707',\n",
       "  '\\xa0',\n",
       "  '\\xa0'],\n",
       " ['\\n\\n펼치기\\n\\t\\t\\t\\t\\t\\t\\t\\t\\t\\t\\t\\t\\t\\t\\n\\t\\t\\t\\t\\t\\t\\t\\t\\t\\t\\t\\tPBR\\n\\t\\t\\t\\t\\t\\t\\t\\t\\t\\t\\t\\t\\t\\n',\n",
       "  '0.46',\n",
       "  '0.45',\n",
       "  '0.72',\n",
       "  '0.72',\n",
       "  '0.48',\n",
       "  '0.54',\n",
       "  '-33.60',\n",
       "  '11.74'],\n",
       " ['\\n\\n\\xa0\\n\\t\\t\\t\\t\\t\\t\\t\\t\\t\\t\\t\\t\\t\\t\\n\\t\\t\\t\\t\\t\\t\\t\\t\\t\\t\\t\\t보통주수정주가(기말)＜당기＞\\n\\t\\t\\t\\t\\t\\t\\t\\t\\t\\t\\t\\t\\t\\n',\n",
       "  '118,500',\n",
       "  '120,500',\n",
       "  '192,000',\n",
       "  '209,000',\n",
       "  '151,000',\n",
       "  '185,900',\n",
       "  '\\xa0',\n",
       "  '\\xa0'],\n",
       " ['\\n\\n\\xa0\\n\\t\\t\\t\\t\\t\\t\\t\\t\\t\\t\\t\\t\\t\\t\\n\\t\\t\\t\\t\\t\\t\\t\\t\\t\\t\\t\\tBPS＜당기＞\\n\\t\\t\\t\\t\\t\\t\\t\\t\\t\\t\\t\\t\\t\\n',\n",
       "  '256,422',\n",
       "  '267,549',\n",
       "  '266,968',\n",
       "  '289,609',\n",
       "  '315,142',\n",
       "  '347,220',\n",
       "  '\\xa0',\n",
       "  '\\xa0'],\n",
       " ['\\n\\n펼치기\\n\\t\\t\\t\\t\\t\\t\\t\\t\\t\\t\\t\\t\\t\\t\\n\\t\\t\\t\\t\\t\\t\\t\\t\\t\\t\\t\\tPCR\\n\\t\\t\\t\\t\\t\\t\\t\\t\\t\\t\\t\\t\\t\\n',\n",
       "  '8.87',\n",
       "  '79.50',\n",
       "  '-129.75',\n",
       "  '-49.20',\n",
       "  '3.93',\n",
       "  '3.51',\n",
       "  '108.00',\n",
       "  '-10.83'],\n",
       " ['\\n\\n\\xa0\\n\\t\\t\\t\\t\\t\\t\\t\\t\\t\\t\\t\\t\\t\\t\\n\\t\\t\\t\\t\\t\\t\\t\\t\\t\\t\\t\\t보통주수정주가(기말)＜당기＞\\n\\t\\t\\t\\t\\t\\t\\t\\t\\t\\t\\t\\t\\t\\n',\n",
       "  '118,500',\n",
       "  '120,500',\n",
       "  '192,000',\n",
       "  '209,000',\n",
       "  '151,000',\n",
       "  '185,900',\n",
       "  '\\xa0',\n",
       "  '\\xa0'],\n",
       " ['\\n\\n\\xa0\\n\\t\\t\\t\\t\\t\\t\\t\\t\\t\\t\\t\\t\\t\\t\\n\\t\\t\\t\\t\\t\\t\\t\\t\\t\\t\\t\\tCPS＜당기＞\\n\\t\\t\\t\\t\\t\\t\\t\\t\\t\\t\\t\\t\\t\\n',\n",
       "  '13,359',\n",
       "  '1,516',\n",
       "  '-1,480',\n",
       "  '-4,248',\n",
       "  '38,374',\n",
       "  '52,979',\n",
       "  '\\xa0',\n",
       "  '\\xa0'],\n",
       " ['\\n\\n펼치기\\n\\t\\t\\t\\t\\t\\t\\t\\t\\t\\t\\t\\t\\t\\t\\n\\t\\t\\t\\t\\t\\t\\t\\t\\t\\t\\t\\tPSR\\n\\t\\t\\t\\t\\t\\t\\t\\t\\t\\t\\t\\t\\t\\n',\n",
       "  '0.34',\n",
       "  '0.32',\n",
       "  '0.51',\n",
       "  '0.49',\n",
       "  '0.29',\n",
       "  '0.34',\n",
       "  '-40.38',\n",
       "  '15.65'],\n",
       " ['\\n\\n\\xa0\\n\\t\\t\\t\\t\\t\\t\\t\\t\\t\\t\\t\\t\\t\\t\\n\\t\\t\\t\\t\\t\\t\\t\\t\\t\\t\\t\\t보통주수정주가(기말)＜당기＞\\n\\t\\t\\t\\t\\t\\t\\t\\t\\t\\t\\t\\t\\t\\n',\n",
       "  '118,500',\n",
       "  '120,500',\n",
       "  '192,000',\n",
       "  '209,000',\n",
       "  '151,000',\n",
       "  '185,900',\n",
       "  '\\xa0',\n",
       "  '\\xa0'],\n",
       " ['\\n\\n\\xa0\\n\\t\\t\\t\\t\\t\\t\\t\\t\\t\\t\\t\\t\\t\\t\\n\\t\\t\\t\\t\\t\\t\\t\\t\\t\\t\\t\\tSPS＜당기＞\\n\\t\\t\\t\\t\\t\\t\\t\\t\\t\\t\\t\\t\\t\\n',\n",
       "  '343,573',\n",
       "  '381,840',\n",
       "  '375,525',\n",
       "  '424,681',\n",
       "  '514,653',\n",
       "  '547,878',\n",
       "  '\\xa0',\n",
       "  '\\xa0'],\n",
       " ['\\n\\n펼치기\\n\\t\\t\\t\\t\\t\\t\\t\\t\\t\\t\\t\\t\\t\\t\\n\\t\\t\\t\\t\\t\\t\\t\\t\\t\\t\\t\\tEV/EBITDA\\n\\t\\t\\t\\t\\t\\t\\t\\t\\t\\t\\t\\t\\t\\n',\n",
       "  '12.37',\n",
       "  '11.75',\n",
       "  '16.57',\n",
       "  '11.37',\n",
       "  '7.96',\n",
       "  '7.87',\n",
       "  '-30.00',\n",
       "  '-1.17'],\n",
       " ['\\n\\n\\xa0\\n\\t\\t\\t\\t\\t\\t\\t\\t\\t\\t\\t\\t\\t\\t\\n\\t\\t\\t\\t\\t\\t\\t\\t\\t\\t\\t\\tEV＜당기＞\\n\\t\\t\\t\\t\\t\\t\\t\\t\\t\\t\\t\\t\\t\\n',\n",
       "  '765,044.6',\n",
       "  '873,635.9',\n",
       "  '1,090,036.7',\n",
       "  '1,277,281.6',\n",
       "  '1,183,246.9',\n",
       "  '1,246,554.0',\n",
       "  '\\xa0',\n",
       "  '\\xa0'],\n",
       " ['\\n\\n\\xa0\\n\\t\\t\\t\\t\\t\\t\\t\\t\\t\\t\\t\\t\\t\\t\\n\\t\\t\\t\\t\\t\\t\\t\\t\\t\\t\\t\\tEBITDA＜당기＞\\n\\t\\t\\t\\t\\t\\t\\t\\t\\t\\t\\t\\t\\t\\n',\n",
       "  '61,836.3',\n",
       "  '74,373.8',\n",
       "  '65,800.4',\n",
       "  '112,346.9',\n",
       "  '148,673.9',\n",
       "  '158,484.6',\n",
       "  '\\xa0',\n",
       "  '\\xa0'],\n",
       " ['\\n\\n펼치기\\n\\t\\t\\t\\t\\t\\t\\t\\t\\t\\t\\t\\t\\t\\t\\n\\t\\t\\t\\t\\t\\t\\t\\t\\t\\t\\t\\tDPS\\n\\t\\t\\t\\t\\t\\t\\t\\t\\t\\t\\t\\t\\t\\n',\n",
       "  '4,000',\n",
       "  '4,000',\n",
       "  '3,000',\n",
       "  '5,000',\n",
       "  '7,000',\n",
       "  '',\n",
       "  '40',\n",
       "  '\\xa0'],\n",
       " ['\\n\\n\\xa0\\n\\t\\t\\t\\t\\t\\t\\t\\t\\t\\t\\t\\t\\t\\t\\n\\t\\t\\t\\t\\t\\t\\t\\t\\t\\t\\t\\t현금DPS\\n\\t\\t\\t\\t\\t\\t\\t\\t\\t\\t\\t\\t\\t\\n',\n",
       "  '4,000',\n",
       "  '4,000',\n",
       "  '3,000',\n",
       "  '5,000',\n",
       "  '7,000',\n",
       "  '',\n",
       "  '\\xa0',\n",
       "  '\\xa0'],\n",
       " ['\\n\\n\\xa0\\n\\t\\t\\t\\t\\t\\t\\t\\t\\t\\t\\t\\t\\t\\t\\n\\t\\t\\t\\t\\t\\t\\t\\t\\t\\t\\t\\t주식DPS\\n\\t\\t\\t\\t\\t\\t\\t\\t\\t\\t\\t\\t\\t\\n',\n",
       "  '0',\n",
       "  '0',\n",
       "  '0',\n",
       "  '0',\n",
       "  '',\n",
       "  '',\n",
       "  '\\xa0',\n",
       "  '\\xa0'],\n",
       " ['\\n\\n\\xa0\\n\\t\\t\\t\\t\\t\\t\\t\\t\\t\\t\\t\\t\\t\\t\\n\\t\\t\\t\\t\\t\\t\\t\\t\\t\\t\\t\\t현금배당수익률\\n\\t\\t\\t\\t\\t\\t\\t\\t\\t\\t\\t\\t\\t\\n',\n",
       "  '3.38',\n",
       "  '3.32',\n",
       "  '1.56',\n",
       "  '2.39',\n",
       "  '4.64',\n",
       "  '3.71',\n",
       "  '2.24',\n",
       "  '-0.93'],\n",
       " ['\\n\\n\\xa0\\n\\t\\t\\t\\t\\t\\t\\t\\t\\t\\t\\t\\t\\t\\t\\n\\t\\t\\t\\t\\t\\t\\t\\t\\t\\t\\t\\t현금배당성향(%)\\n\\t\\t\\t\\t\\t\\t\\t\\t\\t\\t\\t\\t\\t\\n',\n",
       "  '70.70',\n",
       "  '35.35',\n",
       "  '55.15',\n",
       "  '26.32',\n",
       "  '24.85',\n",
       "  '16.76',\n",
       "  '-1.46',\n",
       "  '-8.10']]"
      ]
     },
     "execution_count": 119,
     "metadata": {},
     "output_type": "execute_result"
    }
   ],
   "source": [
    "value_list= []\n",
    "for i in data3:\n",
    "    sample_list = []\n",
    "    _list = i.find_all('td')\n",
    "    for j in _list:\n",
    "        sample_list.append(j.get_text())\n",
    "    value_list.append(sample_list)\n",
    "\n",
    "value_list"
   ]
  },
  {
   "cell_type": "code",
   "execution_count": null,
   "metadata": {},
   "outputs": [],
   "source": []
  }
 ],
 "metadata": {
  "kernelspec": {
   "display_name": "Python 3",
   "language": "python",
   "name": "python3"
  },
  "language_info": {
   "codemirror_mode": {
    "name": "ipython",
    "version": 3
   },
   "file_extension": ".py",
   "mimetype": "text/x-python",
   "name": "python",
   "nbconvert_exporter": "python",
   "pygments_lexer": "ipython3",
   "version": "3.11.2"
  },
  "orig_nbformat": 4
 },
 "nbformat": 4,
 "nbformat_minor": 2
}
