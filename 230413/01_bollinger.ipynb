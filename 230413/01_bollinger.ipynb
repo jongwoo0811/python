{
 "cells": [
  {
   "attachments": {},
   "cell_type": "markdown",
   "metadata": {},
   "source": [
    "### 볼린저 밴드 함수화\n",
    "1. 첫 번째 함수를 생성(매개변수 데이터프레임 하나)\n",
    "    1. 결측치와 이상치를 제거한다.\n",
    "    2. 컬럼을 종가만 두고 모두 삭제\n",
    "    3. 이동평균선, 상단밴드, 하단밴드 파생변수 생성\n",
    "2. 두 번째 함수를 생성(매개변수, 데이터프레임 하나)\n",
    "    1. 거래 내역이라는 파생 변수 생성 값은 \"\"\n",
    "    2. 볼린저 밴드의 거래 내역을 추가\n",
    "    3. 거래 내역을 출력(print 사용)\n",
    "3. 세 번째 함수를 생성(매개변수 데이터프레임 하나)\n",
    "    1. 수익률 파생변수 생성 값은 \"1\"\n",
    "    2. 판매를 한 날의 수익을 변경\n",
    "    3. 누적 수익률을 계산하여 새로운 파생변수를 생성\n",
    "    4. 최종 누적 수익률을 출력(print 사용)"
   ]
  },
  {
   "cell_type": "code",
   "execution_count": 4,
   "metadata": {},
   "outputs": [],
   "source": [
    "import pandas as pd\n",
    "import numpy as np\n",
    "from datetime import datetime\n",
    "import matplotlib.pyplot as plt\n",
    "import yfinance as yf"
   ]
  },
  {
   "cell_type": "code",
   "execution_count": 5,
   "metadata": {},
   "outputs": [],
   "source": [
    "# 1번 함수 생성\n",
    "def boll(df,col, start, end):\n",
    "    #인덱스를 시계열로 변경\n",
    "    df.index = pd.to_datetime(df.index)\n",
    "    # start, end를 시계열로 변경\n",
    "    start = datetime.strptime(start, '%Y%m%d').isoformat()\n",
    "    end = datetime.strptime(end, '%Y%m%d').isoformat()\n",
    "    #데이터를 시작시간부터 종료시간까지 필터\n",
    "    df =df.loc[start:end]\n",
    "    #결측치 제거\n",
    "    df = df.loc[~df.isin((np.nan, np.inf, -np.inf)).any(1),['Adj Close']]\n",
    "    # price_df = df[['Adj Close']] 위에 문장이랑 합침 위에는 인덱스 명령어만 잇었기 때문 \n",
    "    df['center'] = df.rolling(20).mean() # ['Adj Close'] 생략략\n",
    "    df['lb'] = df['center']-(2*df[col].rolling(20).std())\n",
    "    df['ub'] = df['center']+(2*df[col].rolling(20).std())\n",
    "    return df"
   ]
  },
  {
   "cell_type": "code",
   "execution_count": 6,
   "metadata": {},
   "outputs": [],
   "source": [
    "data = pd.read_csv(\"../csv/GM.csv\",index_col='Date')"
   ]
  },
  {
   "cell_type": "code",
   "execution_count": 7,
   "metadata": {},
   "outputs": [
    {
     "name": "stderr",
     "output_type": "stream",
     "text": [
      "C:\\Users\\bjw\\AppData\\Local\\Temp\\ipykernel_25480\\1284579565.py:11: FutureWarning: In a future version of pandas all arguments of DataFrame.any and Series.any will be keyword-only.\n",
      "  df = df.loc[~df.isin((np.nan, np.inf, -np.inf)).any(1),['Adj Close']]\n"
     ]
    }
   ],
   "source": [
    "data = boll(data, 'Adj Close',  '20110101', '20150101')"
   ]
  },
  {
   "cell_type": "code",
   "execution_count": 8,
   "metadata": {},
   "outputs": [],
   "source": [
    "def boll2(df):\n",
    "    # 기준이 되는 컬럼이 무엇인가?\n",
    "    # 기준이 되는 컬럼은 컬럼 중에 첫번째이기 때문에 df.columns[0]\n",
    "    col= df.columns[0]\n",
    "    df['trade']=\"\"\n",
    "    for i in df.index:\n",
    "        # 상단밴드보다 종가가 높은 경우\n",
    "        if df.loc[i,col]> df.loc[i,'ub']:\n",
    "        # 현재 구매상태이면\n",
    "            if df.shift(1).loc[i,'trade'] == 'buy':\n",
    "            # 매도\n",
    "                df.loc[i,'trade']= ''\n",
    "            else:\n",
    "            #구매상태가아니면\n",
    "                df.loc[i,'trade']= ''\n",
    "        # 하단밴드보다 종가가 낮은경우\n",
    "        elif df.loc[i,col]< df.loc[i,'lb']:\n",
    "        # 현재 구매 상태이면\n",
    "            if df.shift(1).loc[i, 'trade'] == 'buy':\n",
    "            #구매상태 유지\n",
    "                df.loc[i,'trade'] ='buy'\n",
    "            else:\n",
    "                df.loc[i,'trade'] ='buy'\n",
    "        else:\n",
    "        #현재 구매상태이면\n",
    "            if df.shift(1).loc[i,'trade'] =='buy':\n",
    "            #구매 상태유지\n",
    "                df.loc[i,'trade']= 'buy'\n",
    "            else:\n",
    "                df.loc[i,'trade'] =''\n",
    "    return df"
   ]
  },
  {
   "cell_type": "code",
   "execution_count": 9,
   "metadata": {},
   "outputs": [
    {
     "data": {
      "text/plain": [
       "buy    547\n",
       "       459\n",
       "Name: trade, dtype: int64"
      ]
     },
     "execution_count": 9,
     "metadata": {},
     "output_type": "execute_result"
    }
   ],
   "source": [
    "boll2(data)['trade'].value_counts()"
   ]
  },
  {
   "cell_type": "code",
   "execution_count": 10,
   "metadata": {},
   "outputs": [],
   "source": [
    "data = boll2(data)"
   ]
  },
  {
   "cell_type": "code",
   "execution_count": 11,
   "metadata": {},
   "outputs": [],
   "source": [
    "def boll_rtn(df):\n",
    "    col =df.columns[0]\n",
    "    df['return'] =1\n",
    "    rtn=1.0\n",
    "    buy=0.0\n",
    "    sell=0.0\n",
    "\n",
    "    for i in df.index:\n",
    "    # 구매가를 출력\n",
    "        if (df.shift(1).loc[i,'trade']=='')and(df.loc[i,'trade']=='buy'):\n",
    "            buy = df.loc[i,col]\n",
    "            print('진입일:',i,'구매가격:', buy)\n",
    "    #판매가 출력\n",
    "        elif(df.shift(1).loc[i,'trade']=='buy')and(df.loc[i,'trade']==''):\n",
    "            sell= df.loc[i,col]\n",
    "            rtn = (sell-buy)/buy+1\n",
    "            df.loc[i,'return'] =rtn\n",
    "            print('판매일:',i,'판매가격:', sell, '수익률:' , rtn)\n",
    "\n",
    "    #구매가, 판매가를 초기화\n",
    "        if df.loc[i,'trade']=='':\n",
    "            buy=0.0\n",
    "            sell=0.0\n",
    "\n",
    "    acc_rtn = 1.0\n",
    "    for i in df.index:\n",
    "        rtn=df.loc[i,'return']\n",
    "        acc_rtn*=rtn\n",
    "        df.loc[i,'acc_rtn']=acc_rtn\n",
    "\n",
    "    print('누적수익률:', acc_rtn)\n",
    "    \n",
    "    return df\n",
    "    \n"
   ]
  },
  {
   "cell_type": "code",
   "execution_count": null,
   "metadata": {},
   "outputs": [],
   "source": [
    "boll_rtn(data, 'Adj Close')"
   ]
  },
  {
   "cell_type": "code",
   "execution_count": null,
   "metadata": {},
   "outputs": [],
   "source": [
    "import bollinger as bg\n",
    "import imp\n",
    "imp.reload(bg)"
   ]
  },
  {
   "cell_type": "code",
   "execution_count": null,
   "metadata": {},
   "outputs": [],
   "source": [
    "df = pd.read_csv(\"../csv/MSFT.csv\", index_col='Date')"
   ]
  },
  {
   "cell_type": "code",
   "execution_count": null,
   "metadata": {},
   "outputs": [],
   "source": [
    "# 1번 함수 실행\n",
    "data = bg.boll(df,'Adj Close','20100101','20190101')"
   ]
  },
  {
   "cell_type": "code",
   "execution_count": null,
   "metadata": {},
   "outputs": [],
   "source": [
    "# 2번 함수 실행\n",
    "data2 = bg.boll2(data)\n"
   ]
  },
  {
   "cell_type": "code",
   "execution_count": null,
   "metadata": {},
   "outputs": [],
   "source": [
    "# 3번 함수 실행\n",
    "bg.boll_rtn(data2)"
   ]
  },
  {
   "cell_type": "code",
   "execution_count": null,
   "metadata": {},
   "outputs": [],
   "source": [
    "# 클래스 생성\n",
    "data = pd.read_csv(\"../csv/AAPL.csv\",index_col= 'Date')"
   ]
  },
  {
   "cell_type": "code",
   "execution_count": null,
   "metadata": {},
   "outputs": [],
   "source": [
    "a = bg.Invest(data,'Adj Close')"
   ]
  },
  {
   "cell_type": "code",
   "execution_count": null,
   "metadata": {},
   "outputs": [],
   "source": [
    "a.boll('20100101','20150101')"
   ]
  },
  {
   "cell_type": "code",
   "execution_count": null,
   "metadata": {},
   "outputs": [],
   "source": [
    "# 클래스 생성\n",
    "class_a = bg.Invest(data, 'Adj Close')"
   ]
  },
  {
   "cell_type": "code",
   "execution_count": null,
   "metadata": {},
   "outputs": [],
   "source": [
    "class_a.df"
   ]
  },
  {
   "cell_type": "code",
   "execution_count": null,
   "metadata": {},
   "outputs": [],
   "source": [
    "class_a.boll('20100101','20150101')"
   ]
  },
  {
   "cell_type": "code",
   "execution_count": null,
   "metadata": {},
   "outputs": [],
   "source": [
    "class_a.boll2()"
   ]
  },
  {
   "cell_type": "code",
   "execution_count": null,
   "metadata": {},
   "outputs": [],
   "source": [
    "class_a.boll_rtn()"
   ]
  },
  {
   "cell_type": "code",
   "execution_count": null,
   "metadata": {},
   "outputs": [],
   "source": [
    "class_a.df"
   ]
  }
 ],
 "metadata": {
  "kernelspec": {
   "display_name": "Python 3",
   "language": "python",
   "name": "python3"
  },
  "language_info": {
   "codemirror_mode": {
    "name": "ipython",
    "version": 3
   },
   "file_extension": ".py",
   "mimetype": "text/x-python",
   "name": "python",
   "nbconvert_exporter": "python",
   "pygments_lexer": "ipython3",
   "version": "3.11.2"
  },
  "orig_nbformat": 4
 },
 "nbformat": 4,
 "nbformat_minor": 2
}
