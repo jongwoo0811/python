{
 "cells": [
  {
   "cell_type": "code",
   "execution_count": null,
   "metadata": {},
   "outputs": [],
   "source": [
    "import pandas as pd\n",
    "import numpy as np\n",
    "from datetime import datetime"
   ]
  },
  {
   "cell_type": "code",
   "execution_count": null,
   "metadata": {},
   "outputs": [],
   "source": [
    "df = pd.read_csv(\"../csv/AAPL.csv\")"
   ]
  },
  {
   "cell_type": "code",
   "execution_count": null,
   "metadata": {},
   "outputs": [],
   "source": [
    "df.head(5)"
   ]
  },
  {
   "cell_type": "code",
   "execution_count": null,
   "metadata": {},
   "outputs": [],
   "source": [
    "# 컬럼의 데이터를 인덱스로 변경\n",
    "# set_index(컬럼의 이름)\n",
    "df = df.set_index('Date')"
   ]
  },
  {
   "cell_type": "code",
   "execution_count": null,
   "metadata": {},
   "outputs": [],
   "source": [
    "# 컬럼의 이름을 변경하려면?\n",
    "df.columns=['시가','고가','저가','종가','수정종가','거래량']\n",
    "df.head(1)"
   ]
  },
  {
   "cell_type": "code",
   "execution_count": null,
   "metadata": {},
   "outputs": [],
   "source": [
    "# 인덱스의 이름을 바꾸는 법 Date -> 날짜\n",
    "df.index.name = \"날짜\"\n",
    "df.head(1)"
   ]
  },
  {
   "cell_type": "code",
   "execution_count": null,
   "metadata": {},
   "outputs": [],
   "source": [
    "# 데이터프레임에서 특정 컬럼으로 필터\n",
    "#df['시가'] = 시리즈\n",
    "#df[['시가']] = 데이터프레임\n",
    "df.iloc[1:3] #iloc 위치값 1부터 3까지"
   ]
  },
  {
   "cell_type": "code",
   "execution_count": null,
   "metadata": {},
   "outputs": [],
   "source": [
    "# 시가가 100달러 이상인 경우\n",
    "df.loc[df['시가']>=100]"
   ]
  },
  {
   "cell_type": "code",
   "execution_count": null,
   "metadata": {},
   "outputs": [],
   "source": [
    "# query()함수\n",
    "# query(조건식)\n",
    "df.query(\"시가>=100\")"
   ]
  },
  {
   "cell_type": "code",
   "execution_count": null,
   "metadata": {},
   "outputs": [],
   "source": [
    "data =[\n",
    "    [100,900,800,700],\n",
    "    [1200,1400,900,800]\n",
    "]\n",
    "columns = [\n",
    "    ['영업이익','영업이익','당기순이익','당기순이익'],\n",
    "    ['컨센서스','잠정치','컨센서스','잠정치']\n",
    "]\n",
    "df=pd.DataFrame(data, columns=columns)\n",
    "df"
   ]
  },
  {
   "cell_type": "code",
   "execution_count": null,
   "metadata": {},
   "outputs": [],
   "source": [
    "# stack()컬럼을 인덱스 값으로 , unstack() 인덱스 값을 컬럼으로\n",
    "stack_df = df.stack()"
   ]
  },
  {
   "cell_type": "code",
   "execution_count": null,
   "metadata": {},
   "outputs": [],
   "source": [
    "stack_df.stack() # 시리즈 형태"
   ]
  },
  {
   "cell_type": "code",
   "execution_count": null,
   "metadata": {},
   "outputs": [],
   "source": [
    "stack_df.unstack()"
   ]
  },
  {
   "cell_type": "code",
   "execution_count": null,
   "metadata": {},
   "outputs": [],
   "source": [
    "df.stack(level=0) # 0번째에 있는 컬럼을 내리겠다"
   ]
  },
  {
   "attachments": {},
   "cell_type": "markdown",
   "metadata": {},
   "source": [
    "### 할로윈 투자전략\n",
    "1. 11월 1일에 구매 -> 6개월간 유지 4월 말일에 판매\n",
    "2. 11월 첫날의 시가로 구매\n",
    "3. 4월 마지막날의 종가로 판매\n",
    "4. 수익률 = (3번과정 - 2번과정)/2번과정 "
   ]
  },
  {
   "cell_type": "code",
   "execution_count": 62,
   "metadata": {},
   "outputs": [],
   "source": [
    "df= pd.read_csv(\"../csv/AMZN.csv\")"
   ]
  },
  {
   "cell_type": "code",
   "execution_count": 63,
   "metadata": {},
   "outputs": [
    {
     "data": {
      "text/html": [
       "<div>\n",
       "<style scoped>\n",
       "    .dataframe tbody tr th:only-of-type {\n",
       "        vertical-align: middle;\n",
       "    }\n",
       "\n",
       "    .dataframe tbody tr th {\n",
       "        vertical-align: top;\n",
       "    }\n",
       "\n",
       "    .dataframe thead th {\n",
       "        text-align: right;\n",
       "    }\n",
       "</style>\n",
       "<table border=\"1\" class=\"dataframe\">\n",
       "  <thead>\n",
       "    <tr style=\"text-align: right;\">\n",
       "      <th></th>\n",
       "      <th>Date</th>\n",
       "      <th>Open</th>\n",
       "      <th>High</th>\n",
       "      <th>Low</th>\n",
       "      <th>Close</th>\n",
       "      <th>Adj Close</th>\n",
       "      <th>Volume</th>\n",
       "    </tr>\n",
       "  </thead>\n",
       "  <tbody>\n",
       "    <tr>\n",
       "      <th>0</th>\n",
       "      <td>1997-05-15</td>\n",
       "      <td>2.43750</td>\n",
       "      <td>2.500000</td>\n",
       "      <td>1.927083</td>\n",
       "      <td>1.958333</td>\n",
       "      <td>1.958333</td>\n",
       "      <td>72156000</td>\n",
       "    </tr>\n",
       "    <tr>\n",
       "      <th>1</th>\n",
       "      <td>1997-05-16</td>\n",
       "      <td>1.96875</td>\n",
       "      <td>1.979167</td>\n",
       "      <td>1.708333</td>\n",
       "      <td>1.729167</td>\n",
       "      <td>1.729167</td>\n",
       "      <td>14700000</td>\n",
       "    </tr>\n",
       "  </tbody>\n",
       "</table>\n",
       "</div>"
      ],
      "text/plain": [
       "         Date     Open      High       Low     Close  Adj Close    Volume\n",
       "0  1997-05-15  2.43750  2.500000  1.927083  1.958333   1.958333  72156000\n",
       "1  1997-05-16  1.96875  1.979167  1.708333  1.729167   1.729167  14700000"
      ]
     },
     "execution_count": 63,
     "metadata": {},
     "output_type": "execute_result"
    }
   ],
   "source": [
    "df.head(2)"
   ]
  },
  {
   "cell_type": "code",
   "execution_count": 64,
   "metadata": {},
   "outputs": [],
   "source": [
    "# Date 컬럼을 인덱스로 변환\n",
    "df['Date'] = pd.to_datetime(df['Date'], format='%Y-%m-%d')"
   ]
  },
  {
   "cell_type": "code",
   "execution_count": 65,
   "metadata": {},
   "outputs": [],
   "source": [
    "df.set_index('Date',inplace=True)"
   ]
  },
  {
   "cell_type": "code",
   "execution_count": null,
   "metadata": {},
   "outputs": [],
   "source": [
    "df.index"
   ]
  },
  {
   "cell_type": "code",
   "execution_count": 66,
   "metadata": {},
   "outputs": [
    {
     "data": {
      "text/plain": [
       "35.8125"
      ]
     },
     "execution_count": 66,
     "metadata": {},
     "output_type": "execute_result"
    }
   ],
   "source": [
    "#11월의 첫번째 데이터\n",
    "df.loc[\"2000-11\"].iloc[0]['Open']"
   ]
  },
  {
   "cell_type": "code",
   "execution_count": 67,
   "metadata": {},
   "outputs": [
    {
     "data": {
      "text/plain": [
       "15.78"
      ]
     },
     "execution_count": 67,
     "metadata": {},
     "output_type": "execute_result"
    }
   ],
   "source": [
    "# 4월의 마지막 데이터\n",
    "df.loc['2001-04'].iloc[-1]['Close']"
   ]
  },
  {
   "cell_type": "code",
   "execution_count": 68,
   "metadata": {},
   "outputs": [
    {
     "name": "stdout",
     "output_type": "stream",
     "text": [
      "2000-11 2001-04\n",
      "2001-11 2002-04\n",
      "2002-11 2003-04\n",
      "2003-11 2004-04\n",
      "2004-11 2005-04\n",
      "2005-11 2006-04\n",
      "2006-11 2007-04\n",
      "2007-11 2008-04\n",
      "2008-11 2009-04\n",
      "2009-11 2010-04\n",
      "2010-11 2011-04\n",
      "2011-11 2012-04\n",
      "2012-11 2013-04\n",
      "2013-11 2014-04\n",
      "2014-11 2015-04\n",
      "2015-11 2016-04\n",
      "2016-11 2017-04\n",
      "2017-11 2018-04\n",
      "2018-11 2019-04\n",
      "2019-11 2020-04\n"
     ]
    }
   ],
   "source": [
    "for i in range(2000,2020,1):\n",
    "    buy_mon=str(i)+\"-11\"\n",
    "    sell_mon = str(i+1)+\"-04\"\n",
    "    print(buy_mon,sell_mon)"
   ]
  },
  {
   "cell_type": "code",
   "execution_count": 69,
   "metadata": {},
   "outputs": [],
   "source": [
    "acc_rtn = 1\n",
    "for i in range(2000,2019, 1):\n",
    "    buy_mon =str(i)+\"-11\"\n",
    "    sell_mon = str(i+1)+\"-04\"\n",
    "\n",
    "    # 구입가 저장\n",
    "    buy = df.loc[buy_mon].iloc[0]['Open']\n",
    "    sell = df.loc[sell_mon].iloc[-1]['Close']\n",
    "\n",
    "    # 수익률\n",
    "    rtn=(sell-buy)/buy +1\n",
    "    \n",
    "    # 누적 수익률\n",
    "    acc_rtn *= rtn"
   ]
  },
  {
   "cell_type": "code",
   "execution_count": 70,
   "metadata": {},
   "outputs": [
    {
     "data": {
      "text/plain": [
       "8.244683980501206"
      ]
     },
     "execution_count": 70,
     "metadata": {},
     "output_type": "execute_result"
    }
   ],
   "source": [
    "acc_rtn"
   ]
  },
  {
   "cell_type": "code",
   "execution_count": 71,
   "metadata": {},
   "outputs": [
    {
     "data": {
      "text/plain": [
       "53.794625340314134"
      ]
     },
     "execution_count": 71,
     "metadata": {},
     "output_type": "execute_result"
    }
   ],
   "source": [
    "# buyandhold 인 경우\n",
    "buy = df.loc[\"2000-11\"].iloc[0]['Open']\n",
    "sell = df.loc[\"2019-04\"].iloc[-1]['Close']\n",
    "\n",
    "rtn =(sell-buy)/buy+1\n",
    "rtn"
   ]
  },
  {
   "cell_type": "code",
   "execution_count": 72,
   "metadata": {},
   "outputs": [
    {
     "name": "stdout",
     "output_type": "stream",
     "text": [
      "11.124213625243007\n"
     ]
    }
   ],
   "source": [
    "# CAGR (연복리 수익률)\n",
    "# (수익률 **(1/투자기간))-1\n",
    "\n",
    "# 할로윈 CAGR\n",
    "CAGR = (acc_rtn** (1/20))-1\n",
    "print(CAGR *100)"
   ]
  },
  {
   "cell_type": "code",
   "execution_count": 73,
   "metadata": {},
   "outputs": [
    {
     "name": "stdout",
     "output_type": "stream",
     "text": [
      "22.04976410456394\n"
     ]
    }
   ],
   "source": [
    "# buyandhold CAGR\n",
    "CAGR =(rtn **(1/20))-1\n",
    "print(CAGR *100)"
   ]
  },
  {
   "cell_type": "code",
   "execution_count": 74,
   "metadata": {},
   "outputs": [],
   "source": [
    "from datetime import datetime\n",
    "from dateutil.relativedelta import relativedelta"
   ]
  },
  {
   "cell_type": "code",
   "execution_count": 75,
   "metadata": {},
   "outputs": [
    {
     "data": {
      "text/plain": [
       "datetime.datetime(2000, 11, 1, 0, 0)"
      ]
     },
     "execution_count": 75,
     "metadata": {},
     "output_type": "execute_result"
    }
   ],
   "source": [
    "start = datetime(year = 2000, month=11, day=1)\n",
    "start"
   ]
  },
  {
   "cell_type": "code",
   "execution_count": 76,
   "metadata": {},
   "outputs": [
    {
     "data": {
      "text/plain": [
       "datetime.datetime(2001, 4, 1, 0, 0)"
      ]
     },
     "execution_count": 76,
     "metadata": {},
     "output_type": "execute_result"
    }
   ],
   "source": [
    "end = start + relativedelta(months=5)\n",
    "end"
   ]
  },
  {
   "cell_type": "code",
   "execution_count": 77,
   "metadata": {},
   "outputs": [
    {
     "name": "stdout",
     "output_type": "stream",
     "text": [
      "2000-11 2001-04\n"
     ]
    }
   ],
   "source": [
    "print(start.strftime(\"%Y-%m\"),end.strftime(\"%Y-%m\"))"
   ]
  },
  {
   "cell_type": "code",
   "execution_count": 95,
   "metadata": {},
   "outputs": [],
   "source": [
    "def six_month(df, start = 2000, end = 2019, month=11):\n",
    "    if 'Date' in df.columns:\n",
    "        df['Date'] = pd.to_datetime(df['Date'], format=\"%Y-%m-%d\")\n",
    "        df.set_index('Date', inplace=True)\n",
    "\n",
    "    # 누적 수익율 변수를 생성\n",
    "    acc_rtn = 1\n",
    "\n",
    "    for i in range(start, end):\n",
    "        start_ = datetime(year=i, month=month, day=1)\n",
    "        end_ = start_ + relativedelta(months=5)\n",
    "\n",
    "        buy_mon = start_.strftime(\"%Y-%m\")\n",
    "        sell_mon = end_.strftime(\"%Y-%m\")\n",
    "\n",
    "        buy = df.loc[buy_mon].iloc[0]['Open']\n",
    "        sell = df.loc[sell_mon].iloc[-1]['Close']\n",
    "\n",
    "        rtn = (sell - buy) / buy + 1\n",
    "\n",
    "        acc_rtn *= rtn\n",
    "    \n",
    "    return acc_rtn"
   ]
  },
  {
   "cell_type": "code",
   "execution_count": 89,
   "metadata": {},
   "outputs": [],
   "source": [
    "data = pd.read_csv('../csv/AMZN.csv')"
   ]
  },
  {
   "cell_type": "code",
   "execution_count": 96,
   "metadata": {},
   "outputs": [
    {
     "data": {
      "text/plain": [
       "8.244683980501206"
      ]
     },
     "execution_count": 96,
     "metadata": {},
     "output_type": "execute_result"
    }
   ],
   "source": [
    "six_month(data)"
   ]
  },
  {
   "cell_type": "code",
   "execution_count": 98,
   "metadata": {},
   "outputs": [
    {
     "name": "stdout",
     "output_type": "stream",
     "text": [
      "1월 : 4.470910943811504\n",
      "2월 : 4.408415564523263\n",
      "3월 : 18.50624959809526\n",
      "4월 : 13.582616833702685\n",
      "5월 : 4.304179383672146\n",
      "6월 : 5.111566986774566\n",
      "7월 : 3.589575312504607\n",
      "8월 : 6.418767529470167\n",
      "9월 : 1.3058661611037958\n",
      "10월 : 1.9960729229032756\n",
      "11월 : 8.244683980501206\n",
      "12월 : 6.23900557812782\n"
     ]
    }
   ],
   "source": [
    "for i in range(1, 13, 1):\n",
    "    print(f\"{i}월 :\", six_month(data, month=i))"
   ]
  },
  {
   "cell_type": "code",
   "execution_count": 107,
   "metadata": {},
   "outputs": [
    {
     "data": {
      "text/plain": [
       "<module 'halloween' from 'c:\\\\Users\\\\bjw\\\\Documents\\\\test_\\\\230424\\\\halloween\\\\__init__.py'>"
      ]
     },
     "execution_count": 107,
     "metadata": {},
     "output_type": "execute_result"
    }
   ],
   "source": [
    "import halloween as hw\n",
    "import imp\n",
    "imp.reload(hw)"
   ]
  },
  {
   "cell_type": "code",
   "execution_count": 108,
   "metadata": {},
   "outputs": [],
   "source": [
    "df =pd.read_csv(\"../csv/AMZN.csv\")"
   ]
  },
  {
   "cell_type": "code",
   "execution_count": 109,
   "metadata": {},
   "outputs": [],
   "source": [
    "test=hw.Halloween(df,2000,2019)"
   ]
  },
  {
   "cell_type": "code",
   "execution_count": 110,
   "metadata": {},
   "outputs": [
    {
     "data": {
      "text/plain": [
       "8.244683980501206"
      ]
     },
     "execution_count": 110,
     "metadata": {},
     "output_type": "execute_result"
    }
   ],
   "source": [
    "test.accrtn()"
   ]
  },
  {
   "cell_type": "code",
   "execution_count": 113,
   "metadata": {},
   "outputs": [
    {
     "data": {
      "text/plain": [
       "11.742834843522832"
      ]
     },
     "execution_count": 113,
     "metadata": {},
     "output_type": "execute_result"
    }
   ],
   "source": [
    "test.cagr()"
   ]
  },
  {
   "cell_type": "code",
   "execution_count": null,
   "metadata": {},
   "outputs": [],
   "source": []
  }
 ],
 "metadata": {
  "kernelspec": {
   "display_name": "Python 3",
   "language": "python",
   "name": "python3"
  },
  "language_info": {
   "codemirror_mode": {
    "name": "ipython",
    "version": 3
   },
   "file_extension": ".py",
   "mimetype": "text/x-python",
   "name": "python",
   "nbconvert_exporter": "python",
   "pygments_lexer": "ipython3",
   "version": "3.11.2"
  },
  "orig_nbformat": 4
 },
 "nbformat": 4,
 "nbformat_minor": 2
}
