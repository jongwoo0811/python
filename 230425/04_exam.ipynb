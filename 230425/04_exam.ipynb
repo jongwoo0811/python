{
 "cells": [
  {
   "attachments": {},
   "cell_type": "markdown",
   "metadata": {},
   "source": [
    "### 문제\n",
    "1. corona.csv파일 로드\n",
    "2. Unamed: 0 컬럼을 삭제\n",
    "3. 컬럼을 첫번째부터 세번째까지 컬럼만 두고 전부 삭제\n",
    "4. 컬럼의 이름을 변경 ['등록일시','누적사망자','누적확진자']\n",
    "5. 등록일시를 기준으로 오름차순 정렬\n",
    "6. 일일확진자와 일일사망자 파생변수 생성(결측치는 0으로 대체)\n",
    "7. 일일 확진자가 음수인 값을 삭제\n",
    "7. 등록일시를 시계열로 변경하고 인덱스 변경\n",
    "8. 요일이라는 파생변수를 만들어서 요일 대입\n",
    "9. 요일컬럼 0-> 월, 1->화,....6-> 일로 변경\n",
    "10. 요일별 일일 확진자의 평균을 바 그래프로 표시\n",
    "11. 요일별 일일 사망자의 평균을 바 그래프로 표시"
   ]
  },
  {
   "cell_type": "code",
   "execution_count": 1,
   "metadata": {},
   "outputs": [],
   "source": [
    "import pandas as pd \n",
    "import matplotlib.pyplot as plt\n"
   ]
  },
  {
   "cell_type": "code",
   "execution_count": 2,
   "metadata": {},
   "outputs": [],
   "source": [
    "# 3개의 컬럼만 불러오겠다, 시계열로 변경하겠다\n",
    "df = pd.read_csv(\"../csv/corona.csv\",usecols =[1,2,3])"
   ]
  },
  {
   "cell_type": "code",
   "execution_count": 3,
   "metadata": {},
   "outputs": [
    {
     "data": {
      "text/html": [
       "<div>\n",
       "<style scoped>\n",
       "    .dataframe tbody tr th:only-of-type {\n",
       "        vertical-align: middle;\n",
       "    }\n",
       "\n",
       "    .dataframe tbody tr th {\n",
       "        vertical-align: top;\n",
       "    }\n",
       "\n",
       "    .dataframe thead th {\n",
       "        text-align: right;\n",
       "    }\n",
       "</style>\n",
       "<table border=\"1\" class=\"dataframe\">\n",
       "  <thead>\n",
       "    <tr style=\"text-align: right;\">\n",
       "      <th></th>\n",
       "      <th>등록일시</th>\n",
       "      <th>누적사망자</th>\n",
       "      <th>누적확진자</th>\n",
       "    </tr>\n",
       "  </thead>\n",
       "  <tbody>\n",
       "    <tr>\n",
       "      <th>0</th>\n",
       "      <td>2022-06-08 09:09:05.982</td>\n",
       "      <td>24305</td>\n",
       "      <td>18188200</td>\n",
       "    </tr>\n",
       "    <tr>\n",
       "      <th>1</th>\n",
       "      <td>2022-06-07 09:09:00.897</td>\n",
       "      <td>24299</td>\n",
       "      <td>18174842</td>\n",
       "    </tr>\n",
       "    <tr>\n",
       "      <th>2</th>\n",
       "      <td>2022-06-06 09:00:06.734</td>\n",
       "      <td>24279</td>\n",
       "      <td>18168670</td>\n",
       "    </tr>\n",
       "    <tr>\n",
       "      <th>3</th>\n",
       "      <td>2022-06-05 08:53:19.426</td>\n",
       "      <td>24258</td>\n",
       "      <td>18163648</td>\n",
       "    </tr>\n",
       "    <tr>\n",
       "      <th>4</th>\n",
       "      <td>2022-06-04 08:56:49.219</td>\n",
       "      <td>24238</td>\n",
       "      <td>18153814</td>\n",
       "    </tr>\n",
       "    <tr>\n",
       "      <th>...</th>\n",
       "      <td>...</td>\n",
       "      <td>...</td>\n",
       "      <td>...</td>\n",
       "    </tr>\n",
       "    <tr>\n",
       "      <th>815</th>\n",
       "      <td>2020-03-14 00:00:00.000</td>\n",
       "      <td>72</td>\n",
       "      <td>8086</td>\n",
       "    </tr>\n",
       "    <tr>\n",
       "      <th>816</th>\n",
       "      <td>2020-03-13 00:00:00.000</td>\n",
       "      <td>67</td>\n",
       "      <td>7979</td>\n",
       "    </tr>\n",
       "    <tr>\n",
       "      <th>817</th>\n",
       "      <td>2020-03-12 00:00:00.000</td>\n",
       "      <td>66</td>\n",
       "      <td>7869</td>\n",
       "    </tr>\n",
       "    <tr>\n",
       "      <th>818</th>\n",
       "      <td>2020-03-11 00:00:00.000</td>\n",
       "      <td>60</td>\n",
       "      <td>7755</td>\n",
       "    </tr>\n",
       "    <tr>\n",
       "      <th>819</th>\n",
       "      <td>2020-03-10 00:00:00.000</td>\n",
       "      <td>54</td>\n",
       "      <td>7513</td>\n",
       "    </tr>\n",
       "  </tbody>\n",
       "</table>\n",
       "<p>820 rows × 3 columns</p>\n",
       "</div>"
      ],
      "text/plain": [
       "                        등록일시  누적사망자     누적확진자\n",
       "0    2022-06-08 09:09:05.982  24305  18188200\n",
       "1    2022-06-07 09:09:00.897  24299  18174842\n",
       "2    2022-06-06 09:00:06.734  24279  18168670\n",
       "3    2022-06-05 08:53:19.426  24258  18163648\n",
       "4    2022-06-04 08:56:49.219  24238  18153814\n",
       "..                       ...    ...       ...\n",
       "815  2020-03-14 00:00:00.000     72      8086\n",
       "816  2020-03-13 00:00:00.000     67      7979\n",
       "817  2020-03-12 00:00:00.000     66      7869\n",
       "818  2020-03-11 00:00:00.000     60      7755\n",
       "819  2020-03-10 00:00:00.000     54      7513\n",
       "\n",
       "[820 rows x 3 columns]"
      ]
     },
     "execution_count": 3,
     "metadata": {},
     "output_type": "execute_result"
    }
   ],
   "source": [
    "df.columns = ['등록일시', '누적사망자', '누적확진자']\n",
    "df"
   ]
  },
  {
   "cell_type": "code",
   "execution_count": 4,
   "metadata": {},
   "outputs": [],
   "source": [
    "df.sort_values('등록일시', inplace=True)\n"
   ]
  },
  {
   "cell_type": "code",
   "execution_count": 5,
   "metadata": {},
   "outputs": [],
   "source": [
    "df['일일확진자'] = df['누적확진자'].diff().fillna(0)\n",
    "df['일일사망자'] = df['누적사망자'].diff().fillna(0)"
   ]
  },
  {
   "cell_type": "code",
   "execution_count": 6,
   "metadata": {},
   "outputs": [],
   "source": [
    "df = df[df['일일확진자'] >= 0]"
   ]
  },
  {
   "cell_type": "code",
   "execution_count": 7,
   "metadata": {},
   "outputs": [
    {
     "name": "stdout",
     "output_type": "stream",
     "text": [
      "<class 'pandas.core.frame.DataFrame'>\n",
      "Int64Index: 819 entries, 819 to 0\n",
      "Data columns (total 5 columns):\n",
      " #   Column  Non-Null Count  Dtype         \n",
      "---  ------  --------------  -----         \n",
      " 0   등록일시    819 non-null    datetime64[ns]\n",
      " 1   누적사망자   819 non-null    int64         \n",
      " 2   누적확진자   819 non-null    int64         \n",
      " 3   일일확진자   819 non-null    float64       \n",
      " 4   일일사망자   819 non-null    float64       \n",
      "dtypes: datetime64[ns](1), float64(2), int64(2)\n",
      "memory usage: 38.4 KB\n"
     ]
    },
    {
     "name": "stderr",
     "output_type": "stream",
     "text": [
      "C:\\Users\\bjw\\AppData\\Local\\Temp\\ipykernel_12852\\2408224749.py:1: SettingWithCopyWarning: \n",
      "A value is trying to be set on a copy of a slice from a DataFrame.\n",
      "Try using .loc[row_indexer,col_indexer] = value instead\n",
      "\n",
      "See the caveats in the documentation: https://pandas.pydata.org/pandas-docs/stable/user_guide/indexing.html#returning-a-view-versus-a-copy\n",
      "  df['등록일시']= pd.to_datetime(df['등록일시'])\n"
     ]
    }
   ],
   "source": [
    "df['등록일시']= pd.to_datetime(df['등록일시'])\n",
    "df.info()"
   ]
  },
  {
   "cell_type": "code",
   "execution_count": 8,
   "metadata": {},
   "outputs": [],
   "source": [
    "df.set_index('등록일시', inplace=True)\n"
   ]
  },
  {
   "cell_type": "code",
   "execution_count": 9,
   "metadata": {},
   "outputs": [
    {
     "data": {
      "text/plain": [
       "DatetimeIndex([       '2020-03-10 00:00:00',        '2020-03-11 00:00:00',\n",
       "                      '2020-03-12 00:00:00',        '2020-03-13 00:00:00',\n",
       "                      '2020-03-14 00:00:00',        '2020-03-15 00:00:00',\n",
       "                      '2020-03-16 00:00:00',        '2020-03-17 00:00:00',\n",
       "                      '2020-03-18 00:00:00',        '2020-03-19 00:00:00',\n",
       "               ...\n",
       "               '2022-05-30 09:01:30.847000', '2022-05-31 08:55:39.977000',\n",
       "               '2022-06-01 09:07:30.461000', '2022-06-02 08:58:19.746000',\n",
       "               '2022-06-03 09:08:18.729000', '2022-06-04 08:56:49.219000',\n",
       "               '2022-06-05 08:53:19.426000', '2022-06-06 09:00:06.734000',\n",
       "               '2022-06-07 09:09:00.897000', '2022-06-08 09:09:05.982000'],\n",
       "              dtype='datetime64[ns]', name='등록일시', length=819, freq=None)"
      ]
     },
     "execution_count": 9,
     "metadata": {},
     "output_type": "execute_result"
    }
   ],
   "source": [
    "df.index"
   ]
  },
  {
   "cell_type": "code",
   "execution_count": 10,
   "metadata": {},
   "outputs": [
    {
     "name": "stderr",
     "output_type": "stream",
     "text": [
      "C:\\Users\\bjw\\AppData\\Local\\Temp\\ipykernel_12852\\167477372.py:2: SettingWithCopyWarning: \n",
      "A value is trying to be set on a copy of a slice from a DataFrame.\n",
      "Try using .loc[row_indexer,col_indexer] = value instead\n",
      "\n",
      "See the caveats in the documentation: https://pandas.pydata.org/pandas-docs/stable/user_guide/indexing.html#returning-a-view-versus-a-copy\n",
      "  df.loc[i, '요일']= i.weekday()\n"
     ]
    }
   ],
   "source": [
    "for i in df.index:\n",
    "    df.loc[i, '요일']= i.weekday()"
   ]
  },
  {
   "cell_type": "code",
   "execution_count": 11,
   "metadata": {},
   "outputs": [
    {
     "data": {
      "text/plain": [
       "<bound method IndexOpsMixin.value_counts of 등록일시\n",
       "2020-03-10 00:00:00.000    1.0\n",
       "2020-03-11 00:00:00.000    2.0\n",
       "2020-03-12 00:00:00.000    3.0\n",
       "2020-03-13 00:00:00.000    4.0\n",
       "2020-03-14 00:00:00.000    5.0\n",
       "                          ... \n",
       "2022-06-04 08:56:49.219    5.0\n",
       "2022-06-05 08:53:19.426    6.0\n",
       "2022-06-06 09:00:06.734    0.0\n",
       "2022-06-07 09:09:00.897    1.0\n",
       "2022-06-08 09:09:05.982    2.0\n",
       "Name: 요일, Length: 819, dtype: float64>"
      ]
     },
     "execution_count": 11,
     "metadata": {},
     "output_type": "execute_result"
    }
   ],
   "source": [
    "df['요일'].value_counts"
   ]
  },
  {
   "cell_type": "code",
   "execution_count": 12,
   "metadata": {},
   "outputs": [],
   "source": [
    "_list = df['요일'].astype(int).unique()"
   ]
  },
  {
   "cell_type": "code",
   "execution_count": 13,
   "metadata": {},
   "outputs": [],
   "source": [
    "weekname = ['월','화','수','목','금','토','일']\n",
    "\n",
    "for i in _list:\n",
    "    df.loc[df['요일']==i,'요일'] =weekname[i]"
   ]
  },
  {
   "cell_type": "code",
   "execution_count": 14,
   "metadata": {},
   "outputs": [
    {
     "data": {
      "text/plain": [
       "화    118\n",
       "수    118\n",
       "금    117\n",
       "토    117\n",
       "일    117\n",
       "목    116\n",
       "월    116\n",
       "Name: 요일, dtype: int64"
      ]
     },
     "execution_count": 14,
     "metadata": {},
     "output_type": "execute_result"
    }
   ],
   "source": [
    "df['요일'].value_counts()"
   ]
  },
  {
   "cell_type": "code",
   "execution_count": 15,
   "metadata": {},
   "outputs": [],
   "source": [
    "import platform\n",
    "\n",
    "if platform.system() == 'Darwin':\n",
    "    plt.rc('font',family ='AppleGothic')\n",
    "else:\n",
    "    plt.rc('font',family ='Malgun Gothic')"
   ]
  },
  {
   "cell_type": "code",
   "execution_count": 16,
   "metadata": {},
   "outputs": [
    {
     "data": {
      "text/plain": [
       "<Axes: xlabel='요일'>"
      ]
     },
     "execution_count": 16,
     "metadata": {},
     "output_type": "execute_result"
    },
    {
     "data": {
      "image/png": "[encoded data removed]",
      "text/plain": [
       "<Figure size 640x480 with 1 Axes>"
      ]
     },
     "metadata": {},
     "output_type": "display_data"
    }
   ],
   "source": [
    "df.groupby('요일')['일일확진자'].mean().plot.bar()"
   ]
  },
  {
   "cell_type": "code",
   "execution_count": 17,
   "metadata": {},
   "outputs": [
    {
     "data": {
      "text/plain": [
       "<Axes: xlabel='요일'>"
      ]
     },
     "execution_count": 17,
     "metadata": {},
     "output_type": "execute_result"
    },
    {
     "data": {
      "image/png": "[encoded data removed]",
      "text/plain": [
       "<Figure size 640x480 with 1 Axes>"
      ]
     },
     "metadata": {},
     "output_type": "display_data"
    }
   ],
   "source": [
    "df.groupby('요일')['일일사망자'].mean().plot.bar()"
   ]
  }
 ],
 "metadata": {
  "kernelspec": {
   "display_name": "Python 3",
   "language": "python",
   "name": "python3"
  },
  "language_info": {
   "codemirror_mode": {
    "name": "ipython",
    "version": 3
   },
   "file_extension": ".py",
   "mimetype": "text/x-python",
   "name": "python",
   "nbconvert_exporter": "python",
   "pygments_lexer": "ipython3",
   "version": "3.11.2"
  },
  "orig_nbformat": 4
 },
 "nbformat": 4,
 "nbformat_minor": 2
}
