{
 "cells": [
  {
   "attachments": {},
   "cell_type": "markdown",
   "metadata": {},
   "source": [
    "## 클래스"
   ]
  },
  {
   "cell_type": "code",
   "execution_count": 2,
   "metadata": {},
   "outputs": [],
   "source": [
    "# 클래스를 선언\n",
    "class Class_1():\n",
    "    # 생성장 함수 생성\n",
    "    def __init__(self, input_a, input_b):\n",
    "        self.a= input_a\n",
    "        self.b = input_b\n"
   ]
  },
  {
   "cell_type": "code",
   "execution_count": 3,
   "metadata": {},
   "outputs": [
    {
     "ename": "TypeError",
     "evalue": "Class_1.__init__() missing 2 required positional arguments: 'input_a' and 'input_b'",
     "output_type": "error",
     "traceback": [
      "\u001b[1;31m---------------------------------------------------------------------------\u001b[0m",
      "\u001b[1;31mTypeError\u001b[0m                                 Traceback (most recent call last)",
      "Cell \u001b[1;32mIn[3], line 2\u001b[0m\n\u001b[0;32m      1\u001b[0m \u001b[39m# 클래스 생성\u001b[39;00m\n\u001b[1;32m----> 2\u001b[0m test_class \u001b[39m=\u001b[39m Class_1()\n",
      "\u001b[1;31mTypeError\u001b[0m: Class_1.__init__() missing 2 required positional arguments: 'input_a' and 'input_b'"
     ]
    }
   ],
   "source": [
    "# 클래스 생성\n",
    "test_class = Class_1()"
   ]
  }
 ],
 "metadata": {
  "kernelspec": {
   "display_name": "Python 3",
   "language": "python",
   "name": "python3"
  },
  "language_info": {
   "codemirror_mode": {
    "name": "ipython",
    "version": 3
   },
   "file_extension": ".py",
   "mimetype": "text/x-python",
   "name": "python",
   "nbconvert_exporter": "python",
   "pygments_lexer": "ipython3",
   "version": "3.11.2"
  },
  "orig_nbformat": 4
 },
 "nbformat": 4,
 "nbformat_minor": 2
}
