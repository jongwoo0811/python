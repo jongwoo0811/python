{
 "cells": [
  {
   "attachments": {},
   "cell_type": "markdown",
   "metadata": {},
   "source": [
    "# 변수"
   ]
  },
  {
   "cell_type": "code",
   "execution_count": 120,
   "metadata": {},
   "outputs": [
    {
     "name": "stdout",
     "output_type": "stream",
     "text": [
      "10\n",
      "test\n",
      "<class 'int'>\n",
      "<class 'int'>\n"
     ]
    }
   ],
   "source": [
    "# 변수 선언과 동시에 값을 할당\n",
    "a = 10\n",
    "b = \"test\"\n",
    "\n",
    "# 두 변수를 출력\n",
    "print(a)\n",
    "print(b)\n",
    "# 두 변수의 데이터의 형태 출력\n",
    "print(type(a))\n",
    "print(type(a))\n"
   ]
  },
  {
   "cell_type": "code",
   "execution_count": 121,
   "metadata": {},
   "outputs": [
    {
     "name": "stdout",
     "output_type": "stream",
     "text": [
      "10\n",
      "<class 'str'>\n"
     ]
    }
   ],
   "source": [
    "# 숫자 형태의 데이터에 \"\"로 묶어주면 문자열 데이터로 데이터 대입\n",
    "c = \"10\"\n",
    "print(c)\n",
    "print(type(c))"
   ]
  },
  {
   "attachments": {},
   "cell_type": "markdown",
   "metadata": {},
   "source": [
    "# 연산자"
   ]
  },
  {
   "cell_type": "code",
   "execution_count": 122,
   "metadata": {},
   "outputs": [
    {
     "name": "stdout",
     "output_type": "stream",
     "text": [
      "10 4 2.3333333333333335 2 1 343\n"
     ]
    }
   ],
   "source": [
    "# 산술 연산자\n",
    "x = 7\n",
    "y = 3\n",
    "\n",
    "print(x+y, x-y, x/y, x//y, x%y, x**y)"
   ]
  },
  {
   "cell_type": "code",
   "execution_count": 123,
   "metadata": {},
   "outputs": [
    {
     "name": "stdout",
     "output_type": "stream",
     "text": [
      "7\n",
      "8\n",
      "5\n",
      "10\n",
      "3.3333333333333335\n",
      "5.333333333333334\n",
      "3.3333333333333335\n"
     ]
    }
   ],
   "source": [
    "# 대입 연산자\n",
    "# +=, -=, *=, /=, //=, %=, **=\n",
    "# 산술 연산자와의 차이는 기준이 되는 변수의 데이터를 변경\n",
    "print(x)     # 7이 출력이 된다.\n",
    "x += 1       # x = x + 1 \n",
    "print(x)     # 8이 출력\n",
    "x -= 3       # x = x - 3\n",
    "print(x)     # 5가 출력\n",
    "x *= 2       # x = x * 2\n",
    "print(x)     # 10이 출력\n",
    "x /= 3       # x = x / 3 \n",
    "print(x)     # 3.3323333333... 출력\n",
    "print(x + 2) # 5.3333... 출력\n",
    "print(x)     # 위에 x + 2는 x에 2를 더한 값을 출력 x 데이터의 변화는 없다\n"
   ]
  },
  {
   "cell_type": "code",
   "execution_count": 124,
   "metadata": {},
   "outputs": [
    {
     "name": "stdout",
     "output_type": "stream",
     "text": [
      "False\n",
      "True\n",
      "True\n",
      "False\n",
      "True\n",
      "False\n"
     ]
    }
   ],
   "source": [
    "# 비교 연산자\n",
    "# 데이터의 비교를 하여 논리값을 출력\n",
    "# 논리값 bool의 형태 (true, false)\n",
    "x = 7\n",
    "y = 3\n",
    "\n",
    "print(x == y)\n",
    "print(x != y)\n",
    "print(x > y)\n",
    "print(x < y)\n",
    "print(x >= y)\n",
    "print(x <= y) \n",
    "\n"
   ]
  },
  {
   "cell_type": "code",
   "execution_count": 125,
   "metadata": {},
   "outputs": [
    {
     "name": "stdout",
     "output_type": "stream",
     "text": [
      "True\n",
      "False\n",
      "False\n"
     ]
    }
   ],
   "source": [
    "# and, or , not\n",
    "# and : 두 조건이 모두 참인 경우에 참 나머지의 경우는 모두 거짓\n",
    "print(True and True)\n",
    "print(True and False)\n",
    "print(False and True)\n"
   ]
  },
  {
   "cell_type": "code",
   "execution_count": 126,
   "metadata": {},
   "outputs": [
    {
     "name": "stdout",
     "output_type": "stream",
     "text": [
      "True\n",
      "True\n",
      "False\n"
     ]
    }
   ],
   "source": [
    "# or : 두 조건중 하나만 참이면 참을 출력, 두 조건이 모두 거짓인 경우에만 거짓을 출력\n",
    "\n",
    "print(True or True)\n",
    "print(True or False)\n",
    "print(False or False)"
   ]
  },
  {
   "cell_type": "code",
   "execution_count": 127,
   "metadata": {},
   "outputs": [
    {
     "name": "stdout",
     "output_type": "stream",
     "text": [
      "False\n"
     ]
    }
   ],
   "source": [
    "# not : True눈 False로 False는 True로 출력\n",
    "print(not(True))"
   ]
  },
  {
   "attachments": {},
   "cell_type": "markdown",
   "metadata": {},
   "source": [
    "# 조건문"
   ]
  },
  {
   "attachments": {},
   "cell_type": "markdown",
   "metadata": {},
   "source": [
    "- if문\n",
    "    1. if 뒤의 조건식이 참인 경우 코드가 실행 된다.\n",
    "    2. 조건식이 거짓인 경우에는 코드가 실행되지 않는다.\n",
    "    3. 거짓인 경우 코드를 실행하려면 else 구문이 필요하다.\n",
    "    4. 조건식이 여러개인 경우에는 elif 조건식의 형태로 구문을 만들어준다."
   ]
  },
  {
   "cell_type": "code",
   "execution_count": 128,
   "metadata": {},
   "outputs": [
    {
     "name": "stdout",
     "output_type": "stream",
     "text": [
      "프로그램 종료\n"
     ]
    }
   ],
   "source": [
    "a = 15\n",
    "\n",
    "# a가 10보다 작은경우에는 첫 번째print를 실행\n",
    "# a가 10보다 크거나 같은 경우에는 첫번째 print를 실행하지 않는다.\n",
    "if a < 10 : \n",
    "    print(\"a는 10보다 작다\")\n",
    "\n",
    "print(\"프로그램 종료\")"
   ]
  },
  {
   "cell_type": "code",
   "execution_count": 129,
   "metadata": {},
   "outputs": [
    {
     "name": "stdout",
     "output_type": "stream",
     "text": [
      "a는 10보다 크거나 같다\n",
      "프로그램 종료\n"
     ]
    }
   ],
   "source": [
    "# if ~ else문\n",
    "a = 150\n",
    "if a < 10:\n",
    "    print(\"a는 10보다 작다\")\n",
    "else : \n",
    "    print(\"a는 10보다 크거나 같다\")\n",
    "print(\"프로그램 종료\")"
   ]
  },
  {
   "cell_type": "code",
   "execution_count": 130,
   "metadata": {},
   "outputs": [
    {
     "ename": "ValueError",
     "evalue": "invalid literal for int() with base 10: ''",
     "output_type": "error",
     "traceback": [
      "\u001b[1;31m---------------------------------------------------------------------------\u001b[0m",
      "\u001b[1;31mValueError\u001b[0m                                Traceback (most recent call last)",
      "Cell \u001b[1;32mIn[130], line 1\u001b[0m\n\u001b[1;32m----> 1\u001b[0m score \u001b[39m=\u001b[39m \u001b[39mint\u001b[39;49m(\u001b[39minput\u001b[39;49m(\u001b[39m\"\u001b[39;49m\u001b[39m점수를 입력하시오\u001b[39;49m\u001b[39m\"\u001b[39;49m))\n\u001b[0;32m      3\u001b[0m \u001b[39mif\u001b[39;00m score \u001b[39m>\u001b[39m\u001b[39m=\u001b[39m \u001b[39m90\u001b[39m:\n\u001b[0;32m      4\u001b[0m     \u001b[39mprint\u001b[39m(\u001b[39m'\u001b[39m\u001b[39ma\u001b[39m\u001b[39m'\u001b[39m)\n",
      "\u001b[1;31mValueError\u001b[0m: invalid literal for int() with base 10: ''"
     ]
    }
   ],
   "source": [
    "score = int(input(\"점수를 입력하시오\"))\n",
    "\n",
    "if score >= 90:\n",
    "    print('a')\n",
    "elif score >= 80:\n",
    "    print('b')\n",
    "elif score >= 70:\n",
    "    print('c')\n",
    "else :\n",
    "    print(\"f\")\n",
    "print(\"프로그램 종료\")"
   ]
  },
  {
   "attachments": {},
   "cell_type": "markdown",
   "metadata": {},
   "source": [
    "# 반복문"
   ]
  },
  {
   "cell_type": "code",
   "execution_count": null,
   "metadata": {},
   "outputs": [
    {
     "name": "stdout",
     "output_type": "stream",
     "text": [
      "[1, 3, 5, 7, 9]\n"
     ]
    }
   ],
   "source": [
    "# rnage(시작값, 종료값, 증가값)\n",
    "print (list(range(1, 11, 2)))\n"
   ]
  },
  {
   "cell_type": "code",
   "execution_count": null,
   "metadata": {},
   "outputs": [
    {
     "name": "stdout",
     "output_type": "stream",
     "text": [
      "1\n",
      "2\n",
      "3\n",
      "4\n",
      "5\n",
      "6\n",
      "7\n",
      "8\n",
      "9\n",
      "10\n",
      "프로그램 종료\n"
     ]
    }
   ],
   "source": [
    "#for문\n",
    "for i in range(1, 11, 1):\n",
    "    print(i)\n",
    "print(\"프로그램 종료\")  #들여쓰기 중요!"
   ]
  },
  {
   "cell_type": "code",
   "execution_count": null,
   "metadata": {},
   "outputs": [
    {
     "name": "stdout",
     "output_type": "stream",
     "text": [
      "0\n",
      "1\n",
      "2\n",
      "3\n",
      "4\n",
      "5\n",
      "6\n",
      "7\n",
      "8\n",
      "9\n"
     ]
    }
   ],
   "source": [
    "for i in range(10):\n",
    "    print(i)"
   ]
  },
  {
   "cell_type": "code",
   "execution_count": null,
   "metadata": {},
   "outputs": [
    {
     "ename": "SyntaxError",
     "evalue": "invalid syntax (936789776.py, line 1)",
     "output_type": "error",
     "traceback": [
      "\u001b[1;36m  Cell \u001b[1;32mIn[68], line 1\u001b[1;36m\u001b[0m\n\u001b[1;33m    for in range(10, 1, -2):\u001b[0m\n\u001b[1;37m        ^\u001b[0m\n\u001b[1;31mSyntaxError\u001b[0m\u001b[1;31m:\u001b[0m invalid syntax\n"
     ]
    }
   ],
   "source": [
    "for in range(10, 1, -2):\n",
    "    print(i)\n"
   ]
  },
  {
   "cell_type": "code",
   "execution_count": null,
   "metadata": {},
   "outputs": [
    {
     "name": "stdout",
     "output_type": "stream",
     "text": [
      "110\n"
     ]
    }
   ],
   "source": [
    "# 1부터 10까지의 합계를 구하시오\n",
    "#10번 반복\n",
    "\n",
    "# 초기의 합계 값 지정\n",
    "result = 0 \n",
    "\n",
    "#반복문 시작 \n",
    "for i in range(1, 11, 1):\n",
    "    #합계 값에 i값을 더해준다\n",
    "    result = result + i\n",
    "    result += i\n",
    "\n",
    "print(result)"
   ]
  },
  {
   "cell_type": "code",
   "execution_count": null,
   "metadata": {},
   "outputs": [
    {
     "name": "stdout",
     "output_type": "stream",
     "text": [
      "650\n",
      "650\n"
     ]
    }
   ],
   "source": [
    "# 1부터 50까지의 합계를 구한다\n",
    "# 1부터 50까지 짝수의 합계만 구하는 방법은?\n",
    "\n",
    "#case1(for문)\n",
    "result = 0\n",
    "for i in range(2, 51, 2):\n",
    "    result += i\n",
    "print(result)\n",
    "\n",
    "#case2(if문)\n",
    "result = 0\n",
    "for i in range(1, 51, 1):\n",
    "    # 짝수의 조건은 : 2로 나눴을때 나머지가 0인 경우\n",
    "    if i % 2 == 0:\n",
    "        result += i\n",
    "print(result)\n",
    "\n"
   ]
  },
  {
   "cell_type": "code",
   "execution_count": null,
   "metadata": {},
   "outputs": [
    {
     "name": "stdout",
     "output_type": "stream",
     "text": [
      "1 4\n",
      "2 3\n",
      "3 2\n",
      "4 1\n",
      "4 6\n",
      "5 5\n",
      "6 4\n"
     ]
    }
   ],
   "source": [
    "# 주사위 2개를 굴려서 두 자사위의 합계가 5인 배수인 경우를 출력하시오.\n",
    "# 경우의 수 : 36번 -> 6번의 경우의 수 * 6번 경우의 수\n",
    "# 다중 for문 -> if문 사용\n",
    "result = 0\n",
    "for i in  range(1, 7, 1):\n",
    "    for j in range(1, 7, 1):\n",
    "       sum = i + j\n",
    "       if (i + j)% 5 == 0:\n",
    "        print(i, j)\n",
    "\n",
    "\n"
   ]
  },
  {
   "cell_type": "code",
   "execution_count": null,
   "metadata": {},
   "outputs": [
    {
     "ename": "SyntaxError",
     "evalue": "invalid decimal literal (4175427346.py, line 3)",
     "output_type": "error",
     "traceback": [
      "\u001b[1;36m  Cell \u001b[1;32mIn[116], line 3\u001b[1;36m\u001b[0m\n\u001b[1;33m    > a**n + b**n = c**n 이 수식에서  n의 값이 2보다 큰 자연수이면 a,b,c의 자연수의 값은 존재하지 않는다.\u001b[0m\n\u001b[1;37m                                       ^\u001b[0m\n\u001b[1;31mSyntaxError\u001b[0m\u001b[1;31m:\u001b[0m invalid decimal literal\n"
     ]
    }
   ],
   "source": [
    "### 문제\n",
    "- 페르마의 마지막 정리를 증명하시오.\n",
    "    > a**n + b**n = c**n 이 수식에서  n의 값이 2보다 큰 자연수이면 a,b,c의 자연수의 값은 존재하지 않는다.\n",
    "    > n의 값이 3인 경우 a, b, c가 1부터 10까지 이 정리가 사실임을 증명하시오\n",
    "- 다중 for문과 if문을 사용\n",
    "\n",
    "for a in range(1, 11, 1): \n",
    "    for b in range(1, 11, 1):  \n",
    "        for c in range(1, 11, 1):  \n",
    "            if a**3 + b**3 == c**3:\n",
    "                print(a, b, c)\n",
    "\n",
    "print(\"페르마의 정리 증명을 완료\")\n",
    "    \n"
   ]
  },
  {
   "cell_type": "code",
   "execution_count": 131,
   "metadata": {},
   "outputs": [
    {
     "name": "stdout",
     "output_type": "stream",
     "text": [
      "1\n",
      "2\n",
      "3\n",
      "4\n",
      "5\n",
      "6\n",
      "7\n",
      "8\n",
      "9\n",
      "10\n"
     ]
    }
   ],
   "source": [
    "#while문 \n",
    "# 초기값 지정\n",
    "i = 0\n",
    "\n",
    "while i < 10:\n",
    "    i += 1\n",
    "    print(i)"
   ]
  },
  {
   "cell_type": "markdown",
   "metadata": {},
   "source": []
  },
  {
   "cell_type": "code",
   "execution_count": null,
   "metadata": {},
   "outputs": [],
   "source": [
    "result = 0 \n",
    "i = 1\n",
    "\n",
    "while 1 <= 10:\n",
    "    i += 1\n",
    "    result += i \n",
    "print(result)"
   ]
  },
  {
   "cell_type": "code",
   "execution_count": 146,
   "metadata": {},
   "outputs": [
    {
     "name": "stdout",
     "output_type": "stream",
     "text": [
      "3\n",
      "4\n",
      "5\n",
      "6\n",
      "7\n",
      "8\n",
      "9\n",
      "10\n"
     ]
    }
   ],
   "source": [
    "# continue, break\n",
    "# continue 반복문으로 돌아간다.\n",
    "# break 반복문을 종료한다.\n",
    "\n",
    "for i in range(1, 11, 1):\n",
    "    if i < 3:\n",
    "        continue\n",
    "    print(i)"
   ]
  },
  {
   "cell_type": "code",
   "execution_count": 150,
   "metadata": {},
   "outputs": [
    {
     "name": "stdout",
     "output_type": "stream",
     "text": [
      "0\n",
      "1\n",
      "2\n",
      "3\n",
      "4\n",
      "5\n",
      "6\n"
     ]
    }
   ],
   "source": [
    "i = 0\n",
    "while i < 11:      # i가 11보다 작은 동안 7보다 밑까지 출력반복\n",
    "    if i == 7:\n",
    "        break\n",
    "    print(i)\n",
    "    i += 1"
   ]
  },
  {
   "attachments": {},
   "cell_type": "markdown",
   "metadata": {},
   "source": [
    "### 문제\n",
    " - 1부터 1000까지 합을 구하는데 합계가 900이 넘어가는 최초의 숫자는 무엇인가?\n",
    "    1. 합계라는 변수를 하나 지정 0 을 대입\n",
    "    2. for, while문을 사용하여 1부터 1000까지의 합계를 구하는 반복문 생성\n",
    "    3. 합계가 900이 넘어가는 순간 break\n",
    "    4. break 당시의 i 값을 출력\n"
   ]
  },
  {
   "cell_type": "code",
   "execution_count": 169,
   "metadata": {},
   "outputs": [
    {
     "name": "stdout",
     "output_type": "stream",
     "text": [
      "42\n",
      "903\n"
     ]
    }
   ],
   "source": [
    "#for문\n",
    "result = 0\n",
    "for i in range(1, 1001, 1):\n",
    "    result += i \n",
    "    if result > 900:\n",
    "        print(i)\n",
    "        break\n",
    "print(result)"
   ]
  },
  {
   "cell_type": "code",
   "execution_count": 177,
   "metadata": {},
   "outputs": [
    {
     "name": "stdout",
     "output_type": "stream",
     "text": [
      "42\n",
      "903\n"
     ]
    }
   ],
   "source": [
    "#while문\n",
    "result = 0 \n",
    "i = 1\n",
    "while i <= 10000:\n",
    "    result += i\n",
    "    if result > 900:\n",
    "        break\n",
    "    i += 1\n",
    "print(i)\n",
    "print(result)"
   ]
  },
  {
   "attachments": {},
   "cell_type": "markdown",
   "metadata": {},
   "source": [
    "# 튜플"
   ]
  },
  {
   "cell_type": "code",
   "execution_count": 192,
   "metadata": {},
   "outputs": [
    {
     "name": "stdout",
     "output_type": "stream",
     "text": [
      "(4, 'Hello')\n",
      "(3, 3.14)\n",
      "(4, 'Hello', 3, 3.14)\n",
      "(4, 'Hello', 4, 'Hello', 4, 'Hello')\n"
     ]
    }
   ],
   "source": [
    "a= (4, \"Hello\")\n",
    "b= (3, 3.14)\n",
    "c= (a + b)\n",
    "d= (a*3)\n",
    "print(a)\n",
    "print(b)\n",
    "print(c)\n",
    "print(d)"
   ]
  },
  {
   "cell_type": "code",
   "execution_count": 193,
   "metadata": {},
   "outputs": [
    {
     "name": "stdout",
     "output_type": "stream",
     "text": [
      "4\n"
     ]
    }
   ],
   "source": [
    "#튜플과 같은 여러개의 원소를 담아내고 있는 변수들은 위치 값으로 각각의 원소를 출력할 수 있다.\n",
    "print(a[0]) #위치는 0부터 시작한다.\n"
   ]
  },
  {
   "cell_type": "code",
   "execution_count": 194,
   "metadata": {},
   "outputs": [
    {
     "name": "stdout",
     "output_type": "stream",
     "text": [
      "H\n"
     ]
    }
   ],
   "source": [
    "print(a[1][0])"
   ]
  },
  {
   "cell_type": "code",
   "execution_count": 195,
   "metadata": {},
   "outputs": [
    {
     "name": "stdout",
     "output_type": "stream",
     "text": [
      "(20, 30, 40)\n"
     ]
    }
   ],
   "source": [
    "a= (10, 20, 30, 40, 50)\n",
    "#2번째 원소부터 4번째 원소까지 출력\n",
    "print(a[1:4])"
   ]
  },
  {
   "cell_type": "code",
   "execution_count": 198,
   "metadata": {},
   "outputs": [
    {
     "name": "stdout",
     "output_type": "stream",
     "text": [
      "(20, 30, 40, 50)\n",
      "(10, 20, 30)\n"
     ]
    }
   ],
   "source": [
    "print(a[1:]) #두번째 부터 마지막까지 출력\n",
    "print(a[:3]) #처음부터 3번째까지"
   ]
  },
  {
   "attachments": {},
   "cell_type": "markdown",
   "metadata": {},
   "source": [
    "# 리스트 list"
   ]
  },
  {
   "cell_type": "code",
   "execution_count": 201,
   "metadata": {},
   "outputs": [
    {
     "name": "stdout",
     "output_type": "stream",
     "text": [
      "[10, 20, 30, 40]\n",
      "[40, 30, 20, 10]\n"
     ]
    }
   ],
   "source": [
    "a=[20, 10 ,40, 30]\n",
    "b=[10, 20, 30, 40]\n",
    "#a 리스트의 순서를 오름차순으로 변경\n",
    "a.sort()\n",
    "#b 리스트의 순서를 역순으로 변경\n",
    "b.reverse()\n",
    "print(a)\n",
    "print(b)\n"
   ]
  },
  {
   "cell_type": "code",
   "execution_count": 202,
   "metadata": {},
   "outputs": [
    {
     "name": "stdout",
     "output_type": "stream",
     "text": [
      "[10, 20, 30]\n",
      "[40, 30, 20, 10, 22]\n"
     ]
    }
   ],
   "source": [
    "# a 리스트에서 마지막 항목을 삭제한다\n",
    "a.pop()\n",
    "# b 리스트에는 22라는 항목을 마지막 항에 추가\n",
    "b.append(22)\n",
    "print(a)\n",
    "print(b)"
   ]
  },
  {
   "cell_type": "code",
   "execution_count": 203,
   "metadata": {},
   "outputs": [
    {
     "name": "stdout",
     "output_type": "stream",
     "text": [
      "[1, 2, 3, 4, 5, 6, 7, 8, 9, 10]\n"
     ]
    }
   ],
   "source": [
    "x =[]\n",
    "\n",
    "for i in range(1,11,1):\n",
    "    x.append(i)\n",
    "print(x)"
   ]
  },
  {
   "cell_type": "code",
   "execution_count": 206,
   "metadata": {},
   "outputs": [
    {
     "name": "stdout",
     "output_type": "stream",
     "text": [
      "30\n",
      "20\n",
      "10\n",
      "80\n",
      "30\n",
      "20\n",
      "10\n",
      "80\n"
     ]
    }
   ],
   "source": [
    "y=[30,20,10,80]\n",
    "\n",
    "for i in y:\n",
    "    print(i)\n",
    "\n",
    "for i in range(0, len(y),1):\n",
    "    print(y[i])"
   ]
  },
  {
   "cell_type": "code",
   "execution_count": null,
   "metadata": {},
   "outputs": [],
   "source": [
    "- 1부터 70까 숫자들 중에 3의 배수를 리스트에 형태로 만들어서 출력\n",
    "    1. 비어있는 리스트를 하나 생성\n",
    "    2. 1부터 70까지 반복을 하는 반복문을 생성\n",
    "    3. 1부터 70까지의 항복들을 비어있는 리스트에 추가\n",
    "    4. 3의 배수인 값들만 리스트에 추가"
   ]
  },
  {
   "cell_type": "code",
   "execution_count": null,
   "metadata": {},
   "outputs": [],
   "source": [
    "x =[]\n",
    "for i in range(1,71,1):\n",
    "    if i %3 =0\n",
    "    3.append(i)\n",
    "print(i)"
   ]
  },
  {
   "cell_type": "code",
   "execution_count": 217,
   "metadata": {},
   "outputs": [
    {
     "name": "stdout",
     "output_type": "stream",
     "text": [
      "[3, 6, 9, 12, 15, 18, 21, 24, 27, 30, 33, 36, 39, 42, 45, 48, 51, 54, 57, 60, 63, 66, 69]\n"
     ]
    }
   ],
   "source": [
    "list = []\n",
    "for i in range(1,71,1):\n",
    "    if i %3 == 0:\n",
    "        list.append(i)\n",
    "print(list)"
   ]
  },
  {
   "cell_type": "code",
   "execution_count": 220,
   "metadata": {},
   "outputs": [
    {
     "name": "stdout",
     "output_type": "stream",
     "text": [
      "[3, 6, 9, 12, 15, 18, 21, 24, 27, 30, 33, 36, 39, 42, 45, 48, 51, 54, 57, 60, 63, 66, 69]\n"
     ]
    }
   ],
   "source": [
    "list=[]\n",
    "i=1\n",
    "while i <=70:\n",
    "    if i%3 ==0:\n",
    "        list.append(i)\n",
    "    i+=1\n",
    "print(list)"
   ]
  },
  {
   "attachments": {},
   "cell_type": "markdown",
   "metadata": {},
   "source": [
    "# 딕셔너리 dict"
   ]
  },
  {
   "cell_type": "code",
   "execution_count": 221,
   "metadata": {},
   "outputs": [
    {
     "name": "stdout",
     "output_type": "stream",
     "text": [
      "{'name': 'test', 'age': '20', 'phone': '010123456'}\n"
     ]
    }
   ],
   "source": [
    "# 사전형 데이터\n",
    "# {key1 : value1, key2 : value2, ...}\n",
    "dict={'name':'test','age':'20','phone':'010123456'}\n",
    "print(dict)"
   ]
  },
  {
   "cell_type": "code",
   "execution_count": 222,
   "metadata": {},
   "outputs": [
    {
     "name": "stdout",
     "output_type": "stream",
     "text": [
      "test\n"
     ]
    }
   ],
   "source": [
    "print(dict['name'])"
   ]
  },
  {
   "cell_type": "code",
   "execution_count": 223,
   "metadata": {},
   "outputs": [
    {
     "name": "stdout",
     "output_type": "stream",
     "text": [
      "{'name': 'test', 'age': '20', 'phone': '010123456', 'area': 'seoul'}\n"
     ]
    }
   ],
   "source": [
    "# 새로운 키 : 벨류를 추카\n",
    "#새로운 키값을 입력\n",
    "dict['area'] = 'seoul'\n",
    "print(dict)"
   ]
  },
  {
   "cell_type": "code",
   "execution_count": 224,
   "metadata": {},
   "outputs": [
    {
     "name": "stdout",
     "output_type": "stream",
     "text": [
      "{'name': 'test', 'age': 30, 'phone': '010123456', 'area': 'seoul'}\n"
     ]
    }
   ],
   "source": [
    "#기존의 키값에 있는 벨류를 수정\n",
    "dict['age'] = 30\n",
    "print(dict)"
   ]
  },
  {
   "cell_type": "code",
   "execution_count": 229,
   "metadata": {},
   "outputs": [],
   "source": [
    "test_data = [\n",
    "    {\n",
    "        \"name\" : \"test\",\n",
    "        \"age\" : 20\n",
    "    },\n",
    "    {\n",
    "        \"name\" : \"test2\",\n",
    "        \"age\" : 30\n",
    "    },\n",
    "    {\n",
    "        \"name\" : \"test3\",\n",
    "        \"age\" : 25\n",
    "    }\n",
    "]\n",
    "# 연령대 20대 출력"
   ]
  },
  {
   "cell_type": "code",
   "execution_count": 249,
   "metadata": {},
   "outputs": [
    {
     "ename": "SyntaxError",
     "evalue": "invalid syntax (1346128690.py, line 4)",
     "output_type": "error",
     "traceback": [
      "\u001b[1;36m  Cell \u001b[1;32mIn[249], line 4\u001b[1;36m\u001b[0m\n\u001b[1;33m    print(test_data[i]['age']):\u001b[0m\n\u001b[1;37m                              ^\u001b[0m\n\u001b[1;31mSyntaxError\u001b[0m\u001b[1;31m:\u001b[0m invalid syntax\n"
     ]
    }
   ],
   "source": [
    "#for문\n",
    "_list = []\n",
    "for i in range(0,len(test_data),1):\n",
    "    print(test_data[i]['age']):\n",
    "    if test_data[i]['age'] >=20 and test_data[i]['age'] <30:\n",
    "print(_list)"
   ]
  },
  {
   "cell_type": "code",
   "execution_count": null,
   "metadata": {},
   "outputs": [],
   "source": [
    "_list =[]\n",
    "for i in test_data:\n",
    "    if i['age'] >= 20 and i['age'] <30:\n",
    "        _list.append(i['age'])\n",
    "print(test_data['age'])"
   ]
  }
 ],
 "metadata": {
  "kernelspec": {
   "display_name": "Python 3",
   "language": "python",
   "name": "python3"
  },
  "language_info": {
   "codemirror_mode": {
    "name": "ipython",
    "version": 3
   },
   "file_extension": ".py",
   "mimetype": "text/x-python",
   "name": "python",
   "nbconvert_exporter": "python",
   "pygments_lexer": "ipython3",
   "version": "3.11.2"
  },
  "orig_nbformat": 4
 },
 "nbformat": 4,
 "nbformat_minor": 2
}
