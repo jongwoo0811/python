{
 "cells": [
  {
   "attachments": {},
   "cell_type": "markdown",
   "metadata": {},
   "source": [
    "### Class 생성\n",
    "1. class 이름은 User\n",
    "2. 생성자 함수(__init__)에서 유저의 이름과, 휴대폰 번호, 생년월일 매개변수를 이용하여 self변수를 만들어서 저장\n",
    "3. info()함수를 생성하여 유저의 정보를 추력하는 생성"
   ]
  },
  {
   "cell_type": "code",
   "execution_count": 21,
   "metadata": {},
   "outputs": [],
   "source": [
    "# 클래스 생성\n",
    "class User:\n",
    "    def __init__(self, name, number,birth):\n",
    "        self.name = name   \n",
    "        self.number =number\n",
    "        self.birth = birth\n",
    "    \n",
    "    def info(self):\n",
    "        return (self.name,self.number,self.birth)\n",
    "    \n"
   ]
  },
  {
   "cell_type": "code",
   "execution_count": 22,
   "metadata": {},
   "outputs": [],
   "source": [
    "#test\n",
    "# 클래스 생성\n",
    "test = User('test', '01012345678','970811')"
   ]
  },
  {
   "cell_type": "code",
   "execution_count": 27,
   "metadata": {},
   "outputs": [
    {
     "data": {
      "text/plain": [
       "('test', '01012345678', '970811')"
      ]
     },
     "execution_count": 27,
     "metadata": {},
     "output_type": "execute_result"
    }
   ],
   "source": [
    "test.info()"
   ]
  },
  {
   "attachments": {},
   "cell_type": "markdown",
   "metadata": {},
   "source": [
    "### 지갑 클래스 생성\n",
    "1. 클래스의 이름은 wallet\n",
    "2. 생성자 함수에는 소유자의 이름, 지갑의 브랜드, 지갑의 가치, 잔액\n",
    "3. 잔액의 기본값은 0\n",
    "4. work() 함수를 생성 : 매개변수에 일의 종류, 일의 정류가 'TM'이면 지갑의 잔액은 500증가, alba이면 지갑의 잔액을 300증가, serving이면 잔액 400을 증가\n",
    "5. wallet_info()함수를 생성: 지갑의 정보(소유자의 이름, 지갑의 브랜드, 지갑의 가치. 잔액)을 출력"
   ]
  },
  {
   "cell_type": "code",
   "execution_count": 176,
   "metadata": {},
   "outputs": [],
   "source": [
    "class wallet(User):\n",
    "\n",
    "    # 클래스 변수생성\n",
    "    work_type = {\n",
    "        'TM' : 500,\n",
    "        'alba':300,\n",
    "        'serving':400\n",
    "    }\n",
    "    \n",
    "    item_type={\n",
    "        'cash':200,\n",
    "        'food':300,\n",
    "        'clothes':500\n",
    "    }\n",
    "    def __init__(self,name, number,birth, brand, value, balance =0):\n",
    "        # 부모 클래스의 __init__함수 실행\n",
    "        super().__init__(name, number, birth)\n",
    "        self.brand = brand\n",
    "        self.value = value\n",
    "        self.balance = balance\n",
    "    \n",
    "    def work(self, job):\n",
    "        # if job == 'TM':\n",
    "        #     self.balance += 500\n",
    "        # elif job == 'alba':\n",
    "        #     self.balance += 300\n",
    "        # elif job == 'serving': \n",
    "        #     self.balance += 400\n",
    "        # else : \n",
    "        #     return \"일의 타입이 맞지 않습니다.\"\n",
    "        # return f\"{job}의 일을 완료하였습니다. 현재의 잔액은 {self.balance}입니다.\"#f\"{중괄호 안에 해당하는 값을 찾아서 넣어주겠다}\"\"\n",
    "        if job in self.work_type.keys():\n",
    "            self.balance += self.work_type[job]\n",
    "        else:\n",
    "            return \"일의 타입이 맞지 않습니다\"\n",
    "        return f\"{job}의 일을 완료하였습니다. 현재의 잔액은 {self.balance}입니다\"\n",
    "    # 일과 구매의 목록을 추가하는 함수 생성\n",
    "    def add_type(self, choose, key, value):\n",
    "        # choose 일 아니면 구매\n",
    "        # key dict의 키 값\n",
    "        # value dict의 value 값\n",
    "        if choose == \"work\":\n",
    "            if key not in self.work_type.keys():\n",
    "                self.work_type[key] = value\n",
    "            else:\n",
    "                return \"일 목록이 존재합니다\"\n",
    "        elif choose ==\"buy\":\n",
    "            if key not in self.item_type.keys():\n",
    "                self.item_type[key] = value\n",
    "            else:\n",
    "                return \"구매 목록이 존재합니다\"\n",
    "            self.item_type[key] = value\n",
    "        else:\n",
    "            return \"choose의 값이 잘못되었습니다.\"\n",
    "        return f\"{choose}의 목록이 추가되었습니다.\"\n",
    "\n",
    "\n",
    "#  구매하는 함수 생성\n",
    "    def buy(self, item):\n",
    "        # if item =='cash':\n",
    "        #     self.cost -= 200\n",
    "        # elif item == 'food':\n",
    "        #     self.cost -= 300\n",
    "        # elif item == 'clothes':\n",
    "        #     self.cost -= 500\n",
    "        # else:\n",
    "        #     return \"item의 타입이 맞지 않습니다.\"\n",
    "        if item in self.item_type.keys():\n",
    "            if self.balance >= self.item_type[item]:\n",
    "                self.balance -= self.item_type[item]\n",
    "            else:\n",
    "                return \"지갑의 잔액이 부족합니다.\"\n",
    "        else:\n",
    "            return \"item의 타입이 맞지 않습니다.\"\n",
    "        return f\"{item}을(를) 구매하였습니다. 현재의 잔액은 {self.balance}입니다.\"\n",
    "    \n",
    "\n",
    "    def info(self):\n",
    "        return(self.brand,self.value,self.balance)\n",
    "        \n",
    "\n",
    "\n",
    "    "
   ]
  },
  {
   "cell_type": "code",
   "execution_count": 177,
   "metadata": {},
   "outputs": [],
   "source": [
    "test = wallet(\"test\",\"1012101241248\",\"970811\",\"LV\",\"5000\")"
   ]
  },
  {
   "cell_type": "code",
   "execution_count": 178,
   "metadata": {},
   "outputs": [
    {
     "data": {
      "text/plain": [
       "('LV', '5000', 0)"
      ]
     },
     "execution_count": 178,
     "metadata": {},
     "output_type": "execute_result"
    }
   ],
   "source": [
    "test.info()"
   ]
  },
  {
   "cell_type": "code",
   "execution_count": 179,
   "metadata": {},
   "outputs": [],
   "source": [
    "test2 =User('test2', '109409823','4940')"
   ]
  },
  {
   "cell_type": "code",
   "execution_count": 180,
   "metadata": {},
   "outputs": [
    {
     "data": {
      "text/plain": [
       "('test2', '109409823', '4940')"
      ]
     },
     "execution_count": 180,
     "metadata": {},
     "output_type": "execute_result"
    }
   ],
   "source": [
    "test2.info()"
   ]
  },
  {
   "cell_type": "code",
   "execution_count": 174,
   "metadata": {},
   "outputs": [
    {
     "data": {
      "text/plain": [
       "'TM의 일을 완료하였습니다. 현재의 잔액은 500입니다'"
      ]
     },
     "execution_count": 174,
     "metadata": {},
     "output_type": "execute_result"
    }
   ],
   "source": [
    "test.work('TM')"
   ]
  },
  {
   "cell_type": "code",
   "execution_count": 139,
   "metadata": {},
   "outputs": [
    {
     "data": {
      "text/plain": [
       "'alba의 일을 완료하였습니다. 현재의 잔액은 800입니다'"
      ]
     },
     "execution_count": 139,
     "metadata": {},
     "output_type": "execute_result"
    }
   ],
   "source": [
    "test.work('alba')"
   ]
  },
  {
   "cell_type": "code",
   "execution_count": 160,
   "metadata": {},
   "outputs": [
    {
     "data": {
      "text/plain": [
       "'teach의 일을 완료하였습니다. 현재의 잔액은 2000입니다'"
      ]
     },
     "execution_count": 160,
     "metadata": {},
     "output_type": "execute_result"
    }
   ],
   "source": [
    "test.work('teach')"
   ]
  },
  {
   "cell_type": "code",
   "execution_count": 141,
   "metadata": {},
   "outputs": [
    {
     "data": {
      "text/plain": [
       "'work의 목록이 추가되었습니다.'"
      ]
     },
     "execution_count": 141,
     "metadata": {},
     "output_type": "execute_result"
    }
   ],
   "source": [
    "test.add_type('work','teach',200)"
   ]
  },
  {
   "cell_type": "code",
   "execution_count": 142,
   "metadata": {},
   "outputs": [
    {
     "data": {
      "text/plain": [
       "'cash을(를) 구매하였습니다. 현재의 잔액은 600입니다.'"
      ]
     },
     "execution_count": 142,
     "metadata": {},
     "output_type": "execute_result"
    }
   ],
   "source": [
    "test.buy('cash')"
   ]
  },
  {
   "cell_type": "code",
   "execution_count": 143,
   "metadata": {},
   "outputs": [
    {
     "data": {
      "text/plain": [
       "'buy의 목록이 추가되었습니다.'"
      ]
     },
     "execution_count": 143,
     "metadata": {},
     "output_type": "execute_result"
    }
   ],
   "source": [
    "test.add_type('buy','coffee',100)"
   ]
  },
  {
   "cell_type": "code",
   "execution_count": 170,
   "metadata": {},
   "outputs": [
    {
     "data": {
      "text/plain": [
       "'coffee을(를) 구매하였습니다. 현재의 잔액은 1000입니다.'"
      ]
     },
     "execution_count": 170,
     "metadata": {},
     "output_type": "execute_result"
    }
   ],
   "source": [
    "test.buy('coffee')"
   ]
  },
  {
   "cell_type": "code",
   "execution_count": 130,
   "metadata": {},
   "outputs": [
    {
     "data": {
      "text/plain": [
       "('test', 'LV', '5000', 600)"
      ]
     },
     "execution_count": 130,
     "metadata": {},
     "output_type": "execute_result"
    }
   ],
   "source": [
    "test.wallet_info()"
   ]
  },
  {
   "cell_type": "markdown",
   "metadata": {},
   "source": []
  },
  {
   "cell_type": "code",
   "execution_count": null,
   "metadata": {},
   "outputs": [],
   "source": []
  }
 ],
 "metadata": {
  "kernelspec": {
   "display_name": "Python 3",
   "language": "python",
   "name": "python3"
  },
  "language_info": {
   "codemirror_mode": {
    "name": "ipython",
    "version": 3
   },
   "file_extension": ".py",
   "mimetype": "text/x-python",
   "name": "python",
   "nbconvert_exporter": "python",
   "pygments_lexer": "ipython3",
   "version": "3.11.2"
  },
  "orig_nbformat": 4
 },
 "nbformat": 4,
 "nbformat_minor": 2
}
