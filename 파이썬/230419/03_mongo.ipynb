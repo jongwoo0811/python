{
 "cells": [
  {
   "attachments": {},
   "cell_type": "markdown",
   "metadata": {},
   "source": [
    "### mongodb\n",
    "1. 라이브러리 설치\n",
    "2. 라이브러리 로드\n",
    "3. CRUD"
   ]
  },
  {
   "cell_type": "code",
   "execution_count": 20,
   "metadata": {},
   "outputs": [
    {
     "name": "stdout",
     "output_type": "stream",
     "text": [
      "Requirement already satisfied: pymongo in c:\\users\\bjw\\appdata\\local\\programs\\python\\python311\\lib\\site-packages (4.3.3)\n",
      "Requirement already satisfied: dnspython<3.0.0,>=1.16.0 in c:\\users\\bjw\\appdata\\local\\programs\\python\\python311\\lib\\site-packages (from pymongo) (2.3.0)\n"
     ]
    },
    {
     "name": "stderr",
     "output_type": "stream",
     "text": [
      "\n",
      "[notice] A new release of pip available: 22.3.1 -> 23.1\n",
      "[notice] To update, run: python.exe -m pip install --upgrade pip\n"
     ]
    }
   ],
   "source": [
    "!pip install pymongo"
   ]
  },
  {
   "cell_type": "code",
   "execution_count": 21,
   "metadata": {},
   "outputs": [],
   "source": [
    "from pymongo import MongoClient"
   ]
  },
  {
   "cell_type": "code",
   "execution_count": 22,
   "metadata": {},
   "outputs": [],
   "source": [
    "client = MongoClient(\n",
    "    host ='localhost',\n",
    "    port = 27017\n",
    ")"
   ]
  },
  {
   "cell_type": "code",
   "execution_count": 23,
   "metadata": {},
   "outputs": [
    {
     "data": {
      "text/plain": [
       "['admin', 'config', 'local', 'ubion']"
      ]
     },
     "execution_count": 23,
     "metadata": {},
     "output_type": "execute_result"
    }
   ],
   "source": [
    "# mongodb에 있는 데이터베이스의 목록 출력\n",
    "client.list_database_names()"
   ]
  },
  {
   "cell_type": "code",
   "execution_count": 24,
   "metadata": {},
   "outputs": [],
   "source": [
    "# 데이터 베이스를 선택\n",
    "db = client['ubion']"
   ]
  },
  {
   "cell_type": "code",
   "execution_count": 25,
   "metadata": {},
   "outputs": [],
   "source": [
    "# collection 접근(collection은 sql에서 table과 같은 의미)\n",
    "collection =db['test']"
   ]
  },
  {
   "cell_type": "code",
   "execution_count": 26,
   "metadata": {},
   "outputs": [
    {
     "data": {
      "text/plain": [
       "<pymongo.results.InsertOneResult at 0x1dcc2844040>"
      ]
     },
     "execution_count": 26,
     "metadata": {},
     "output_type": "execute_result"
    }
   ],
   "source": [
    "# CRUD 작업 -> C\n",
    "# create -> insert() 함수사용\n",
    "# insert_one() / insert_many() 하나value / 여러개values\n",
    "data ={\n",
    "    'id':'test',\n",
    "    'pass':'1234'\n",
    "\n",
    "}\n",
    "collection.insert_one(data)\n"
   ]
  },
  {
   "cell_type": "code",
   "execution_count": 27,
   "metadata": {},
   "outputs": [
    {
     "data": {
      "text/plain": [
       "{'_id': ObjectId('643f8ae82ab0aefde870513c'), 'id': 'test', 'pass': '1234'}"
      ]
     },
     "execution_count": 27,
     "metadata": {},
     "output_type": "execute_result"
    }
   ],
   "source": [
    "collection.find_one()"
   ]
  },
  {
   "cell_type": "code",
   "execution_count": 28,
   "metadata": {},
   "outputs": [
    {
     "data": {
      "text/plain": [
       "<pymongo.results.InsertManyResult at 0x1dcc3097fd0>"
      ]
     },
     "execution_count": 28,
     "metadata": {},
     "output_type": "execute_result"
    }
   ],
   "source": [
    "data = [\n",
    "    {\n",
    "        'name' : 'test1',\n",
    "        'phone':'010123123',\n",
    "        'gender':'male',\n",
    "    },{\n",
    "        'loc':'seoul'}\n",
    "]\n",
    "collection.insert_many(data)"
   ]
  },
  {
   "cell_type": "code",
   "execution_count": 29,
   "metadata": {},
   "outputs": [
    {
     "data": {
      "text/plain": [
       "[{'_id': ObjectId('643f8ae82ab0aefde870513c'), 'id': 'test', 'pass': '1234'},\n",
       " {'_id': ObjectId('643f8ccf2ab0aefde870513d'),\n",
       "  'name': 'test1',\n",
       "  'phone': '010123123',\n",
       "  'gender': 'male'},\n",
       " {'_id': ObjectId('643f8ccf2ab0aefde870513e'), 'loc': 'seoul'},\n",
       " {'_id': ObjectId('643f91cb2ab0aefde8705140'), 'id': 'test', 'pass': '1234'},\n",
       " {'_id': ObjectId('643f91cb2ab0aefde8705141'),\n",
       "  'name': 'test1',\n",
       "  'phone': '010123123',\n",
       "  'gender': 'male'},\n",
       " {'_id': ObjectId('643f91cb2ab0aefde8705142'), 'loc': 'seoul'}]"
      ]
     },
     "execution_count": 29,
     "metadata": {},
     "output_type": "execute_result"
    }
   ],
   "source": [
    "list(collection.find())"
   ]
  },
  {
   "attachments": {},
   "cell_type": "markdown",
   "metadata": {},
   "source": [
    "1. sql에서 test table에서 name이 test1인 경우의 데이터를 출력\n",
    "    - select * from test when name = 'test1\n",
    "    "
   ]
  },
  {
   "cell_type": "code",
   "execution_count": 31,
   "metadata": {},
   "outputs": [
    {
     "data": {
      "text/plain": [
       "[{'_id': ObjectId('643f8ccf2ab0aefde870513d'),\n",
       "  'name': 'test1',\n",
       "  'phone': '010123123',\n",
       "  'gender': 'male'},\n",
       " {'_id': ObjectId('643f91cb2ab0aefde8705141'),\n",
       "  'name': 'test1',\n",
       "  'phone': '010123123',\n",
       "  'gender': 'male'}]"
      ]
     },
     "execution_count": 31,
     "metadata": {},
     "output_type": "execute_result"
    }
   ],
   "source": [
    "list(collection.find({\"name\":\"test1\"}))"
   ]
  },
  {
   "attachments": {},
   "cell_type": "markdown",
   "metadata": {},
   "source": [
    "1. 해당하는 컬럼의 데이터만 출력하려면\n",
    "    -select name from test"
   ]
  },
  {
   "cell_type": "code",
   "execution_count": 33,
   "metadata": {},
   "outputs": [
    {
     "data": {
      "text/plain": [
       "[{'_id': ObjectId('643f8ae82ab0aefde870513c')},\n",
       " {'_id': ObjectId('643f8ccf2ab0aefde870513d'), 'name': 'test1'},\n",
       " {'_id': ObjectId('643f8ccf2ab0aefde870513e')},\n",
       " {'_id': ObjectId('643f91cb2ab0aefde8705140')},\n",
       " {'_id': ObjectId('643f91cb2ab0aefde8705141'), 'name': 'test1'},\n",
       " {'_id': ObjectId('643f91cb2ab0aefde8705142')}]"
      ]
     },
     "execution_count": 33,
     "metadata": {},
     "output_type": "execute_result"
    }
   ],
   "source": [
    "list(collection.find({},{'name':1}))"
   ]
  },
  {
   "attachments": {},
   "cell_type": "markdown",
   "metadata": {},
   "source": [
    "1. 데이터의 수정\n",
    "    - update test set pass= '0000' where id= 'test'\n",
    "    - test 테이블에 id가 test인 데이터에서 pass의 값을 0000으로 수정하겠다"
   ]
  },
  {
   "cell_type": "code",
   "execution_count": 34,
   "metadata": {},
   "outputs": [
    {
     "data": {
      "text/plain": [
       "<pymongo.results.UpdateResult at 0x1dcc2846440>"
      ]
     },
     "execution_count": 34,
     "metadata": {},
     "output_type": "execute_result"
    }
   ],
   "source": [
    "# update\n",
    "collection.update_one(\n",
    "    { \"id\" : \"test\"},\n",
    "    {\"$set\":{'pass': '0000'}}\n",
    ")"
   ]
  },
  {
   "cell_type": "code",
   "execution_count": 36,
   "metadata": {},
   "outputs": [
    {
     "data": {
      "text/plain": [
       "{'_id': ObjectId('643f8ae82ab0aefde870513c'), 'id': 'test', 'pass': '0000'}"
      ]
     },
     "execution_count": 36,
     "metadata": {},
     "output_type": "execute_result"
    }
   ],
   "source": [
    "collection.find_one()"
   ]
  },
  {
   "attachments": {},
   "cell_type": "markdown",
   "metadata": {},
   "source": [
    "1. 데이터의 삭제\n",
    "    - delete from test where id ='test'\n",
    "    - test 테이블에서 id가 'test'인 데이터를 삭제"
   ]
  },
  {
   "cell_type": "code",
   "execution_count": 37,
   "metadata": {},
   "outputs": [
    {
     "data": {
      "text/plain": [
       "<pymongo.results.DeleteResult at 0x1dcc3587280>"
      ]
     },
     "execution_count": 37,
     "metadata": {},
     "output_type": "execute_result"
    }
   ],
   "source": [
    "collection.delete_one(\n",
    "    {'id':'test'}\n",
    ")"
   ]
  },
  {
   "cell_type": "code",
   "execution_count": 38,
   "metadata": {},
   "outputs": [
    {
     "data": {
      "text/plain": [
       "[{'_id': ObjectId('643f8ccf2ab0aefde870513d'),\n",
       "  'name': 'test1',\n",
       "  'phone': '010123123',\n",
       "  'gender': 'male'},\n",
       " {'_id': ObjectId('643f8ccf2ab0aefde870513e'), 'loc': 'seoul'},\n",
       " {'_id': ObjectId('643f91cb2ab0aefde8705140'), 'id': 'test', 'pass': '1234'},\n",
       " {'_id': ObjectId('643f91cb2ab0aefde8705141'),\n",
       "  'name': 'test1',\n",
       "  'phone': '010123123',\n",
       "  'gender': 'male'},\n",
       " {'_id': ObjectId('643f91cb2ab0aefde8705142'), 'loc': 'seoul'}]"
      ]
     },
     "execution_count": 38,
     "metadata": {},
     "output_type": "execute_result"
    }
   ],
   "source": [
    "list(collection.find())"
   ]
  },
  {
   "cell_type": "code",
   "execution_count": 39,
   "metadata": {},
   "outputs": [
    {
     "data": {
      "text/plain": [
       "[{'_id': ObjectId('643f8ccf2ab0aefde870513d'),\n",
       "  'name': 'test1',\n",
       "  'phone': '010123123',\n",
       "  'gender': 'male'},\n",
       " {'_id': ObjectId('643f8ccf2ab0aefde870513e'), 'loc': 'seoul'},\n",
       " {'_id': ObjectId('643f91cb2ab0aefde8705140'), 'id': 'test', 'pass': '1234'},\n",
       " {'_id': ObjectId('643f91cb2ab0aefde8705141'),\n",
       "  'name': 'test1',\n",
       "  'phone': '010123123',\n",
       "  'gender': 'male'},\n",
       " {'_id': ObjectId('643f91cb2ab0aefde8705142'), 'loc': 'seoul'}]"
      ]
     },
     "execution_count": 39,
     "metadata": {},
     "output_type": "execute_result"
    }
   ],
   "source": [
    "list(client['ubion']['test'].find())"
   ]
  },
  {
   "attachments": {},
   "cell_type": "markdown",
   "metadata": {},
   "source": [
    "### mongodb select 조건식\n",
    "\n",
    "- find(옵션1, 옵션2, 옵션3,...,컬럼 선택)\n",
    "    1. db.collection.find() -> select * from TABLE\n",
    "    2. db.collection.find({},{\"id\":1, \"pass\":1}) -> select id, pass from TABLE\n",
    "    3. db.collection.find({},{\"id\":1, \"pass\":1,\"_id\":0}) -> 2번과정과 같은 sql문이지만 _id를 보여주지 않겠다\n",
    "    4. db.collection.find({\"id\":\"test\"}) -> select * from TABLE where id = 'test'\n",
    "    5. db.collection.find({\"id\":\"test\",\"pass\":\"1234\"}) -> select * from TABLE where id = 'test' and pass = '1234'\n",
    "    6. db.collection.find"
   ]
  },
  {
   "cell_type": "code",
   "execution_count": null,
   "metadata": {},
   "outputs": [],
   "source": []
  }
 ],
 "metadata": {
  "kernelspec": {
   "display_name": "Python 3",
   "language": "python",
   "name": "python3"
  },
  "language_info": {
   "codemirror_mode": {
    "name": "ipython",
    "version": 3
   },
   "file_extension": ".py",
   "mimetype": "text/x-python",
   "name": "python",
   "nbconvert_exporter": "python",
   "pygments_lexer": "ipython3",
   "version": "3.11.2"
  },
  "orig_nbformat": 4
 },
 "nbformat": 4,
 "nbformat_minor": 2
}
